{
 "cells": [
  {
   "cell_type": "code",
   "execution_count": 11,
   "id": "386b0ff4-9087-428e-b330-3e671eec6a47",
   "metadata": {},
   "outputs": [],
   "source": [
    "import polars as pl\n",
    "import plotnine as p9"
   ]
  },
  {
   "cell_type": "code",
   "execution_count": 3,
   "id": "29f129df-f43a-429c-b586-fedb570d7827",
   "metadata": {},
   "outputs": [],
   "source": [
    "files = [\"search_query\",\n",
    "\"page_visit\",\n",
    " \"add_to_cart\",\n",
    " \"remove_from_cart\",\n",
    " \"product_properties\",\n",
    " \"product_buy\",\n",
    "]"
   ]
  },
  {
   "cell_type": "code",
   "execution_count": 4,
   "id": "f89dbbd3-95a5-44ea-b663-462b1c16a1cb",
   "metadata": {},
   "outputs": [],
   "source": [
    "def list_int(df:pl.DataFrame,column:str):\n",
    "    \"\"\" take string column of form \"[ <int_1><spaces><int>...<int_16>]\" and convert into list of int 16s.\"\"\"\n",
    "    df = (\n",
    "        df.with_columns(\n",
    "            pl.col(column).str.replace_all(\" {2,}\",\" \")\n",
    "            .str.strip_chars(\"[] \")\n",
    "            .str.split(\" \")\n",
    "            .cast(pl.List(pl.Int16))\n",
    "        )\n",
    "    )\n",
    "    return df"
   ]
  },
  {
   "cell_type": "code",
   "execution_count": 5,
   "id": "fae8a2f6-8129-42fe-96f7-fe1f769531ae",
   "metadata": {},
   "outputs": [],
   "source": [
    "dfs = {f: pl.read_parquet(f\"ubc_data/{f}.parquet\") for f in files}"
   ]
  },
  {
   "cell_type": "code",
   "execution_count": 6,
   "id": "d45468e9-3d8e-4ccc-add0-b4731d182893",
   "metadata": {},
   "outputs": [],
   "source": [
    "for file in files:\n",
    "    if \"timestamp\" in dfs[file].columns:\n",
    "        dfs[file] = dfs[file].with_columns(pl.col(\"timestamp\").str.to_datetime(time_unit=\"ms\"))\n",
    "dfs[\"search_query\"] = list_int(dfs[\"search_query\"], \"query\")\n",
    "dfs[\"product_properties\"] = list_int(dfs[\"product_properties\"], \"name\")"
   ]
  },
  {
   "cell_type": "code",
   "execution_count": 48,
   "id": "d5c10fde-9f19-4100-8228-30b01c310d91",
   "metadata": {},
   "outputs": [],
   "source": [
    "dfs[\"search_query\"] = list_int(dfs[\"search_query\"], \"query\")"
   ]
  },
  {
   "cell_type": "code",
   "execution_count": 7,
   "id": "614d14a1-9c51-43f8-8486-ba98542bd5f7",
   "metadata": {},
   "outputs": [
    {
     "data": {
      "text/html": [
       "<div><style>\n",
       ".dataframe > thead > tr,\n",
       ".dataframe > tbody > tr {\n",
       "  text-align: right;\n",
       "  white-space: pre-wrap;\n",
       "}\n",
       "</style>\n",
       "<small>shape: (5, 3)</small><table border=\"1\" class=\"dataframe\"><thead><tr><th>client_id</th><th>timestamp</th><th>query</th></tr><tr><td>i64</td><td>datetime[ms]</td><td>list[i16]</td></tr></thead><tbody><tr><td>17649961</td><td>2022-08-05 08:59:55</td><td>[21, 21, … 13]</td></tr><tr><td>17649961</td><td>2022-08-05 09:00:59</td><td>[21, 21, … 13]</td></tr><tr><td>17649961</td><td>2022-08-05 09:00:59</td><td>[21, 21, … 13]</td></tr><tr><td>17649961</td><td>2022-08-05 09:30:20</td><td>[21, 21, … 13]</td></tr><tr><td>17649961</td><td>2022-08-05 09:30:20</td><td>[21, 21, … 13]</td></tr></tbody></table></div>"
      ],
      "text/plain": [
       "shape: (5, 3)\n",
       "┌───────────┬─────────────────────┬────────────────┐\n",
       "│ client_id ┆ timestamp           ┆ query          │\n",
       "│ ---       ┆ ---                 ┆ ---            │\n",
       "│ i64       ┆ datetime[ms]        ┆ list[i16]      │\n",
       "╞═══════════╪═════════════════════╪════════════════╡\n",
       "│ 17649961  ┆ 2022-08-05 08:59:55 ┆ [21, 21, … 13] │\n",
       "│ 17649961  ┆ 2022-08-05 09:00:59 ┆ [21, 21, … 13] │\n",
       "│ 17649961  ┆ 2022-08-05 09:00:59 ┆ [21, 21, … 13] │\n",
       "│ 17649961  ┆ 2022-08-05 09:30:20 ┆ [21, 21, … 13] │\n",
       "│ 17649961  ┆ 2022-08-05 09:30:20 ┆ [21, 21, … 13] │\n",
       "└───────────┴─────────────────────┴────────────────┘"
      ]
     },
     "execution_count": 7,
     "metadata": {},
     "output_type": "execute_result"
    }
   ],
   "source": [
    "dfs[\"search_query\"].head()"
   ]
  },
  {
   "cell_type": "code",
   "execution_count": 49,
   "id": "7dcda6d4-0996-455f-9451-d99bf0f84cbe",
   "metadata": {},
   "outputs": [],
   "source": [
    "dfs[\"product_properties\"] = list_int(dfs[\"product_properties\"], \"name\")"
   ]
  },
  {
   "cell_type": "code",
   "execution_count": 50,
   "id": "fccd8b65-e7b7-48cc-93a8-7acee1d51d5a",
   "metadata": {},
   "outputs": [],
   "source": [
    "!mkdir ubc_data_typed"
   ]
  },
  {
   "cell_type": "code",
   "execution_count": 8,
   "id": "2bef1b7d-3aa2-4d78-a755-747f4f7f2002",
   "metadata": {},
   "outputs": [],
   "source": [
    "for f in files:\n",
    "    dfs[f].write_parquet(f\"ubc_data_typed/{f}.parquet\")"
   ]
  },
  {
   "cell_type": "code",
   "execution_count": 5,
   "id": "2f28d76d-272b-4dbc-9547-13e5c0f84893",
   "metadata": {},
   "outputs": [
    {
     "data": {
      "text/html": [
       "<div><style>\n",
       ".dataframe > thead > tr,\n",
       ".dataframe > tbody > tr {\n",
       "  text-align: right;\n",
       "  white-space: pre-wrap;\n",
       "}\n",
       "</style>\n",
       "<small>shape: (5, 3)</small><table border=\"1\" class=\"dataframe\"><thead><tr><th>client_id</th><th>timestamp</th><th>query</th></tr><tr><td>i64</td><td>datetime[ms]</td><td>str</td></tr></thead><tbody><tr><td>17649961</td><td>2022-08-05 08:59:55</td><td>&quot;[ 21&nbsp;&nbsp;21&nbsp;&nbsp;13 168 158 204 145 2…</td></tr><tr><td>17649961</td><td>2022-08-05 09:00:59</td><td>&quot;[ 21&nbsp;&nbsp;21&nbsp;&nbsp;13 168 158 204 145 2…</td></tr><tr><td>17649961</td><td>2022-08-05 09:00:59</td><td>&quot;[ 21&nbsp;&nbsp;21&nbsp;&nbsp;13 168 158 204 145 2…</td></tr><tr><td>17649961</td><td>2022-08-05 09:30:20</td><td>&quot;[ 21&nbsp;&nbsp;21&nbsp;&nbsp;13 168 158 204 145 2…</td></tr><tr><td>17649961</td><td>2022-08-05 09:30:20</td><td>&quot;[ 21&nbsp;&nbsp;21&nbsp;&nbsp;13 168 158 204 145 2…</td></tr></tbody></table></div>"
      ],
      "text/plain": [
       "shape: (5, 3)\n",
       "┌───────────┬─────────────────────┬─────────────────────────────────┐\n",
       "│ client_id ┆ timestamp           ┆ query                           │\n",
       "│ ---       ┆ ---                 ┆ ---                             │\n",
       "│ i64       ┆ datetime[ms]        ┆ str                             │\n",
       "╞═══════════╪═════════════════════╪═════════════════════════════════╡\n",
       "│ 17649961  ┆ 2022-08-05 08:59:55 ┆ [ 21  21  13 168 158 204 145 2… │\n",
       "│ 17649961  ┆ 2022-08-05 09:00:59 ┆ [ 21  21  13 168 158 204 145 2… │\n",
       "│ 17649961  ┆ 2022-08-05 09:00:59 ┆ [ 21  21  13 168 158 204 145 2… │\n",
       "│ 17649961  ┆ 2022-08-05 09:30:20 ┆ [ 21  21  13 168 158 204 145 2… │\n",
       "│ 17649961  ┆ 2022-08-05 09:30:20 ┆ [ 21  21  13 168 158 204 145 2… │\n",
       "└───────────┴─────────────────────┴─────────────────────────────────┘"
      ]
     },
     "execution_count": 5,
     "metadata": {},
     "output_type": "execute_result"
    }
   ],
   "source": [
    "dfs[\"search_query\"].head()"
   ]
  },
  {
   "cell_type": "code",
   "execution_count": 6,
   "id": "170a473a-34e4-4dc3-9564-7ae1a8a2bf6f",
   "metadata": {},
   "outputs": [
    {
     "data": {
      "text/html": [
       "<div><style>\n",
       ".dataframe > thead > tr,\n",
       ".dataframe > tbody > tr {\n",
       "  text-align: right;\n",
       "  white-space: pre-wrap;\n",
       "}\n",
       "</style>\n",
       "<small>shape: (5, 3)</small><table border=\"1\" class=\"dataframe\"><thead><tr><th>client_id</th><th>timestamp</th><th>url</th></tr><tr><td>i64</td><td>datetime[ms]</td><td>i64</td></tr></thead><tbody><tr><td>13906876</td><td>2022-07-13 10:37:45</td><td>12160626</td></tr><tr><td>13906876</td><td>2022-08-11 18:13:20</td><td>9464384</td></tr><tr><td>7825390</td><td>2022-05-26 10:28:05</td><td>3876331</td></tr><tr><td>13416433</td><td>2022-05-25 18:20:10</td><td>15017297</td></tr><tr><td>13416433</td><td>2022-06-03 20:03:20</td><td>13003066</td></tr></tbody></table></div>"
      ],
      "text/plain": [
       "shape: (5, 3)\n",
       "┌───────────┬─────────────────────┬──────────┐\n",
       "│ client_id ┆ timestamp           ┆ url      │\n",
       "│ ---       ┆ ---                 ┆ ---      │\n",
       "│ i64       ┆ datetime[ms]        ┆ i64      │\n",
       "╞═══════════╪═════════════════════╪══════════╡\n",
       "│ 13906876  ┆ 2022-07-13 10:37:45 ┆ 12160626 │\n",
       "│ 13906876  ┆ 2022-08-11 18:13:20 ┆ 9464384  │\n",
       "│ 7825390   ┆ 2022-05-26 10:28:05 ┆ 3876331  │\n",
       "│ 13416433  ┆ 2022-05-25 18:20:10 ┆ 15017297 │\n",
       "│ 13416433  ┆ 2022-06-03 20:03:20 ┆ 13003066 │\n",
       "└───────────┴─────────────────────┴──────────┘"
      ]
     },
     "execution_count": 6,
     "metadata": {},
     "output_type": "execute_result"
    }
   ],
   "source": [
    "dfs[\"page_visit\"].head()"
   ]
  },
  {
   "cell_type": "code",
   "execution_count": 20,
   "id": "2613b788-d162-4b2c-819f-764c2fab70c3",
   "metadata": {},
   "outputs": [
    {
     "data": {
      "text/html": [
       "<div><style>\n",
       ".dataframe > thead > tr,\n",
       ".dataframe > tbody > tr {\n",
       "  text-align: right;\n",
       "  white-space: pre-wrap;\n",
       "}\n",
       "</style>\n",
       "<small>shape: (5, 3)</small><table border=\"1\" class=\"dataframe\"><thead><tr><th>client_id</th><th>timestamp</th><th>sku</th></tr><tr><td>i64</td><td>datetime[ms]</td><td>i64</td></tr></thead><tbody><tr><td>17649961</td><td>2022-07-23 20:15:25</td><td>18485</td></tr><tr><td>16696114</td><td>2022-07-11 16:31:30</td><td>81192</td></tr><tr><td>10238779</td><td>2022-05-29 19:35:40</td><td>510014</td></tr><tr><td>10238779</td><td>2022-05-29 19:38:05</td><td>510014</td></tr><tr><td>10238779</td><td>2022-05-29 19:38:05</td><td>510014</td></tr></tbody></table></div>"
      ],
      "text/plain": [
       "shape: (5, 3)\n",
       "┌───────────┬─────────────────────┬────────┐\n",
       "│ client_id ┆ timestamp           ┆ sku    │\n",
       "│ ---       ┆ ---                 ┆ ---    │\n",
       "│ i64       ┆ datetime[ms]        ┆ i64    │\n",
       "╞═══════════╪═════════════════════╪════════╡\n",
       "│ 17649961  ┆ 2022-07-23 20:15:25 ┆ 18485  │\n",
       "│ 16696114  ┆ 2022-07-11 16:31:30 ┆ 81192  │\n",
       "│ 10238779  ┆ 2022-05-29 19:35:40 ┆ 510014 │\n",
       "│ 10238779  ┆ 2022-05-29 19:38:05 ┆ 510014 │\n",
       "│ 10238779  ┆ 2022-05-29 19:38:05 ┆ 510014 │\n",
       "└───────────┴─────────────────────┴────────┘"
      ]
     },
     "execution_count": 20,
     "metadata": {},
     "output_type": "execute_result"
    }
   ],
   "source": [
    "dfs[\"product_buy\"].head()"
   ]
  },
  {
   "cell_type": "code",
   "execution_count": null,
   "id": "90f26d2b-67cb-48ad-883a-9d0bd2f176c8",
   "metadata": {},
   "outputs": [],
   "source": []
  },
  {
   "cell_type": "code",
   "execution_count": 75,
   "id": "f3ba5dd8-dc9b-43ef-97c9-dae173464fa4",
   "metadata": {},
   "outputs": [
    {
     "data": {
      "text/plain": [
       "[Int64, Datetime(time_unit='ms', time_zone=None), Int64]"
      ]
     },
     "execution_count": 75,
     "metadata": {},
     "output_type": "execute_result"
    }
   ],
   "source": [
    "dfs[\"product_buy\"].dtypes"
   ]
  },
  {
   "cell_type": "code",
   "execution_count": 12,
   "id": "9705b746-8fe4-4566-ac85-cbf9819493bc",
   "metadata": {},
   "outputs": [],
   "source": [
    "buy = dfs[\"product_buy\"].with_columns(action=pl.lit(\"product_buy\")).join(dfs[\"product_properties\"], on=\"sku\", how=\"left\")\n",
    "add_to_cart = dfs[\"add_to_cart\"].with_columns(action=pl.lit(\"add_to_cart\")).join(dfs[\"product_properties\"], on=\"sku\", how=\"left\")"
   ]
  },
  {
   "cell_type": "code",
   "execution_count": 13,
   "id": "887ab47b-0e90-4000-8e41-f2175a93490f",
   "metadata": {},
   "outputs": [],
   "source": [
    "# Price Histogram"
   ]
  },
  {
   "cell_type": "code",
   "execution_count": null,
   "id": "9cb0f0a5-7f1e-41ac-9fe0-ea9374959205",
   "metadata": {},
   "outputs": [],
   "source": [
    "# price relatively uniform"
   ]
  },
  {
   "cell_type": "code",
   "execution_count": 16,
   "id": "68fca800-171e-45b4-a157-da19ef0c0f06",
   "metadata": {
    "scrolled": true
   },
   "outputs": [
    {
     "data": {
      "image/png": "[encoded data removed]"
     },
     "metadata": {
      "image/png": {
       "height": 480,
       "width": 640
      }
     },
     "output_type": "display_data"
    }
   ],
   "source": [
    "p9.ggplot(dfs[\"product_properties\"],p9.aes(x=\"price\")) + p9.geom_histogram(bins=1000)"
   ]
  },
  {
   "cell_type": "code",
   "execution_count": 22,
   "id": "9f3d6b32-4615-4867-b45d-028a38803b4b",
   "metadata": {},
   "outputs": [
    {
     "data": {
      "image/png": "[encoded data removed]"
     },
     "metadata": {
      "image/png": {
       "height": 480,
       "width": 640
      }
     },
     "output_type": "display_data"
    }
   ],
   "source": [
    "p9.ggplot(dfs[\"product_buy\"],p9.aes(x=\"timestamp\")) + p9.geom_histogram(bins=1000)"
   ]
  },
  {
   "cell_type": "code",
   "execution_count": null,
   "id": "1474e887-f6e1-417c-a66e-63fd49fec574",
   "metadata": {},
   "outputs": [],
   "source": [
    "timestamp relatively uniform"
   ]
  },
  {
   "cell_type": "code",
   "execution_count": 17,
   "id": "d25e21e8-d509-4571-af05-6330789c26cc",
   "metadata": {},
   "outputs": [
    {
     "data": {
      "text/html": [
       "<div><style>\n",
       ".dataframe > thead > tr,\n",
       ".dataframe > tbody > tr {\n",
       "  text-align: right;\n",
       "  white-space: pre-wrap;\n",
       "}\n",
       "</style>\n",
       "<small>shape: (9, 8)</small><table border=\"1\" class=\"dataframe\"><thead><tr><th>statistic</th><th>client_id</th><th>timestamp</th><th>sku</th><th>action</th><th>category</th><th>price</th><th>name</th></tr><tr><td>str</td><td>f64</td><td>str</td><td>f64</td><td>str</td><td>f64</td><td>f64</td><td>f64</td></tr></thead><tbody><tr><td>&quot;count&quot;</td><td>1.682296e6</td><td>&quot;1682296&quot;</td><td>1.682296e6</td><td>&quot;1682296&quot;</td><td>1.682296e6</td><td>1.682296e6</td><td>1.682296e6</td></tr><tr><td>&quot;null_count&quot;</td><td>0.0</td><td>&quot;0&quot;</td><td>0.0</td><td>&quot;0&quot;</td><td>0.0</td><td>0.0</td><td>0.0</td></tr><tr><td>&quot;mean&quot;</td><td>1.1941e7</td><td>&quot;2022-08-03 16:59:32.528000&quot;</td><td>746549.671699</td><td>null</td><td>3547.154632</td><td>51.303007</td><td>null</td></tr><tr><td>&quot;std&quot;</td><td>6.8918e6</td><td>null</td><td>433618.826745</td><td>null</td><td>1916.609451</td><td>27.211957</td><td>null</td></tr><tr><td>&quot;min&quot;</td><td>14.0</td><td>&quot;2022-05-23 00:10:40&quot;</td><td>4.0</td><td>&quot;product_buy&quot;</td><td>0.0</td><td>0.0</td><td>null</td></tr><tr><td>&quot;25%&quot;</td><td>5.964836e6</td><td>&quot;2022-06-29 09:17:00&quot;</td><td>369890.0</td><td>null</td><td>1946.0</td><td>29.0</td><td>null</td></tr><tr><td>&quot;50%&quot;</td><td>1.1924383e7</td><td>&quot;2022-08-04 06:37:45&quot;</td><td>745837.0</td><td>null</td><td>3509.0</td><td>53.0</td><td>null</td></tr><tr><td>&quot;75%&quot;</td><td>1.791873e7</td><td>&quot;2022-09-08 09:56:50&quot;</td><td>1.121913e6</td><td>null</td><td>5197.0</td><td>74.0</td><td>null</td></tr><tr><td>&quot;max&quot;</td><td>2.3875234e7</td><td>&quot;2022-10-10 23:59:25&quot;</td><td>1.495777e6</td><td>&quot;product_buy&quot;</td><td>6918.0</td><td>99.0</td><td>null</td></tr></tbody></table></div>"
      ],
      "text/plain": [
       "shape: (9, 8)\n",
       "┌────────────┬────────────┬────────────┬───────────┬───────────┬───────────┬───────────┬───────────┐\n",
       "│ statistic  ┆ client_id  ┆ timestamp  ┆ sku       ┆ action    ┆ category  ┆ price     ┆ name      │\n",
       "│ ---        ┆ ---        ┆ ---        ┆ ---       ┆ ---       ┆ ---       ┆ ---       ┆ ---       │\n",
       "│ str        ┆ f64        ┆ str        ┆ f64       ┆ str       ┆ f64       ┆ f64       ┆ f64       │\n",
       "╞════════════╪════════════╪════════════╪═══════════╪═══════════╪═══════════╪═══════════╪═══════════╡\n",
       "│ count      ┆ 1.682296e6 ┆ 1682296    ┆ 1.682296e ┆ 1682296   ┆ 1.682296e ┆ 1.682296e ┆ 1.682296e │\n",
       "│            ┆            ┆            ┆ 6         ┆           ┆ 6         ┆ 6         ┆ 6         │\n",
       "│ null_count ┆ 0.0        ┆ 0          ┆ 0.0       ┆ 0         ┆ 0.0       ┆ 0.0       ┆ 0.0       │\n",
       "│ mean       ┆ 1.1941e7   ┆ 2022-08-03 ┆ 746549.67 ┆ null      ┆ 3547.1546 ┆ 51.303007 ┆ null      │\n",
       "│            ┆            ┆ 16:59:32.5 ┆ 1699      ┆           ┆ 32        ┆           ┆           │\n",
       "│            ┆            ┆ 28000      ┆           ┆           ┆           ┆           ┆           │\n",
       "│ std        ┆ 6.8918e6   ┆ null       ┆ 433618.82 ┆ null      ┆ 1916.6094 ┆ 27.211957 ┆ null      │\n",
       "│            ┆            ┆            ┆ 6745      ┆           ┆ 51        ┆           ┆           │\n",
       "│ min        ┆ 14.0       ┆ 2022-05-23 ┆ 4.0       ┆ product_b ┆ 0.0       ┆ 0.0       ┆ null      │\n",
       "│            ┆            ┆ 00:10:40   ┆           ┆ uy        ┆           ┆           ┆           │\n",
       "│ 25%        ┆ 5.964836e6 ┆ 2022-06-29 ┆ 369890.0  ┆ null      ┆ 1946.0    ┆ 29.0      ┆ null      │\n",
       "│            ┆            ┆ 09:17:00   ┆           ┆           ┆           ┆           ┆           │\n",
       "│ 50%        ┆ 1.1924383e ┆ 2022-08-04 ┆ 745837.0  ┆ null      ┆ 3509.0    ┆ 53.0      ┆ null      │\n",
       "│            ┆ 7          ┆ 06:37:45   ┆           ┆           ┆           ┆           ┆           │\n",
       "│ 75%        ┆ 1.791873e7 ┆ 2022-09-08 ┆ 1.121913e ┆ null      ┆ 5197.0    ┆ 74.0      ┆ null      │\n",
       "│            ┆            ┆ 09:56:50   ┆ 6         ┆           ┆           ┆           ┆           │\n",
       "│ max        ┆ 2.3875234e ┆ 2022-10-10 ┆ 1.495777e ┆ product_b ┆ 6918.0    ┆ 99.0      ┆ null      │\n",
       "│            ┆ 7          ┆ 23:59:25   ┆ 6         ┆ uy        ┆           ┆           ┆           │\n",
       "└────────────┴────────────┴────────────┴───────────┴───────────┴───────────┴───────────┴───────────┘"
      ]
     },
     "execution_count": 17,
     "metadata": {},
     "output_type": "execute_result"
    }
   ],
   "source": [
    "buy.describe()"
   ]
  },
  {
   "cell_type": "code",
   "execution_count": 19,
   "id": "74a60fdc-34b0-4bea-9738-e1e11d0d4f55",
   "metadata": {},
   "outputs": [
    {
     "data": {
      "text/html": [
       "<div><style>\n",
       ".dataframe > thead > tr,\n",
       ".dataframe > tbody > tr {\n",
       "  text-align: right;\n",
       "  white-space: pre-wrap;\n",
       "}\n",
       "</style>\n",
       "<small>shape: (1, 7)</small><table border=\"1\" class=\"dataframe\"><thead><tr><th>client_id</th><th>timestamp</th><th>sku</th><th>action</th><th>category</th><th>price</th><th>name</th></tr><tr><td>u32</td><td>u32</td><td>u32</td><td>u32</td><td>u32</td><td>u32</td><td>u32</td></tr></thead><tbody><tr><td>750860</td><td>827453</td><td>507107</td><td>1</td><td>6089</td><td>100</td><td>409517</td></tr></tbody></table></div>"
      ],
      "text/plain": [
       "shape: (1, 7)\n",
       "┌───────────┬───────────┬────────┬────────┬──────────┬───────┬────────┐\n",
       "│ client_id ┆ timestamp ┆ sku    ┆ action ┆ category ┆ price ┆ name   │\n",
       "│ ---       ┆ ---       ┆ ---    ┆ ---    ┆ ---      ┆ ---   ┆ ---    │\n",
       "│ u32       ┆ u32       ┆ u32    ┆ u32    ┆ u32      ┆ u32   ┆ u32    │\n",
       "╞═══════════╪═══════════╪════════╪════════╪══════════╪═══════╪════════╡\n",
       "│ 750860    ┆ 827453    ┆ 507107 ┆ 1      ┆ 6089     ┆ 100   ┆ 409517 │\n",
       "└───────────┴───────────┴────────┴────────┴──────────┴───────┴────────┘"
      ]
     },
     "execution_count": 19,
     "metadata": {},
     "output_type": "execute_result"
    }
   ],
   "source": [
    "buy.select(pl.all().n_unique())"
   ]
  },
  {
   "cell_type": "code",
   "execution_count": 21,
   "id": "9733fa06-183a-4798-9edb-dc4a90ee9e68",
   "metadata": {},
   "outputs": [
    {
     "ename": "SyntaxError",
     "evalue": "invalid syntax (2650589948.py, line 1)",
     "output_type": "error",
     "traceback": [
      "  \u001b[36mCell\u001b[39m\u001b[36m \u001b[39m\u001b[32mIn[21]\u001b[39m\u001b[32m, line 1\u001b[39m\n\u001b[31m    \u001b[39m\u001b[31m1.7 million purchases, 750,000 clients, 500,000 items, 6089 categories\u001b[39m\n        ^\n\u001b[31mSyntaxError\u001b[39m\u001b[31m:\u001b[39m invalid syntax\n"
     ]
    }
   ],
   "source": [
    "1.7 million purchases, 750,000 clients, 500,000 items, 409000 names 6089 categories."
   ]
  },
  {
   "cell_type": "code",
   "execution_count": 30,
   "id": "e2abca16-cd16-4956-8fe3-f4c05eb81c67",
   "metadata": {},
   "outputs": [],
   "source": [
    "client_buy_stats = (\n",
    "    buy\n",
    "    .group_by(\"client_id\")\n",
    "    .agg(\n",
    "        pl.col(\"sku\").n_unique().alias(\"skus\"),\n",
    "        pl.col(\"category\").n_unique().alias(\"categories\"),\n",
    "        pl.col(\"price\").count().alias(\"sales_count\"),\n",
    "        pl.col(\"price\").mean().alias(\"price_mean\"),\n",
    "        pl.col(\"price\").sum().alias(\"sales_value\"),\n",
    "        (pl.col(\"timestamp\").max() - pl.col(\"timestamp\").min()).alias(\"duration\"),\n",
    "        \n",
    "        \n",
    "    )\n",
    "    .with_columns(frequency=pl.col(\"duration\")/pl.col(\"sales_count\"))\n",
    "    .sort(\"sales_value\",descending=True)\n",
    ")"
   ]
  },
  {
   "cell_type": "code",
   "execution_count": 31,
   "id": "efcbf77b-5c78-4a65-936c-b301148e5ca6",
   "metadata": {},
   "outputs": [
    {
     "data": {
      "text/html": [
       "<div><style>\n",
       ".dataframe > thead > tr,\n",
       ".dataframe > tbody > tr {\n",
       "  text-align: right;\n",
       "  white-space: pre-wrap;\n",
       "}\n",
       "</style>\n",
       "<small>shape: (5, 8)</small><table border=\"1\" class=\"dataframe\"><thead><tr><th>client_id</th><th>skus</th><th>categories</th><th>sales_count</th><th>price_mean</th><th>sales_value</th><th>duration</th><th>frequency</th></tr><tr><td>i64</td><td>u32</td><td>u32</td><td>u32</td><td>f64</td><td>i64</td><td>duration[ms]</td><td>duration[ms]</td></tr></thead><tbody><tr><td>13684077</td><td>21</td><td>8</td><td>665</td><td>61.21203</td><td>40706</td><td>3d 3h 55m 50s</td><td>6m 51s 52ms</td></tr><tr><td>1892456</td><td>23</td><td>3</td><td>374</td><td>89.957219</td><td>33644</td><td>140d 3h 35m 20s</td><td>8h 59m 36s 791ms</td></tr><tr><td>23668014</td><td>5</td><td>3</td><td>472</td><td>52.853814</td><td>24947</td><td>44d 18h 19m 25s</td><td>2h 16m 33s 993ms</td></tr><tr><td>20184912</td><td>12</td><td>8</td><td>440</td><td>56.027273</td><td>24652</td><td>57d 22h 10m 55s</td><td>3h 9m 34s 215ms</td></tr><tr><td>11426458</td><td>383</td><td>10</td><td>553</td><td>30.377939</td><td>16799</td><td>133d 16m 6s</td><td>5h 46m 21s 493ms</td></tr></tbody></table></div>"
      ],
      "text/plain": [
       "shape: (5, 8)\n",
       "┌───────────┬──────┬────────────┬─────────────┬────────────┬─────────────┬────────────┬────────────┐\n",
       "│ client_id ┆ skus ┆ categories ┆ sales_count ┆ price_mean ┆ sales_value ┆ duration   ┆ frequency  │\n",
       "│ ---       ┆ ---  ┆ ---        ┆ ---         ┆ ---        ┆ ---         ┆ ---        ┆ ---        │\n",
       "│ i64       ┆ u32  ┆ u32        ┆ u32         ┆ f64        ┆ i64         ┆ duration[m ┆ duration[m │\n",
       "│           ┆      ┆            ┆             ┆            ┆             ┆ s]         ┆ s]         │\n",
       "╞═══════════╪══════╪════════════╪═════════════╪════════════╪═════════════╪════════════╪════════════╡\n",
       "│ 13684077  ┆ 21   ┆ 8          ┆ 665         ┆ 61.21203   ┆ 40706       ┆ 3d 3h 55m  ┆ 6m 51s     │\n",
       "│           ┆      ┆            ┆             ┆            ┆             ┆ 50s        ┆ 52ms       │\n",
       "│ 1892456   ┆ 23   ┆ 3          ┆ 374         ┆ 89.957219  ┆ 33644       ┆ 140d 3h    ┆ 8h 59m 36s │\n",
       "│           ┆      ┆            ┆             ┆            ┆             ┆ 35m 20s    ┆ 791ms      │\n",
       "│ 23668014  ┆ 5    ┆ 3          ┆ 472         ┆ 52.853814  ┆ 24947       ┆ 44d 18h    ┆ 2h 16m 33s │\n",
       "│           ┆      ┆            ┆             ┆            ┆             ┆ 19m 25s    ┆ 993ms      │\n",
       "│ 20184912  ┆ 12   ┆ 8          ┆ 440         ┆ 56.027273  ┆ 24652       ┆ 57d 22h    ┆ 3h 9m 34s  │\n",
       "│           ┆      ┆            ┆             ┆            ┆             ┆ 10m 55s    ┆ 215ms      │\n",
       "│ 11426458  ┆ 383  ┆ 10         ┆ 553         ┆ 30.377939  ┆ 16799       ┆ 133d 16m   ┆ 5h 46m 21s │\n",
       "│           ┆      ┆            ┆             ┆            ┆             ┆ 6s         ┆ 493ms      │\n",
       "└───────────┴──────┴────────────┴─────────────┴────────────┴─────────────┴────────────┴────────────┘"
      ]
     },
     "execution_count": 31,
     "metadata": {},
     "output_type": "execute_result"
    }
   ],
   "source": [
    "client_buy_stats.head()"
   ]
  },
  {
   "cell_type": "code",
   "execution_count": 37,
   "id": "fdd46609-8b30-4b2f-9142-613a017a41d6",
   "metadata": {},
   "outputs": [
    {
     "data": {
      "text/html": [
       "<div><style>\n",
       ".dataframe > thead > tr,\n",
       ".dataframe > tbody > tr {\n",
       "  text-align: right;\n",
       "  white-space: pre-wrap;\n",
       "}\n",
       "</style>\n",
       "<small>shape: (13, 9)</small><table border=\"1\" class=\"dataframe\"><thead><tr><th>statistic</th><th>client_id</th><th>skus</th><th>categories</th><th>sales_count</th><th>price_mean</th><th>sales_value</th><th>duration</th><th>frequency</th></tr><tr><td>str</td><td>f64</td><td>f64</td><td>f64</td><td>f64</td><td>f64</td><td>f64</td><td>str</td><td>str</td></tr></thead><tbody><tr><td>&quot;count&quot;</td><td>750860.0</td><td>750860.0</td><td>750860.0</td><td>750860.0</td><td>750860.0</td><td>750860.0</td><td>&quot;750860&quot;</td><td>&quot;750860&quot;</td></tr><tr><td>&quot;null_count&quot;</td><td>0.0</td><td>0.0</td><td>0.0</td><td>0.0</td><td>0.0</td><td>0.0</td><td>&quot;0&quot;</td><td>&quot;0&quot;</td></tr><tr><td>&quot;mean&quot;</td><td>1.1940e7</td><td>1.813888</td><td>1.555587</td><td>2.240492</td><td>56.779341</td><td>114.943988</td><td>&quot;9 days, 4:35:37.567000&quot;</td><td>&quot;2 days, 12:35:36.092000&quot;</td></tr><tr><td>&quot;std&quot;</td><td>6.8857e6</td><td>2.742158</td><td>1.718789</td><td>3.713613</td><td>23.699825</td><td>154.342931</td><td>null</td><td>null</td></tr><tr><td>&quot;min&quot;</td><td>14.0</td><td>1.0</td><td>1.0</td><td>1.0</td><td>0.0</td><td>0.0</td><td>&quot;0:00:00&quot;</td><td>&quot;0:00:00&quot;</td></tr><tr><td>&hellip;</td><td>&hellip;</td><td>&hellip;</td><td>&hellip;</td><td>&hellip;</td><td>&hellip;</td><td>&hellip;</td><td>&hellip;</td><td>&hellip;</td></tr><tr><td>&quot;50%&quot;</td><td>1.1934371e7</td><td>1.0</td><td>1.0</td><td>1.0</td><td>59.0</td><td>80.0</td><td>&quot;0:00:00&quot;</td><td>&quot;0:00:00&quot;</td></tr><tr><td>&quot;75%&quot;</td><td>1.7895368e7</td><td>2.0</td><td>2.0</td><td>2.0</td><td>76.0</td><td>137.0</td><td>&quot;0:00:00&quot;</td><td>&quot;0:00:00&quot;</td></tr><tr><td>&quot;90%&quot;</td><td>2.1485738e7</td><td>3.0</td><td>3.0</td><td>4.0</td><td>88.0</td><td>219.0</td><td>&quot;37 days, 7:28:55&quot;</td><td>&quot;8 days, 20:27:52.500000&quot;</td></tr><tr><td>&quot;99%&quot;</td><td>2.3637907e7</td><td>11.0</td><td>8.0</td><td>14.0</td><td>98.0</td><td>619.0</td><td>&quot;116 days, 21:47:15&quot;</td><td>&quot;38 days, 6:31:36.666000&quot;</td></tr><tr><td>&quot;max&quot;</td><td>2.3875234e7</td><td>383.0</td><td>122.0</td><td>665.0</td><td>99.0</td><td>40706.0</td><td>&quot;140 days, 13:23:15&quot;</td><td>&quot;70 days, 5:26:12.500000&quot;</td></tr></tbody></table></div>"
      ],
      "text/plain": [
       "shape: (13, 9)\n",
       "┌───────────┬───────────┬──────────┬───────────┬───┬───────────┬───────────┬───────────┬───────────┐\n",
       "│ statistic ┆ client_id ┆ skus     ┆ categorie ┆ … ┆ price_mea ┆ sales_val ┆ duration  ┆ frequency │\n",
       "│ ---       ┆ ---       ┆ ---      ┆ s         ┆   ┆ n         ┆ ue        ┆ ---       ┆ ---       │\n",
       "│ str       ┆ f64       ┆ f64      ┆ ---       ┆   ┆ ---       ┆ ---       ┆ str       ┆ str       │\n",
       "│           ┆           ┆          ┆ f64       ┆   ┆ f64       ┆ f64       ┆           ┆           │\n",
       "╞═══════════╪═══════════╪══════════╪═══════════╪═══╪═══════════╪═══════════╪═══════════╪═══════════╡\n",
       "│ count     ┆ 750860.0  ┆ 750860.0 ┆ 750860.0  ┆ … ┆ 750860.0  ┆ 750860.0  ┆ 750860    ┆ 750860    │\n",
       "│ null_coun ┆ 0.0       ┆ 0.0      ┆ 0.0       ┆ … ┆ 0.0       ┆ 0.0       ┆ 0         ┆ 0         │\n",
       "│ t         ┆           ┆          ┆           ┆   ┆           ┆           ┆           ┆           │\n",
       "│ mean      ┆ 1.1940e7  ┆ 1.813888 ┆ 1.555587  ┆ … ┆ 56.779341 ┆ 114.94398 ┆ 9 days,   ┆ 2 days,   │\n",
       "│           ┆           ┆          ┆           ┆   ┆           ┆ 8         ┆ 4:35:37.5 ┆ 12:35:36. │\n",
       "│           ┆           ┆          ┆           ┆   ┆           ┆           ┆ 67000     ┆ 092000    │\n",
       "│ std       ┆ 6.8857e6  ┆ 2.742158 ┆ 1.718789  ┆ … ┆ 23.699825 ┆ 154.34293 ┆ null      ┆ null      │\n",
       "│           ┆           ┆          ┆           ┆   ┆           ┆ 1         ┆           ┆           │\n",
       "│ min       ┆ 14.0      ┆ 1.0      ┆ 1.0       ┆ … ┆ 0.0       ┆ 0.0       ┆ 0:00:00   ┆ 0:00:00   │\n",
       "│ …         ┆ …         ┆ …        ┆ …         ┆ … ┆ …         ┆ …         ┆ …         ┆ …         │\n",
       "│ 50%       ┆ 1.1934371 ┆ 1.0      ┆ 1.0       ┆ … ┆ 59.0      ┆ 80.0      ┆ 0:00:00   ┆ 0:00:00   │\n",
       "│           ┆ e7        ┆          ┆           ┆   ┆           ┆           ┆           ┆           │\n",
       "│ 75%       ┆ 1.7895368 ┆ 2.0      ┆ 2.0       ┆ … ┆ 76.0      ┆ 137.0     ┆ 0:00:00   ┆ 0:00:00   │\n",
       "│           ┆ e7        ┆          ┆           ┆   ┆           ┆           ┆           ┆           │\n",
       "│ 90%       ┆ 2.1485738 ┆ 3.0      ┆ 3.0       ┆ … ┆ 88.0      ┆ 219.0     ┆ 37 days,  ┆ 8 days,   │\n",
       "│           ┆ e7        ┆          ┆           ┆   ┆           ┆           ┆ 7:28:55   ┆ 20:27:52. │\n",
       "│           ┆           ┆          ┆           ┆   ┆           ┆           ┆           ┆ 500000    │\n",
       "│ 99%       ┆ 2.3637907 ┆ 11.0     ┆ 8.0       ┆ … ┆ 98.0      ┆ 619.0     ┆ 116 days, ┆ 38 days,  │\n",
       "│           ┆ e7        ┆          ┆           ┆   ┆           ┆           ┆ 21:47:15  ┆ 6:31:36.6 │\n",
       "│           ┆           ┆          ┆           ┆   ┆           ┆           ┆           ┆ 66000     │\n",
       "│ max       ┆ 2.3875234 ┆ 383.0    ┆ 122.0     ┆ … ┆ 99.0      ┆ 40706.0   ┆ 140 days, ┆ 70 days,  │\n",
       "│           ┆ e7        ┆          ┆           ┆   ┆           ┆           ┆ 13:23:15  ┆ 5:26:12.5 │\n",
       "│           ┆           ┆          ┆           ┆   ┆           ┆           ┆           ┆ 00000     │\n",
       "└───────────┴───────────┴──────────┴───────────┴───┴───────────┴───────────┴───────────┴───────────┘"
      ]
     },
     "execution_count": 37,
     "metadata": {},
     "output_type": "execute_result"
    }
   ],
   "source": [
    "client_buy_stats.describe(percentiles=[0.01,.1,.25,.5,.75,.9,.99])"
   ]
  },
  {
   "cell_type": "code",
   "execution_count": null,
   "id": "925a9d79-2488-4509-8b87-f871faf51a61",
   "metadata": {},
   "outputs": [],
   "source": [
    "75% of clients "
   ]
  },
  {
   "cell_type": "code",
   "execution_count": 35,
   "id": "d925351b-806c-4adc-ac74-7c65380c0740",
   "metadata": {},
   "outputs": [
    {
     "data": {
      "image/png": "[encoded data removed]"
     },
     "metadata": {
      "image/png": {
       "height": 480,
       "width": 640
      }
     },
     "output_type": "display_data"
    }
   ],
   "source": [
    "p9.ggplot(client_buy_stats,p9.aes(x=\"frequency\")) + p9.geom_histogram(bins=10000)"
   ]
  },
  {
   "cell_type": "code",
   "execution_count": 28,
   "id": "650a6d9b-1648-4db6-9b6a-066116fa7a64",
   "metadata": {},
   "outputs": [
    {
     "data": {
      "text/plain": [
       "58336"
      ]
     },
     "execution_count": 28,
     "metadata": {},
     "output_type": "execute_result"
    }
   ],
   "source": [
    "buy[\"sku\"].n_unique()"
   ]
  },
  {
   "cell_type": "code",
   "execution_count": 37,
   "id": "52c33ec1-4e9c-49cd-a2bb-aae4ac4e6068",
   "metadata": {},
   "outputs": [],
   "source": [
    "skus = buy[\"sku\"].value_counts(sort=True).with_columns(cum_count=pl.col(\"count\").cum_sum()).with_columns(cum_freq=pl.col(\"cum_count\")/pl.col(\"cum_count\").tail(1))"
   ]
  },
  {
   "cell_type": "code",
   "execution_count": 43,
   "id": "b656b4c1-dd42-4f45-8fa2-f85cd6e139ee",
   "metadata": {},
   "outputs": [
    {
     "data": {
      "text/html": [
       "<div><style>\n",
       ".dataframe > thead > tr,\n",
       ".dataframe > tbody > tr {\n",
       "  text-align: right;\n",
       "  white-space: pre-wrap;\n",
       "}\n",
       "</style>\n",
       "<small>shape: (1, 4)</small><table border=\"1\" class=\"dataframe\"><thead><tr><th>sku</th><th>count</th><th>cum_count</th><th>cum_freq</th></tr><tr><td>i64</td><td>u32</td><td>u32</td><td>f64</td></tr></thead><tbody><tr><td>1373834</td><td>1</td><td>81665</td><td>0.81665</td></tr></tbody></table></div>"
      ],
      "text/plain": [
       "shape: (1, 4)\n",
       "┌─────────┬───────┬───────────┬──────────┐\n",
       "│ sku     ┆ count ┆ cum_count ┆ cum_freq │\n",
       "│ ---     ┆ ---   ┆ ---       ┆ ---      │\n",
       "│ i64     ┆ u32   ┆ u32       ┆ f64      │\n",
       "╞═════════╪═══════╪═══════════╪══════════╡\n",
       "│ 1373834 ┆ 1     ┆ 81665     ┆ 0.81665  │\n",
       "└─────────┴───────┴───────────┴──────────┘"
      ]
     },
     "execution_count": 43,
     "metadata": {},
     "output_type": "execute_result"
    }
   ],
   "source": [
    "skus[40000]"
   ]
  },
  {
   "cell_type": "code",
   "execution_count": 44,
   "id": "6a1e0061-f080-4891-91c2-c8d596fab100",
   "metadata": {},
   "outputs": [
    {
     "data": {
      "text/plain": [
       "(58336, 4)"
      ]
     },
     "execution_count": 44,
     "metadata": {},
     "output_type": "execute_result"
    }
   ],
   "source": [
    "skus.shape"
   ]
  },
  {
   "cell_type": "code",
   "execution_count": 50,
   "id": "71ac34d1-a7f0-4a59-8893-8c2c88f9f691",
   "metadata": {},
   "outputs": [
    {
     "data": {
      "text/html": [
       "<div><style>\n",
       ".dataframe > thead > tr,\n",
       ".dataframe > tbody > tr {\n",
       "  text-align: right;\n",
       "  white-space: pre-wrap;\n",
       "}\n",
       "</style>\n",
       "<small>shape: (5, 4)</small><table border=\"1\" class=\"dataframe\"><thead><tr><th>sku</th><th>count</th><th>cum_count</th><th>cum_freq</th></tr><tr><td>i64</td><td>u32</td><td>u32</td><td>f64</td></tr></thead><tbody><tr><td>237442</td><td>109</td><td>109</td><td>0.00109</td></tr><tr><td>1061794</td><td>72</td><td>181</td><td>0.00181</td></tr><tr><td>1326077</td><td>66</td><td>247</td><td>0.00247</td></tr><tr><td>1466277</td><td>61</td><td>308</td><td>0.00308</td></tr><tr><td>604561</td><td>56</td><td>364</td><td>0.00364</td></tr></tbody></table></div>"
      ],
      "text/plain": [
       "shape: (5, 4)\n",
       "┌─────────┬───────┬───────────┬──────────┐\n",
       "│ sku     ┆ count ┆ cum_count ┆ cum_freq │\n",
       "│ ---     ┆ ---   ┆ ---       ┆ ---      │\n",
       "│ i64     ┆ u32   ┆ u32       ┆ f64      │\n",
       "╞═════════╪═══════╪═══════════╪══════════╡\n",
       "│ 237442  ┆ 109   ┆ 109       ┆ 0.00109  │\n",
       "│ 1061794 ┆ 72    ┆ 181       ┆ 0.00181  │\n",
       "│ 1326077 ┆ 66    ┆ 247       ┆ 0.00247  │\n",
       "│ 1466277 ┆ 61    ┆ 308       ┆ 0.00308  │\n",
       "│ 604561  ┆ 56    ┆ 364       ┆ 0.00364  │\n",
       "└─────────┴───────┴───────────┴──────────┘"
      ]
     },
     "execution_count": 50,
     "metadata": {},
     "output_type": "execute_result"
    }
   ],
   "source": [
    "skus.head()"
   ]
  },
  {
   "cell_type": "code",
   "execution_count": null,
   "id": "fdb3c3cb-623f-4ac2-b03b-599b665e45b1",
   "metadata": {},
   "outputs": [],
   "source": []
  },
  {
   "cell_type": "code",
   "execution_count": 68,
   "id": "6f7537b5-4753-4947-9ff7-d99bf2261e2f",
   "metadata": {},
   "outputs": [],
   "source": [
    "product = pl.concat((buy,add_to_cart))"
   ]
  },
  {
   "cell_type": "code",
   "execution_count": 69,
   "id": "bd778636-c088-433e-9c87-c9a93241b20f",
   "metadata": {},
   "outputs": [
    {
     "data": {
      "text/plain": [
       "(2000000, 7)"
      ]
     },
     "execution_count": 69,
     "metadata": {},
     "output_type": "execute_result"
    }
   ],
   "source": [
    "product.shape"
   ]
  },
  {
   "cell_type": "code",
   "execution_count": 70,
   "id": "fc8943d0-d8fb-4554-b1ae-1ec5692c7643",
   "metadata": {},
   "outputs": [
    {
     "data": {
      "text/html": [
       "<div><style>\n",
       ".dataframe > thead > tr,\n",
       ".dataframe > tbody > tr {\n",
       "  text-align: right;\n",
       "  white-space: pre-wrap;\n",
       "}\n",
       "</style>\n",
       "<small>shape: (2, 7)</small><table border=\"1\" class=\"dataframe\"><thead><tr><th>client_id</th><th>timestamp</th><th>sku</th><th>action</th><th>category</th><th>price</th><th>name</th></tr><tr><td>i64</td><td>datetime[ms]</td><td>i64</td><td>str</td><td>i64</td><td>i64</td><td>str</td></tr></thead><tbody><tr><td>4708463</td><td>2022-07-20 02:56:30</td><td>237442</td><td>&quot;add_to_cart&quot;</td><td>2079</td><td>69</td><td>&quot;[230 124 223&nbsp;&nbsp;77 226 148 132 1…</td></tr><tr><td>4708463</td><td>2022-07-20 02:59:45</td><td>237442</td><td>&quot;product_buy&quot;</td><td>2079</td><td>69</td><td>&quot;[230 124 223&nbsp;&nbsp;77 226 148 132 1…</td></tr></tbody></table></div>"
      ],
      "text/plain": [
       "shape: (2, 7)\n",
       "┌───────────┬─────────────────────┬────────┬─────────────┬──────────┬───────┬──────────────────────┐\n",
       "│ client_id ┆ timestamp           ┆ sku    ┆ action      ┆ category ┆ price ┆ name                 │\n",
       "│ ---       ┆ ---                 ┆ ---    ┆ ---         ┆ ---      ┆ ---   ┆ ---                  │\n",
       "│ i64       ┆ datetime[ms]        ┆ i64    ┆ str         ┆ i64      ┆ i64   ┆ str                  │\n",
       "╞═══════════╪═════════════════════╪════════╪═════════════╪══════════╪═══════╪══════════════════════╡\n",
       "│ 4708463   ┆ 2022-07-20 02:56:30 ┆ 237442 ┆ add_to_cart ┆ 2079     ┆ 69    ┆ [230 124 223  77 226 │\n",
       "│           ┆                     ┆        ┆             ┆          ┆       ┆ 148 132 1…           │\n",
       "│ 4708463   ┆ 2022-07-20 02:59:45 ┆ 237442 ┆ product_buy ┆ 2079     ┆ 69    ┆ [230 124 223  77 226 │\n",
       "│           ┆                     ┆        ┆             ┆          ┆       ┆ 148 132 1…           │\n",
       "└───────────┴─────────────────────┴────────┴─────────────┴──────────┴───────┴──────────────────────┘"
      ]
     },
     "execution_count": 70,
     "metadata": {},
     "output_type": "execute_result"
    }
   ],
   "source": [
    "product.filter(pl.col(\"client_id\")==4708463).sort(\"timestamp\")"
   ]
  },
  {
   "cell_type": "code",
   "execution_count": 71,
   "id": "d8df819f-2d6e-4ca3-9e43-3a13007599d8",
   "metadata": {},
   "outputs": [
    {
     "data": {
      "text/html": [
       "<div><style>\n",
       ".dataframe > thead > tr,\n",
       ".dataframe > tbody > tr {\n",
       "  text-align: right;\n",
       "  white-space: pre-wrap;\n",
       "}\n",
       "</style>\n",
       "<small>shape: (800, 7)</small><table border=\"1\" class=\"dataframe\"><thead><tr><th>client_id</th><th>timestamp</th><th>sku</th><th>action</th><th>category</th><th>price</th><th>name</th></tr><tr><td>i64</td><td>datetime[ms]</td><td>i64</td><td>str</td><td>i64</td><td>i64</td><td>str</td></tr></thead><tbody><tr><td>33711</td><td>2022-07-20 07:51:55</td><td>237442</td><td>&quot;product_buy&quot;</td><td>2079</td><td>69</td><td>&quot;[230 124 223&nbsp;&nbsp;77 226 148 132 1…</td></tr><tr><td>178501</td><td>2022-07-19 13:40:55</td><td>237442</td><td>&quot;add_to_cart&quot;</td><td>2079</td><td>69</td><td>&quot;[230 124 223&nbsp;&nbsp;77 226 148 132 1…</td></tr><tr><td>178501</td><td>2022-07-19 13:45:55</td><td>237442</td><td>&quot;product_buy&quot;</td><td>2079</td><td>69</td><td>&quot;[230 124 223&nbsp;&nbsp;77 226 148 132 1…</td></tr><tr><td>257153</td><td>2022-07-20 19:38:05</td><td>237442</td><td>&quot;add_to_cart&quot;</td><td>2079</td><td>69</td><td>&quot;[230 124 223&nbsp;&nbsp;77 226 148 132 1…</td></tr><tr><td>257153</td><td>2022-07-20 19:57:15</td><td>237442</td><td>&quot;add_to_cart&quot;</td><td>2079</td><td>69</td><td>&quot;[230 124 223&nbsp;&nbsp;77 226 148 132 1…</td></tr><tr><td>&hellip;</td><td>&hellip;</td><td>&hellip;</td><td>&hellip;</td><td>&hellip;</td><td>&hellip;</td><td>&hellip;</td></tr><tr><td>23668014</td><td>2022-08-22 04:25:05</td><td>237442</td><td>&quot;product_buy&quot;</td><td>2079</td><td>69</td><td>&quot;[230 124 223&nbsp;&nbsp;77 226 148 132 1…</td></tr><tr><td>23668014</td><td>2022-08-22 04:35:35</td><td>237442</td><td>&quot;add_to_cart&quot;</td><td>2079</td><td>69</td><td>&quot;[230 124 223&nbsp;&nbsp;77 226 148 132 1…</td></tr><tr><td>23732846</td><td>2022-07-19 12:58:50</td><td>237442</td><td>&quot;product_buy&quot;</td><td>2079</td><td>69</td><td>&quot;[230 124 223&nbsp;&nbsp;77 226 148 132 1…</td></tr><tr><td>23846478</td><td>2022-07-19 09:14:15</td><td>237442</td><td>&quot;product_buy&quot;</td><td>2079</td><td>69</td><td>&quot;[230 124 223&nbsp;&nbsp;77 226 148 132 1…</td></tr><tr><td>23848136</td><td>2022-09-08 09:09:10</td><td>237442</td><td>&quot;product_buy&quot;</td><td>2079</td><td>69</td><td>&quot;[230 124 223&nbsp;&nbsp;77 226 148 132 1…</td></tr></tbody></table></div>"
      ],
      "text/plain": [
       "shape: (800, 7)\n",
       "┌───────────┬─────────────────────┬────────┬─────────────┬──────────┬───────┬──────────────────────┐\n",
       "│ client_id ┆ timestamp           ┆ sku    ┆ action      ┆ category ┆ price ┆ name                 │\n",
       "│ ---       ┆ ---                 ┆ ---    ┆ ---         ┆ ---      ┆ ---   ┆ ---                  │\n",
       "│ i64       ┆ datetime[ms]        ┆ i64    ┆ str         ┆ i64      ┆ i64   ┆ str                  │\n",
       "╞═══════════╪═════════════════════╪════════╪═════════════╪══════════╪═══════╪══════════════════════╡\n",
       "│ 33711     ┆ 2022-07-20 07:51:55 ┆ 237442 ┆ product_buy ┆ 2079     ┆ 69    ┆ [230 124 223  77 226 │\n",
       "│           ┆                     ┆        ┆             ┆          ┆       ┆ 148 132 1…           │\n",
       "│ 178501    ┆ 2022-07-19 13:40:55 ┆ 237442 ┆ add_to_cart ┆ 2079     ┆ 69    ┆ [230 124 223  77 226 │\n",
       "│           ┆                     ┆        ┆             ┆          ┆       ┆ 148 132 1…           │\n",
       "│ 178501    ┆ 2022-07-19 13:45:55 ┆ 237442 ┆ product_buy ┆ 2079     ┆ 69    ┆ [230 124 223  77 226 │\n",
       "│           ┆                     ┆        ┆             ┆          ┆       ┆ 148 132 1…           │\n",
       "│ 257153    ┆ 2022-07-20 19:38:05 ┆ 237442 ┆ add_to_cart ┆ 2079     ┆ 69    ┆ [230 124 223  77 226 │\n",
       "│           ┆                     ┆        ┆             ┆          ┆       ┆ 148 132 1…           │\n",
       "│ 257153    ┆ 2022-07-20 19:57:15 ┆ 237442 ┆ add_to_cart ┆ 2079     ┆ 69    ┆ [230 124 223  77 226 │\n",
       "│           ┆                     ┆        ┆             ┆          ┆       ┆ 148 132 1…           │\n",
       "│ …         ┆ …                   ┆ …      ┆ …           ┆ …        ┆ …     ┆ …                    │\n",
       "│ 23668014  ┆ 2022-08-22 04:25:05 ┆ 237442 ┆ product_buy ┆ 2079     ┆ 69    ┆ [230 124 223  77 226 │\n",
       "│           ┆                     ┆        ┆             ┆          ┆       ┆ 148 132 1…           │\n",
       "│ 23668014  ┆ 2022-08-22 04:35:35 ┆ 237442 ┆ add_to_cart ┆ 2079     ┆ 69    ┆ [230 124 223  77 226 │\n",
       "│           ┆                     ┆        ┆             ┆          ┆       ┆ 148 132 1…           │\n",
       "│ 23732846  ┆ 2022-07-19 12:58:50 ┆ 237442 ┆ product_buy ┆ 2079     ┆ 69    ┆ [230 124 223  77 226 │\n",
       "│           ┆                     ┆        ┆             ┆          ┆       ┆ 148 132 1…           │\n",
       "│ 23846478  ┆ 2022-07-19 09:14:15 ┆ 237442 ┆ product_buy ┆ 2079     ┆ 69    ┆ [230 124 223  77 226 │\n",
       "│           ┆                     ┆        ┆             ┆          ┆       ┆ 148 132 1…           │\n",
       "│ 23848136  ┆ 2022-09-08 09:09:10 ┆ 237442 ┆ product_buy ┆ 2079     ┆ 69    ┆ [230 124 223  77 226 │\n",
       "│           ┆                     ┆        ┆             ┆          ┆       ┆ 148 132 1…           │\n",
       "└───────────┴─────────────────────┴────────┴─────────────┴──────────┴───────┴──────────────────────┘"
      ]
     },
     "execution_count": 71,
     "metadata": {},
     "output_type": "execute_result"
    }
   ],
   "source": [
    "product.filter(pl.col(\"sku\")==237442).sort(\"client_id\",\"timestamp\")"
   ]
  },
  {
   "cell_type": "code",
   "execution_count": 72,
   "id": "927fa5f1-4a07-4557-b80d-88aa225bca6e",
   "metadata": {},
   "outputs": [
    {
     "data": {
      "text/html": [
       "<div><style>\n",
       ".dataframe > thead > tr,\n",
       ".dataframe > tbody > tr {\n",
       "  text-align: right;\n",
       "  white-space: pre-wrap;\n",
       "}\n",
       "</style>\n",
       "<small>shape: (1, 7)</small><table border=\"1\" class=\"dataframe\"><thead><tr><th>client_id</th><th>timestamp</th><th>sku</th><th>action</th><th>category</th><th>price</th><th>name</th></tr><tr><td>i64</td><td>datetime[ms]</td><td>i64</td><td>str</td><td>i64</td><td>i64</td><td>str</td></tr></thead><tbody><tr><td>23732846</td><td>2022-07-19 12:58:50</td><td>237442</td><td>&quot;product_buy&quot;</td><td>2079</td><td>69</td><td>&quot;[230 124 223&nbsp;&nbsp;77 226 148 132 1…</td></tr></tbody></table></div>"
      ],
      "text/plain": [
       "shape: (1, 7)\n",
       "┌───────────┬─────────────────────┬────────┬─────────────┬──────────┬───────┬──────────────────────┐\n",
       "│ client_id ┆ timestamp           ┆ sku    ┆ action      ┆ category ┆ price ┆ name                 │\n",
       "│ ---       ┆ ---                 ┆ ---    ┆ ---         ┆ ---      ┆ ---   ┆ ---                  │\n",
       "│ i64       ┆ datetime[ms]        ┆ i64    ┆ str         ┆ i64      ┆ i64   ┆ str                  │\n",
       "╞═══════════╪═════════════════════╪════════╪═════════════╪══════════╪═══════╪══════════════════════╡\n",
       "│ 23732846  ┆ 2022-07-19 12:58:50 ┆ 237442 ┆ product_buy ┆ 2079     ┆ 69    ┆ [230 124 223  77 226 │\n",
       "│           ┆                     ┆        ┆             ┆          ┆       ┆ 148 132 1…           │\n",
       "└───────────┴─────────────────────┴────────┴─────────────┴──────────┴───────┴──────────────────────┘"
      ]
     },
     "execution_count": 72,
     "metadata": {},
     "output_type": "execute_result"
    }
   ],
   "source": [
    "product.filter(pl.col(\"client_id\")==23732846).sort(\"timestamp\")"
   ]
  },
  {
   "cell_type": "code",
   "execution_count": null,
   "id": "50d9d3ff-d727-46b5-9edc-e4a7d8bc8b36",
   "metadata": {},
   "outputs": [],
   "source": []
  }
 ],
 "metadata": {
  "kernelspec": {
   "display_name": "Python 3 (ipykernel)",
   "language": "python",
   "name": "python3"
  },
  "language_info": {
   "codemirror_mode": {
    "name": "ipython",
    "version": 3
   },
   "file_extension": ".py",
   "mimetype": "text/x-python",
   "name": "python",
   "nbconvert_exporter": "python",
   "pygments_lexer": "ipython3",
   "version": "3.12.10"
  }
 },
 "nbformat": 4,
 "nbformat_minor": 5
}
