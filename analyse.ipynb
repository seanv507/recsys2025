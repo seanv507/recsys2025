{
 "cells": [
  {
   "cell_type": "code",
   "execution_count": 1,
   "id": "386b0ff4-9087-428e-b330-3e671eec6a47",
   "metadata": {},
   "outputs": [],
   "source": [
    "import polars as pl\n",
    "import plotnine as p9\n",
    "import torch\n",
    "import lifetimes\n",
    "from pathlib import Path"
   ]
  },
  {
   "cell_type": "code",
   "execution_count": 2,
   "id": "43734460-d702-42c2-be46-83b1299a3555",
   "metadata": {},
   "outputs": [],
   "source": [
    "import arviz as az\n",
    "import matplotlib.pyplot as plt\n",
    "import numpy as np\n",
    "import pandas as pd\n",
    "from arviz.labels import MapLabeller\n",
    "\n",
    "from pymc_marketing import clv\n",
    "from pymc_marketing.prior import Prior\n"
   ]
  },
  {
   "cell_type": "code",
   "execution_count": 3,
   "id": "3541a719-bac3-4365-9782-769e1c378da7",
   "metadata": {},
   "outputs": [
    {
     "data": {
      "text/plain": [
       "polars.config.Config"
      ]
     },
     "execution_count": 3,
     "metadata": {},
     "output_type": "execute_result"
    }
   ],
   "source": [
    "pl.Config.set_tbl_width_chars(-1)\n",
    "pl.Config.set_tbl_rows(100)\n"
   ]
  },
  {
   "cell_type": "markdown",
   "id": "89f027d6-2e17-4318-b153-499dfa0d0643",
   "metadata": {},
   "source": [
    "# Load Data"
   ]
  },
  {
   "cell_type": "code",
   "execution_count": 4,
   "id": "29f129df-f43a-429c-b586-fedb570d7827",
   "metadata": {},
   "outputs": [],
   "source": [
    "files = [\"search_query\",\n",
    "\"page_visit\",\n",
    " \"add_to_cart\",\n",
    " \"remove_from_cart\",\n",
    " \"product_properties\",\n",
    " \"product_buy\",\n",
    "]"
   ]
  },
  {
   "cell_type": "code",
   "execution_count": null,
   "id": "c45be2f0-fa45-43fa-9d86-a9c5759ab66e",
   "metadata": {},
   "outputs": [],
   "source": []
  },
  {
   "cell_type": "code",
   "execution_count": 5,
   "id": "93dd4923-0488-4943-b747-7cddf220e9f0",
   "metadata": {},
   "outputs": [
    {
     "data": {
      "text/plain": [
       "'/home/sean/projects/recsys2025'"
      ]
     },
     "execution_count": 5,
     "metadata": {},
     "output_type": "execute_result"
    }
   ],
   "source": [
    "pwd"
   ]
  },
  {
   "cell_type": "code",
   "execution_count": 6,
   "id": "f89dbbd3-95a5-44ea-b663-462b1c16a1cb",
   "metadata": {},
   "outputs": [],
   "source": [
    "def get_preprocessed_files(files: list[str]):\n",
    "    dfs = {}\n",
    "    for file in files:\n",
    "        orig_file = f\"data/ubc/{file}.parquet\"\n",
    "        preprocessed_file = f\"data/ubc_typed/{file}.parquet\"\n",
    "        if Path(preprocessed_file).exists():\n",
    "            df = pl.read_parquet(preprocessed_file)\n",
    "        else:\n",
    "            df = pl.read_parquet(orig_file)\n",
    "            df = preprocess(df)\n",
    "            df.write_parquet(preprocessed_file)\n",
    "        dfs[file] = df\n",
    "    return dfs\n",
    "\n",
    "\n",
    "def preprocess(df: pl.DataFrame)-> pl.DataFrame:\n",
    "    if \"timestamp\" in df.schema and not(isinstance(df.schema[\"timestamp\"],pl.Datetime)):\n",
    "        df = df.with_columns(pl.col(\"timestamp\").str.to_datetime(time_unit=\"ms\"))\n",
    "    if \"query\" in df.schema:\n",
    "        df = list_int(df, \"query\")\n",
    "    if \"name\" in df.schema:\n",
    "        df = list_int(df, \"name\")\n",
    "    return df\n",
    "\n",
    "def list_int(df:pl.DataFrame,column:str):\n",
    "    \"\"\" take string column of form \"[ <int_1><spaces><int>...<int_16>]\" and convert into list of int 16s.\"\"\"\n",
    "    df = (\n",
    "        df.with_columns(\n",
    "            pl.col(column).str.replace_all(\" {2,}\",\" \")\n",
    "            .str.strip_chars(\"[] \")\n",
    "            .str.split(\" \")\n",
    "            .cast(pl.List(pl.Int16))\n",
    "        )\n",
    "    )\n",
    "    return df\n",
    "\n",
    "\n",
    "def get_client_start_dates(df:pl.DataFrame):\n",
    "    client_start_dates = df.group_by(\"client_id\").agg(pl.col(\"timestamp\").min())\n",
    "    return client_start_dates"
   ]
  },
  {
   "cell_type": "code",
   "execution_count": 7,
   "id": "fae8a2f6-8129-42fe-96f7-fe1f769531ae",
   "metadata": {},
   "outputs": [],
   "source": [
    "dfs = get_preprocessed_files(files)"
   ]
  },
  {
   "cell_type": "code",
   "execution_count": 8,
   "id": "59723d20-d0a1-4eb5-8129-fd15c9808313",
   "metadata": {},
   "outputs": [],
   "source": [
    "df1 = get_client_start_dates(dfs[\"product_buy\"])"
   ]
  },
  {
   "cell_type": "code",
   "execution_count": 9,
   "id": "b040c684-1509-44da-aa11-969a43d58148",
   "metadata": {},
   "outputs": [
    {
     "data": {
      "text/html": [
       "<div><style>\n",
       ".dataframe > thead > tr,\n",
       ".dataframe > tbody > tr {\n",
       "  text-align: right;\n",
       "  white-space: pre-wrap;\n",
       "}\n",
       "</style>\n",
       "<small>shape: (5, 2)</small><table border=\"1\" class=\"dataframe\"><thead><tr><th>client_id</th><th>timestamp</th></tr><tr><td>i64</td><td>datetime[ms]</td></tr></thead><tbody><tr><td>620151</td><td>2022-07-10 08:41:35</td></tr><tr><td>22164728</td><td>2022-09-25 11:35:55</td></tr><tr><td>2328521</td><td>2022-08-04 19:56:15</td></tr><tr><td>12582522</td><td>2022-06-09 07:02:05</td></tr><tr><td>11004048</td><td>2022-06-10 21:34:35</td></tr></tbody></table></div>"
      ],
      "text/plain": [
       "shape: (5, 2)\n",
       "┌───────────┬─────────────────────┐\n",
       "│ client_id ┆ timestamp           │\n",
       "│ ---       ┆ ---                 │\n",
       "│ i64       ┆ datetime[ms]        │\n",
       "╞═══════════╪═════════════════════╡\n",
       "│ 620151    ┆ 2022-07-10 08:41:35 │\n",
       "│ 22164728  ┆ 2022-09-25 11:35:55 │\n",
       "│ 2328521   ┆ 2022-08-04 19:56:15 │\n",
       "│ 12582522  ┆ 2022-06-09 07:02:05 │\n",
       "│ 11004048  ┆ 2022-06-10 21:34:35 │\n",
       "└───────────┴─────────────────────┘"
      ]
     },
     "execution_count": 9,
     "metadata": {},
     "output_type": "execute_result"
    }
   ],
   "source": [
    "df1.head()"
   ]
  },
  {
   "cell_type": "code",
   "execution_count": 10,
   "id": "565b6583-2cdc-4b04-95db-16aea9bdad5c",
   "metadata": {},
   "outputs": [
    {
     "data": {
      "text/plain": [
       "750860"
      ]
     },
     "execution_count": 10,
     "metadata": {},
     "output_type": "execute_result"
    }
   ],
   "source": [
    "df1.n_unique()"
   ]
  },
  {
   "cell_type": "code",
   "execution_count": 11,
   "id": "081f691c-c96b-4e2c-b3bb-69d27f45c2fb",
   "metadata": {},
   "outputs": [
    {
     "data": {
      "text/plain": [
       "['client_id', 'timestamp', 'sku']"
      ]
     },
     "execution_count": 11,
     "metadata": {},
     "output_type": "execute_result"
    }
   ],
   "source": [
    "dfs[\"product_buy\"].columns"
   ]
  },
  {
   "cell_type": "code",
   "execution_count": 13,
   "id": "8834bc24",
   "metadata": {},
   "outputs": [
    {
     "data": {
      "text/html": [
       "<div><style>\n",
       ".dataframe > thead > tr,\n",
       ".dataframe > tbody > tr {\n",
       "  text-align: right;\n",
       "  white-space: pre-wrap;\n",
       "}\n",
       "</style>\n",
       "<small>shape: (1, 3)</small><table border=\"1\" class=\"dataframe\"><thead><tr><th>client_id</th><th>timestamp</th><th>sku</th></tr><tr><td>u32</td><td>u32</td><td>u32</td></tr></thead><tbody><tr><td>750860</td><td>827453</td><td>507107</td></tr></tbody></table></div>"
      ],
      "text/plain": [
       "shape: (1, 3)\n",
       "┌───────────┬───────────┬────────┐\n",
       "│ client_id ┆ timestamp ┆ sku    │\n",
       "│ ---       ┆ ---       ┆ ---    │\n",
       "│ u32       ┆ u32       ┆ u32    │\n",
       "╞═══════════╪═══════════╪════════╡\n",
       "│ 750860    ┆ 827453    ┆ 507107 │\n",
       "└───────────┴───────────┴────────┘"
      ]
     },
     "execution_count": 13,
     "metadata": {},
     "output_type": "execute_result"
    }
   ],
   "source": [
    "dfs[\"product_buy\"].select(pl.all().n_unique())"
   ]
  },
  {
   "cell_type": "code",
   "execution_count": 8,
   "id": "d07b075d",
   "metadata": {},
   "outputs": [
    {
     "data": {
      "text/html": [
       "<div><style>\n",
       ".dataframe > thead > tr,\n",
       ".dataframe > tbody > tr {\n",
       "  text-align: right;\n",
       "  white-space: pre-wrap;\n",
       "}\n",
       "</style>\n",
       "<small>shape: (9, 3)</small><table border=\"1\" class=\"dataframe\"><thead><tr><th>statistic</th><th>client_id</th><th>timestamp</th></tr><tr><td>str</td><td>f64</td><td>f64</td></tr></thead><tbody><tr><td>&quot;count&quot;</td><td>750860.0</td><td>750860.0</td></tr><tr><td>&quot;null_count&quot;</td><td>0.0</td><td>0.0</td></tr><tr><td>&quot;mean&quot;</td><td>1.1940e7</td><td>1.468747</td></tr><tr><td>&quot;std&quot;</td><td>6.8857e6</td><td>1.480217</td></tr><tr><td>&quot;min&quot;</td><td>14.0</td><td>1.0</td></tr><tr><td>&quot;25%&quot;</td><td>5.979306e6</td><td>1.0</td></tr><tr><td>&quot;50%&quot;</td><td>1.1934371e7</td><td>1.0</td></tr><tr><td>&quot;75%&quot;</td><td>1.7895368e7</td><td>1.0</td></tr><tr><td>&quot;max&quot;</td><td>2.3875234e7</td><td>423.0</td></tr></tbody></table></div>"
      ],
      "text/plain": [
       "shape: (9, 3)\n",
       "┌────────────┬─────────────┬───────────┐\n",
       "│ statistic  ┆ client_id   ┆ timestamp │\n",
       "│ ---        ┆ ---         ┆ ---       │\n",
       "│ str        ┆ f64         ┆ f64       │\n",
       "╞════════════╪═════════════╪═══════════╡\n",
       "│ count      ┆ 750860.0    ┆ 750860.0  │\n",
       "│ null_count ┆ 0.0         ┆ 0.0       │\n",
       "│ mean       ┆ 1.1940e7    ┆ 1.468747  │\n",
       "│ std        ┆ 6.8857e6    ┆ 1.480217  │\n",
       "│ min        ┆ 14.0        ┆ 1.0       │\n",
       "│ 25%        ┆ 5.979306e6  ┆ 1.0       │\n",
       "│ 50%        ┆ 1.1934371e7 ┆ 1.0       │\n",
       "│ 75%        ┆ 1.7895368e7 ┆ 1.0       │\n",
       "│ max        ┆ 2.3875234e7 ┆ 423.0     │\n",
       "└────────────┴─────────────┴───────────┘"
      ]
     },
     "execution_count": 8,
     "metadata": {},
     "output_type": "execute_result"
    }
   ],
   "source": [
    "dfs[\"product_buy\"].group_by(\"client_id\").agg(pl.col(\"timestamp\").n_unique()).describe()"
   ]
  },
  {
   "cell_type": "code",
   "execution_count": 12,
   "id": "9705b746-8fe4-4566-ac85-cbf9819493bc",
   "metadata": {},
   "outputs": [],
   "source": [
    "# dont join until have done all preprocessing on the data\n",
    "\n",
    "buy = dfs[\"product_buy\"].with_columns(action=pl.lit(\"product_buy\")).join(dfs[\"product_properties\"], on=\"sku\", how=\"left\")\n",
    "add_to_cart = dfs[\"add_to_cart\"].with_columns(action=pl.lit(\"add_to_cart\")).join(dfs[\"product_properties\"], on=\"sku\", how=\"left\")"
   ]
  },
  {
   "cell_type": "code",
   "execution_count": 9,
   "id": "8beaa942-b1b0-4da0-adbf-ffbd715facff",
   "metadata": {},
   "outputs": [
    {
     "data": {
      "text/html": [
       "<div><style>\n",
       ".dataframe > thead > tr,\n",
       ".dataframe > tbody > tr {\n",
       "  text-align: right;\n",
       "  white-space: pre-wrap;\n",
       "}\n",
       "</style>\n",
       "<small>shape: (1, 3)</small><table border=\"1\" class=\"dataframe\"><thead><tr><th>client_id</th><th>timestamp</th><th>url</th></tr><tr><td>i64</td><td>datetime[ms]</td><td>i64</td></tr></thead><tbody><tr><td>23875259</td><td>2022-10-10 23:59:59</td><td>15869648</td></tr></tbody></table></div>"
      ],
      "text/plain": [
       "shape: (1, 3)\n",
       "┌───────────┬─────────────────────┬──────────┐\n",
       "│ client_id ┆ timestamp           ┆ url      │\n",
       "│ ---       ┆ ---                 ┆ ---      │\n",
       "│ i64       ┆ datetime[ms]        ┆ i64      │\n",
       "╞═══════════╪═════════════════════╪══════════╡\n",
       "│ 23875259  ┆ 2022-10-10 23:59:59 ┆ 15869648 │\n",
       "└───────────┴─────────────────────┴──────────┘"
      ]
     },
     "execution_count": 9,
     "metadata": {},
     "output_type": "execute_result"
    }
   ],
   "source": [
    "dfs[\"page_visit\"].max()"
   ]
  },
  {
   "cell_type": "code",
   "execution_count": 10,
   "id": "22d8eda0-d36b-4709-a1da-266658c5cdd1",
   "metadata": {},
   "outputs": [
    {
     "data": {
      "text/html": [
       "<div><style>\n",
       ".dataframe > thead > tr,\n",
       ".dataframe > tbody > tr {\n",
       "  text-align: right;\n",
       "  white-space: pre-wrap;\n",
       "}\n",
       "</style>\n",
       "<small>shape: (1, 1)</small><table border=\"1\" class=\"dataframe\"><thead><tr><th>timestamp</th></tr><tr><td>datetime[ms]</td></tr></thead><tbody><tr><td>2022-10-17 00:00:00</td></tr></tbody></table></div>"
      ],
      "text/plain": [
       "shape: (1, 1)\n",
       "┌─────────────────────┐\n",
       "│ timestamp           │\n",
       "│ ---                 │\n",
       "│ datetime[ms]        │\n",
       "╞═════════════════════╡\n",
       "│ 2022-10-17 00:00:00 │\n",
       "└─────────────────────┘"
      ]
     },
     "execution_count": 10,
     "metadata": {},
     "output_type": "execute_result"
    }
   ],
   "source": [
    "dfs[\"product_buy\"].select(pl.col(\"timestamp\").max().dt.truncate(\"2w\").dt.offset_by(\"2w\"))"
   ]
  },
  {
   "cell_type": "markdown",
   "id": "cf4774f7-36be-435f-be3d-d35937c964d2",
   "metadata": {},
   "source": [
    "# Price Histogram\n",
    "price is a quantile\n",
    "\n",
    "(and therefore ) price relatively uniform"
   ]
  },
  {
   "cell_type": "code",
   "execution_count": 12,
   "id": "68fca800-171e-45b4-a157-da19ef0c0f06",
   "metadata": {
    "scrolled": true
   },
   "outputs": [
    {
     "data": {
      "image/png": "[encoded data removed]"
     },
     "metadata": {
      "image/png": {
       "height": 480,
       "width": 640
      }
     },
     "output_type": "display_data"
    }
   ],
   "source": [
    "p9.ggplot(dfs[\"product_properties\"],p9.aes(x=\"price\")) + p9.geom_histogram(bins=100)"
   ]
  },
  {
   "cell_type": "code",
   "execution_count": 9,
   "id": "9f3d6b32-4615-4867-b45d-028a38803b4b",
   "metadata": {},
   "outputs": [
    {
     "data": {
      "image/png": "[encoded data removed]"
     },
     "metadata": {
      "image/png": {
       "height": 480,
       "width": 640
      }
     },
     "output_type": "display_data"
    }
   ],
   "source": [
    "p9.ggplot(dfs[\"product_buy\"],p9.aes(x=\"timestamp\")) + p9.geom_histogram(bins=1000)"
   ]
  },
  {
   "cell_type": "markdown",
   "id": "6630efc5-d615-4b4d-9842-d506ac4f7641",
   "metadata": {},
   "source": [
    "timestamp relatively uniform"
   ]
  },
  {
   "cell_type": "code",
   "execution_count": 11,
   "id": "d25e21e8-d509-4571-af05-6330789c26cc",
   "metadata": {},
   "outputs": [
    {
     "data": {
      "text/html": [
       "<div><style>\n",
       ".dataframe > thead > tr,\n",
       ".dataframe > tbody > tr {\n",
       "  text-align: right;\n",
       "  white-space: pre-wrap;\n",
       "}\n",
       "</style>\n",
       "<small>shape: (9, 8)</small><table border=\"1\" class=\"dataframe\"><thead><tr><th>statistic</th><th>client_id</th><th>timestamp</th><th>sku</th><th>action</th><th>category</th><th>price</th><th>name</th></tr><tr><td>str</td><td>f64</td><td>str</td><td>f64</td><td>str</td><td>f64</td><td>f64</td><td>f64</td></tr></thead><tbody><tr><td>&quot;count&quot;</td><td>1.682296e6</td><td>&quot;1682296&quot;</td><td>1.682296e6</td><td>&quot;1682296&quot;</td><td>1.682296e6</td><td>1.682296e6</td><td>1.682296e6</td></tr><tr><td>&quot;null_count&quot;</td><td>0.0</td><td>&quot;0&quot;</td><td>0.0</td><td>&quot;0&quot;</td><td>0.0</td><td>0.0</td><td>0.0</td></tr><tr><td>&quot;mean&quot;</td><td>1.1941e7</td><td>&quot;2022-08-03 16:59:32.528000&quot;</td><td>746549.671699</td><td>null</td><td>3547.154632</td><td>51.303007</td><td>null</td></tr><tr><td>&quot;std&quot;</td><td>6.8918e6</td><td>null</td><td>433618.826745</td><td>null</td><td>1916.609451</td><td>27.211957</td><td>null</td></tr><tr><td>&quot;min&quot;</td><td>14.0</td><td>&quot;2022-05-23 00:10:40&quot;</td><td>4.0</td><td>&quot;product_buy&quot;</td><td>0.0</td><td>0.0</td><td>null</td></tr><tr><td>&quot;25%&quot;</td><td>5.964836e6</td><td>&quot;2022-06-29 09:17:00&quot;</td><td>369890.0</td><td>null</td><td>1946.0</td><td>29.0</td><td>null</td></tr><tr><td>&quot;50%&quot;</td><td>1.1924383e7</td><td>&quot;2022-08-04 06:37:45&quot;</td><td>745837.0</td><td>null</td><td>3509.0</td><td>53.0</td><td>null</td></tr><tr><td>&quot;75%&quot;</td><td>1.791873e7</td><td>&quot;2022-09-08 09:56:50&quot;</td><td>1.121913e6</td><td>null</td><td>5197.0</td><td>74.0</td><td>null</td></tr><tr><td>&quot;max&quot;</td><td>2.3875234e7</td><td>&quot;2022-10-10 23:59:25&quot;</td><td>1.495777e6</td><td>&quot;product_buy&quot;</td><td>6918.0</td><td>99.0</td><td>null</td></tr></tbody></table></div>"
      ],
      "text/plain": [
       "shape: (9, 8)\n",
       "┌────────────┬────────────┬────────────┬───────────┬───────────┬───────────┬───────────┬───────────┐\n",
       "│ statistic  ┆ client_id  ┆ timestamp  ┆ sku       ┆ action    ┆ category  ┆ price     ┆ name      │\n",
       "│ ---        ┆ ---        ┆ ---        ┆ ---       ┆ ---       ┆ ---       ┆ ---       ┆ ---       │\n",
       "│ str        ┆ f64        ┆ str        ┆ f64       ┆ str       ┆ f64       ┆ f64       ┆ f64       │\n",
       "╞════════════╪════════════╪════════════╪═══════════╪═══════════╪═══════════╪═══════════╪═══════════╡\n",
       "│ count      ┆ 1.682296e6 ┆ 1682296    ┆ 1.682296e ┆ 1682296   ┆ 1.682296e ┆ 1.682296e ┆ 1.682296e │\n",
       "│            ┆            ┆            ┆ 6         ┆           ┆ 6         ┆ 6         ┆ 6         │\n",
       "│ null_count ┆ 0.0        ┆ 0          ┆ 0.0       ┆ 0         ┆ 0.0       ┆ 0.0       ┆ 0.0       │\n",
       "│ mean       ┆ 1.1941e7   ┆ 2022-08-03 ┆ 746549.67 ┆ null      ┆ 3547.1546 ┆ 51.303007 ┆ null      │\n",
       "│            ┆            ┆ 16:59:32.5 ┆ 1699      ┆           ┆ 32        ┆           ┆           │\n",
       "│            ┆            ┆ 28000      ┆           ┆           ┆           ┆           ┆           │\n",
       "│ std        ┆ 6.8918e6   ┆ null       ┆ 433618.82 ┆ null      ┆ 1916.6094 ┆ 27.211957 ┆ null      │\n",
       "│            ┆            ┆            ┆ 6745      ┆           ┆ 51        ┆           ┆           │\n",
       "│ min        ┆ 14.0       ┆ 2022-05-23 ┆ 4.0       ┆ product_b ┆ 0.0       ┆ 0.0       ┆ null      │\n",
       "│            ┆            ┆ 00:10:40   ┆           ┆ uy        ┆           ┆           ┆           │\n",
       "│ 25%        ┆ 5.964836e6 ┆ 2022-06-29 ┆ 369890.0  ┆ null      ┆ 1946.0    ┆ 29.0      ┆ null      │\n",
       "│            ┆            ┆ 09:17:00   ┆           ┆           ┆           ┆           ┆           │\n",
       "│ 50%        ┆ 1.1924383e ┆ 2022-08-04 ┆ 745837.0  ┆ null      ┆ 3509.0    ┆ 53.0      ┆ null      │\n",
       "│            ┆ 7          ┆ 06:37:45   ┆           ┆           ┆           ┆           ┆           │\n",
       "│ 75%        ┆ 1.791873e7 ┆ 2022-09-08 ┆ 1.121913e ┆ null      ┆ 5197.0    ┆ 74.0      ┆ null      │\n",
       "│            ┆            ┆ 09:56:50   ┆ 6         ┆           ┆           ┆           ┆           │\n",
       "│ max        ┆ 2.3875234e ┆ 2022-10-10 ┆ 1.495777e ┆ product_b ┆ 6918.0    ┆ 99.0      ┆ null      │\n",
       "│            ┆ 7          ┆ 23:59:25   ┆ 6         ┆ uy        ┆           ┆           ┆           │\n",
       "└────────────┴────────────┴────────────┴───────────┴───────────┴───────────┴───────────┴───────────┘"
      ]
     },
     "execution_count": 11,
     "metadata": {},
     "output_type": "execute_result"
    }
   ],
   "source": [
    "buy.describe()"
   ]
  },
  {
   "cell_type": "markdown",
   "id": "6d2c8ae0-fd6e-4b6c-9f65-fbd7429c9522",
   "metadata": {},
   "source": [
    "# Customer lifetime value\n",
    "https://juanitorduz.github.io/html/berlin_bayesians_btyd.html#/purchase-metrics\n",
    "Age\n",
    "Recency\n",
    "Frequency\n",
    "Monetary Value\n",
    "\n",
    "frequency: Number of repeat purchases the customer has made. More precisely, It’s the count of time periods the customer had a purchase in.\n",
    "\n",
    "T: Age of the customer in whatever time units chosen. This is equal to the duration between a customer’s first purchase and the end of the period under study.\n",
    "\n",
    "recency: Age of the customer when they made their most recent purchases. This is equal to the duration between a customer’s first purchase and their latest purchase."
   ]
  },
  {
   "cell_type": "markdown",
   "id": "46f0231e-7b58-4328-bed9-a3d434715022",
   "metadata": {},
   "source": [
    "buy.with_columns(age=pl.col(\"date).wee\n",
    "\n",
    "#group_by(\""
   ]
  },
  {
   "cell_type": "code",
   "execution_count": 19,
   "id": "74a60fdc-34b0-4bea-9738-e1e11d0d4f55",
   "metadata": {},
   "outputs": [
    {
     "data": {
      "text/html": [
       "<div><style>\n",
       ".dataframe > thead > tr,\n",
       ".dataframe > tbody > tr {\n",
       "  text-align: right;\n",
       "  white-space: pre-wrap;\n",
       "}\n",
       "</style>\n",
       "<small>shape: (1, 7)</small><table border=\"1\" class=\"dataframe\"><thead><tr><th>client_id</th><th>timestamp</th><th>sku</th><th>action</th><th>category</th><th>price</th><th>name</th></tr><tr><td>u32</td><td>u32</td><td>u32</td><td>u32</td><td>u32</td><td>u32</td><td>u32</td></tr></thead><tbody><tr><td>750860</td><td>827453</td><td>507107</td><td>1</td><td>6089</td><td>100</td><td>409517</td></tr></tbody></table></div>"
      ],
      "text/plain": [
       "shape: (1, 7)\n",
       "┌───────────┬───────────┬────────┬────────┬──────────┬───────┬────────┐\n",
       "│ client_id ┆ timestamp ┆ sku    ┆ action ┆ category ┆ price ┆ name   │\n",
       "│ ---       ┆ ---       ┆ ---    ┆ ---    ┆ ---      ┆ ---   ┆ ---    │\n",
       "│ u32       ┆ u32       ┆ u32    ┆ u32    ┆ u32      ┆ u32   ┆ u32    │\n",
       "╞═══════════╪═══════════╪════════╪════════╪══════════╪═══════╪════════╡\n",
       "│ 750860    ┆ 827453    ┆ 507107 ┆ 1      ┆ 6089     ┆ 100   ┆ 409517 │\n",
       "└───────────┴───────────┴────────┴────────┴──────────┴───────┴────────┘"
      ]
     },
     "execution_count": 19,
     "metadata": {},
     "output_type": "execute_result"
    }
   ],
   "source": [
    "buy.select(pl.all().n_unique())"
   ]
  },
  {
   "cell_type": "code",
   "execution_count": 15,
   "id": "aee6ca02-f01e-4a53-8530-a59f2a671b8d",
   "metadata": {},
   "outputs": [],
   "source": [
    "rfm_data = clv.utils.rfm_summary(\n",
    "    buy.to_pandas(),\n",
    "    customer_id_col=\"client_id\",\n",
    "    datetime_col=\"timestamp\",\n",
    "    monetary_value_col=\"price\",\n",
    "    time_unit=\"W\",\n",
    ")"
   ]
  },
  {
   "cell_type": "code",
   "execution_count": 16,
   "id": "d95db059-307f-4f52-b092-259a7e8f1b75",
   "metadata": {},
   "outputs": [
    {
     "data": {
      "image/png": "[encoded data removed]",
      "text/plain": [
       "<Figure size 1000x500 with 1 Axes>"
      ]
     },
     "metadata": {},
     "output_type": "display_data"
    }
   ],
   "source": [
    "fig, ax = plt.subplots(figsize=(10, 5))\n",
    "(\n",
    "    rfm_data.sample(n=100, random_state=42)\n",
    "    .sort_values([\"recency\", \"T\"])\n",
    "    .pipe(clv.plot_customer_exposure, ax=ax, linewidth=0.5, size=0.75)\n",
    ");\n"
   ]
  },
  {
   "cell_type": "markdown",
   "id": "02ed80ca-50e1-4f6c-8cc2-b3ac2954e3ad",
   "metadata": {},
   "source": [
    "Only 20% had more than 1 purchase."
   ]
  },
  {
   "cell_type": "code",
   "execution_count": 19,
   "id": "ee8867fd-9699-48f2-9149-afad87dcb2e9",
   "metadata": {},
   "outputs": [
    {
     "data": {
      "image/svg+xml": [
       "<?xml version=\"1.0\" encoding=\"UTF-8\" standalone=\"no\"?>\n",
       "<!DOCTYPE svg PUBLIC \"-//W3C//DTD SVG 1.1//EN\"\n",
       " \"http://www.w3.org/Graphics/SVG/1.1/DTD/svg11.dtd\">\n",
       "<!-- Generated by graphviz version 2.43.0 (0)\n",
       " -->\n",
       "<!-- Title: %3 Pages: 1 -->\n",
       "<svg width=\"619pt\" height=\"344pt\"\n",
       " viewBox=\"0.00 0.00 618.96 343.86\" xmlns=\"http://www.w3.org/2000/svg\" xmlns:xlink=\"http://www.w3.org/1999/xlink\">\n",
       "<g id=\"graph0\" class=\"graph\" transform=\"scale(1 1) rotate(0) translate(4 339.86)\">\n",
       "<title>%3</title>\n",
       "<polygon fill=\"white\" stroke=\"transparent\" points=\"-4,4 -4,-339.86 614.96,-339.86 614.96,4 -4,4\"/>\n",
       "<g id=\"clust1\" class=\"cluster\">\n",
       "<title>clustercustomer_id (750860) x obs_var (2)</title>\n",
       "<path fill=\"none\" stroke=\"black\" d=\"M178.12,-8C178.12,-8 423.12,-8 423.12,-8 429.12,-8 435.12,-14 435.12,-20 435.12,-20 435.12,-109.95 435.12,-109.95 435.12,-115.95 429.12,-121.95 423.12,-121.95 423.12,-121.95 178.12,-121.95 178.12,-121.95 172.12,-121.95 166.12,-115.95 166.12,-109.95 166.12,-109.95 166.12,-20 166.12,-20 166.12,-14 172.12,-8 178.12,-8\"/>\n",
       "<text text-anchor=\"middle\" x=\"300.62\" y=\"-15.8\" font-family=\"Times,serif\" font-size=\"14.00\">customer_id (750860) x obs_var (2)</text>\n",
       "</g>\n",
       "<!-- a -->\n",
       "<g id=\"node1\" class=\"node\">\n",
       "<title>a</title>\n",
       "<polygon fill=\"none\" stroke=\"black\" points=\"151.12,-213.93 37.12,-213.93 37.12,-160.93 151.12,-160.93 151.12,-213.93\"/>\n",
       "<text text-anchor=\"middle\" x=\"94.12\" y=\"-198.73\" font-family=\"Times,serif\" font-size=\"14.00\">a</text>\n",
       "<text text-anchor=\"middle\" x=\"94.12\" y=\"-183.73\" font-family=\"Times,serif\" font-size=\"14.00\">~</text>\n",
       "<text text-anchor=\"middle\" x=\"94.12\" y=\"-168.73\" font-family=\"Times,serif\" font-size=\"14.00\">Deterministic</text>\n",
       "</g>\n",
       "<!-- recency_frequency -->\n",
       "<g id=\"node7\" class=\"node\">\n",
       "<title>recency_frequency</title>\n",
       "<ellipse fill=\"lightgrey\" stroke=\"black\" cx=\"300.12\" cy=\"-76.48\" rx=\"106.13\" ry=\"37.45\"/>\n",
       "<text text-anchor=\"middle\" x=\"300.12\" y=\"-87.78\" font-family=\"Times,serif\" font-size=\"14.00\">recency_frequency</text>\n",
       "<text text-anchor=\"middle\" x=\"300.12\" y=\"-72.78\" font-family=\"Times,serif\" font-size=\"14.00\">~</text>\n",
       "<text text-anchor=\"middle\" x=\"300.12\" y=\"-57.78\" font-family=\"Times,serif\" font-size=\"14.00\">BetaGeoNBD</text>\n",
       "</g>\n",
       "<!-- a&#45;&gt;recency_frequency -->\n",
       "<g id=\"edge6\" class=\"edge\">\n",
       "<title>a&#45;&gt;recency_frequency</title>\n",
       "<path fill=\"none\" stroke=\"black\" d=\"M140.2,-160.76C146.87,-157.1 153.66,-153.41 160.12,-149.95 183.45,-137.47 209.13,-124.08 232.05,-112.25\"/>\n",
       "<polygon fill=\"black\" stroke=\"black\" points=\"233.73,-115.32 241.02,-107.63 230.52,-109.1 233.73,-115.32\"/>\n",
       "</g>\n",
       "<!-- b -->\n",
       "<g id=\"node2\" class=\"node\">\n",
       "<title>b</title>\n",
       "<polygon fill=\"none\" stroke=\"black\" points=\"283.12,-213.93 169.12,-213.93 169.12,-160.93 283.12,-160.93 283.12,-213.93\"/>\n",
       "<text text-anchor=\"middle\" x=\"226.12\" y=\"-198.73\" font-family=\"Times,serif\" font-size=\"14.00\">b</text>\n",
       "<text text-anchor=\"middle\" x=\"226.12\" y=\"-183.73\" font-family=\"Times,serif\" font-size=\"14.00\">~</text>\n",
       "<text text-anchor=\"middle\" x=\"226.12\" y=\"-168.73\" font-family=\"Times,serif\" font-size=\"14.00\">Deterministic</text>\n",
       "</g>\n",
       "<!-- b&#45;&gt;recency_frequency -->\n",
       "<g id=\"edge8\" class=\"edge\">\n",
       "<title>b&#45;&gt;recency_frequency</title>\n",
       "<path fill=\"none\" stroke=\"black\" d=\"M243.47,-160.89C251.39,-149.22 261.01,-135.07 270.05,-121.76\"/>\n",
       "<polygon fill=\"black\" stroke=\"black\" points=\"273.16,-123.41 275.88,-113.17 267.37,-119.48 273.16,-123.41\"/>\n",
       "</g>\n",
       "<!-- r -->\n",
       "<g id=\"node3\" class=\"node\">\n",
       "<title>r</title>\n",
       "<ellipse fill=\"none\" stroke=\"black\" cx=\"374.12\" cy=\"-187.43\" rx=\"72.66\" ry=\"37.45\"/>\n",
       "<text text-anchor=\"middle\" x=\"374.12\" y=\"-198.73\" font-family=\"Times,serif\" font-size=\"14.00\">r</text>\n",
       "<text text-anchor=\"middle\" x=\"374.12\" y=\"-183.73\" font-family=\"Times,serif\" font-size=\"14.00\">~</text>\n",
       "<text text-anchor=\"middle\" x=\"374.12\" y=\"-168.73\" font-family=\"Times,serif\" font-size=\"14.00\">WeibullBeta</text>\n",
       "</g>\n",
       "<!-- r&#45;&gt;recency_frequency -->\n",
       "<g id=\"edge5\" class=\"edge\">\n",
       "<title>r&#45;&gt;recency_frequency</title>\n",
       "<path fill=\"none\" stroke=\"black\" d=\"M350.51,-151.66C343.96,-142.02 336.78,-131.44 329.93,-121.36\"/>\n",
       "<polygon fill=\"black\" stroke=\"black\" points=\"332.79,-119.35 324.28,-113.04 327,-123.28 332.79,-119.35\"/>\n",
       "</g>\n",
       "<!-- phi_dropout -->\n",
       "<g id=\"node4\" class=\"node\">\n",
       "<title>phi_dropout</title>\n",
       "<ellipse fill=\"none\" stroke=\"black\" cx=\"72.12\" cy=\"-298.38\" rx=\"72.25\" ry=\"37.45\"/>\n",
       "<text text-anchor=\"middle\" x=\"72.12\" y=\"-309.68\" font-family=\"Times,serif\" font-size=\"14.00\">phi_dropout</text>\n",
       "<text text-anchor=\"middle\" x=\"72.12\" y=\"-294.68\" font-family=\"Times,serif\" font-size=\"14.00\">~</text>\n",
       "<text text-anchor=\"middle\" x=\"72.12\" y=\"-279.68\" font-family=\"Times,serif\" font-size=\"14.00\">Uniform</text>\n",
       "</g>\n",
       "<!-- phi_dropout&#45;&gt;a -->\n",
       "<g id=\"edge1\" class=\"edge\">\n",
       "<title>phi_dropout&#45;&gt;a</title>\n",
       "<path fill=\"none\" stroke=\"black\" d=\"M79.51,-260.8C81.91,-248.94 84.56,-235.81 86.94,-224.03\"/>\n",
       "<polygon fill=\"black\" stroke=\"black\" points=\"90.4,-224.58 88.95,-214.08 83.54,-223.19 90.4,-224.58\"/>\n",
       "</g>\n",
       "<!-- phi_dropout&#45;&gt;b -->\n",
       "<g id=\"edge3\" class=\"edge\">\n",
       "<title>phi_dropout&#45;&gt;b</title>\n",
       "<path fill=\"none\" stroke=\"black\" d=\"M114.21,-267.61C135.12,-252.82 160.39,-234.94 181.63,-219.91\"/>\n",
       "<polygon fill=\"black\" stroke=\"black\" points=\"183.71,-222.73 189.85,-214.1 179.66,-217.01 183.71,-222.73\"/>\n",
       "</g>\n",
       "<!-- alpha -->\n",
       "<g id=\"node5\" class=\"node\">\n",
       "<title>alpha</title>\n",
       "<ellipse fill=\"none\" stroke=\"black\" cx=\"538.12\" cy=\"-187.43\" rx=\"72.66\" ry=\"37.45\"/>\n",
       "<text text-anchor=\"middle\" x=\"538.12\" y=\"-198.73\" font-family=\"Times,serif\" font-size=\"14.00\">alpha</text>\n",
       "<text text-anchor=\"middle\" x=\"538.12\" y=\"-183.73\" font-family=\"Times,serif\" font-size=\"14.00\">~</text>\n",
       "<text text-anchor=\"middle\" x=\"538.12\" y=\"-168.73\" font-family=\"Times,serif\" font-size=\"14.00\">WeibullBeta</text>\n",
       "</g>\n",
       "<!-- alpha&#45;&gt;recency_frequency -->\n",
       "<g id=\"edge7\" class=\"edge\">\n",
       "<title>alpha&#45;&gt;recency_frequency</title>\n",
       "<path fill=\"none\" stroke=\"black\" d=\"M484.42,-161.84C451.57,-146.81 409.11,-127.37 373.22,-110.94\"/>\n",
       "<polygon fill=\"black\" stroke=\"black\" points=\"374.32,-107.59 363.77,-106.61 371.41,-113.96 374.32,-107.59\"/>\n",
       "</g>\n",
       "<!-- kappa_dropout -->\n",
       "<g id=\"node6\" class=\"node\">\n",
       "<title>kappa_dropout</title>\n",
       "<ellipse fill=\"none\" stroke=\"black\" cx=\"248.12\" cy=\"-298.38\" rx=\"86.03\" ry=\"37.45\"/>\n",
       "<text text-anchor=\"middle\" x=\"248.12\" y=\"-309.68\" font-family=\"Times,serif\" font-size=\"14.00\">kappa_dropout</text>\n",
       "<text text-anchor=\"middle\" x=\"248.12\" y=\"-294.68\" font-family=\"Times,serif\" font-size=\"14.00\">~</text>\n",
       "<text text-anchor=\"middle\" x=\"248.12\" y=\"-279.68\" font-family=\"Times,serif\" font-size=\"14.00\">Pareto</text>\n",
       "</g>\n",
       "<!-- kappa_dropout&#45;&gt;a -->\n",
       "<g id=\"edge2\" class=\"edge\">\n",
       "<title>kappa_dropout&#45;&gt;a</title>\n",
       "<path fill=\"none\" stroke=\"black\" d=\"M203.99,-266.16C183.45,-251.63 159.06,-234.37 138.49,-219.82\"/>\n",
       "<polygon fill=\"black\" stroke=\"black\" points=\"140.41,-216.89 130.22,-213.97 136.36,-222.6 140.41,-216.89\"/>\n",
       "</g>\n",
       "<!-- kappa_dropout&#45;&gt;b -->\n",
       "<g id=\"edge4\" class=\"edge\">\n",
       "<title>kappa_dropout&#45;&gt;b</title>\n",
       "<path fill=\"none\" stroke=\"black\" d=\"M240.74,-260.8C238.34,-248.94 235.69,-235.81 233.31,-224.03\"/>\n",
       "<polygon fill=\"black\" stroke=\"black\" points=\"236.71,-223.19 231.3,-214.08 229.85,-224.58 236.71,-223.19\"/>\n",
       "</g>\n",
       "</g>\n",
       "</svg>\n"
      ],
      "text/plain": [
       "<graphviz.graphs.Digraph at 0x7f76580e5340>"
      ]
     },
     "execution_count": 19,
     "metadata": {},
     "output_type": "execute_result"
    }
   ],
   "source": [
    "bgm = clv.BetaGeoModel(data=rfm_data)\n",
    "\n",
    "bgm.build_model()\n",
    "bgm.graphviz()"
   ]
  },
  {
   "cell_type": "code",
   "execution_count": null,
   "id": "134f1a64-7754-42ae-a9df-9f8b75faa5b8",
   "metadata": {},
   "outputs": [
    {
     "name": "stderr",
     "output_type": "stream",
     "text": [
      "Initializing NUTS using jitter+adapt_diag...\n",
      "Multiprocess sampling (4 chains in 4 jobs)\n",
      "NUTS: [alpha, phi_dropout, kappa_dropout, r]\n"
     ]
    },
    {
     "data": {
      "application/vnd.jupyter.widget-view+json": {
       "model_id": "b46946450ad34537a00ea8b521bd417b",
       "version_major": 2,
       "version_minor": 0
      },
      "text/plain": [
       "Output()"
      ]
     },
     "metadata": {},
     "output_type": "display_data"
    },
    {
     "name": "stderr",
     "output_type": "stream",
     "text": [
      "/home/sean/projects/recsys2025/.venv/lib/python3.12/site-packages/pytensor/scalar/basic.py:3191: RuntimeWarning: overflow encountered in exp\n",
      "/home/sean/projects/recsys2025/.venv/lib/python3.12/site-packages/numpy/_core/fromnumeric.py:86: RuntimeWarning: invalid value encountered in reduce\n",
      "/home/sean/projects/recsys2025/.venv/lib/python3.12/site-packages/pytensor/scalar/basic.py:2094: RuntimeWarning: invalid value encountered in divide\n",
      "/home/sean/projects/recsys2025/.venv/lib/python3.12/site-packages/pytensor/scalar/basic.py:2052: RuntimeWarning: invalid value encountered in scalar subtract\n",
      "/home/sean/projects/recsys2025/.venv/lib/python3.12/site-packages/pytensor/scalar/basic.py:3191: RuntimeWarning: overflow encountered in exp\n",
      "/home/sean/projects/recsys2025/.venv/lib/python3.12/site-packages/numpy/_core/fromnumeric.py:86: RuntimeWarning: invalid value encountered in reduce\n",
      "/home/sean/projects/recsys2025/.venv/lib/python3.12/site-packages/pytensor/scalar/basic.py:2094: RuntimeWarning: invalid value encountered in divide\n",
      "/home/sean/projects/recsys2025/.venv/lib/python3.12/site-packages/pytensor/scalar/basic.py:2052: RuntimeWarning: invalid value encountered in scalar subtract\n",
      "/home/sean/projects/recsys2025/.venv/lib/python3.12/site-packages/pytensor/scalar/basic.py:3191: RuntimeWarning: overflow encountered in exp\n",
      "/home/sean/projects/recsys2025/.venv/lib/python3.12/site-packages/numpy/_core/fromnumeric.py:86: RuntimeWarning: invalid value encountered in reduce\n",
      "/home/sean/projects/recsys2025/.venv/lib/python3.12/site-packages/pytensor/scalar/basic.py:2094: RuntimeWarning: invalid value encountered in divide\n",
      "/home/sean/projects/recsys2025/.venv/lib/python3.12/site-packages/pytensor/scalar/basic.py:2052: RuntimeWarning: invalid value encountered in scalar subtract\n",
      "/home/sean/projects/recsys2025/.venv/lib/python3.12/site-packages/pytensor/scalar/basic.py:2094: RuntimeWarning: divide by zero encountered in divide\n"
     ]
    }
   ],
   "source": [
    "bgm.fit()\n",
    "bgm.fit_summary()"
   ]
  },
  {
   "cell_type": "markdown",
   "id": "be1fdbf3-41a8-4544-9265-e0c23ee523d6",
   "metadata": {},
   "source": [
    "# Client Stats"
   ]
  },
  {
   "cell_type": "markdown",
   "id": "14305e52-ac5d-44c4-95b6-e4c0f6c1619f",
   "metadata": {},
   "source": [
    "1.7 million purchases, \n",
    "750,000 clients, 500,000 items, 409000 names 6089 categories.\n",
    "5 months of purchases"
   ]
  },
  {
   "cell_type": "code",
   "execution_count": 20,
   "id": "e2abca16-cd16-4956-8fe3-f4c05eb81c67",
   "metadata": {},
   "outputs": [],
   "source": [
    "client_buy_stats = (\n",
    "    buy\n",
    "    .group_by(\"client_id\", \"price\")\n",
    "    .agg(\n",
    "        pl.col(\"price\").count().alias(\"sales_count\"),\n",
    "        pl.col(\"sku\").n_unique().alias(\"skus\"),\n",
    "        pl.col(\"category\").n_unique().alias(\"categories\"),\n",
    "        pl.col(\"timestamp\").dt.week().n_unique().alias(\"frequency\"),\n",
    "        ((buy[\"timestamp\"].max() - pl.col(\"timestamp\").min())/pl.duration(days=7)).alias(\"T\"),\n",
    "        ((pl.col(\"timestamp\").max() - pl.col(\"timestamp\").min())/pl.duration(days=7)).alias(\"recency\"),\n",
    "    )\n",
    "    .with_columns(client_sales_count=pl.col(\"sales_count\").sum().over(\"client_id\"))\n",
    ")"
   ]
  },
  {
   "cell_type": "code",
   "execution_count": 21,
   "id": "02330228-f3c4-4a07-95c8-0635bb6377f0",
   "metadata": {},
   "outputs": [
    {
     "data": {
      "text/html": [
       "<div><style>\n",
       ".dataframe > thead > tr,\n",
       ".dataframe > tbody > tr {\n",
       "  text-align: right;\n",
       "  white-space: pre-wrap;\n",
       "}\n",
       "</style>\n",
       "<small>shape: (5, 9)</small><table border=\"1\" class=\"dataframe\"><thead><tr><th>client_id</th><th>price</th><th>sales_count</th><th>skus</th><th>categories</th><th>frequency</th><th>T</th><th>recency</th><th>client_sales_count</th></tr><tr><td>i64</td><td>i64</td><td>u32</td><td>u32</td><td>u32</td><td>u32</td><td>f64</td><td>f64</td><td>u32</td></tr></thead><tbody><tr><td>17657902</td><td>41</td><td>2</td><td>1</td><td>1</td><td>1</td><td>18.76727</td><td>0.0</td><td>4</td></tr><tr><td>4491480</td><td>28</td><td>1</td><td>1</td><td>1</td><td>1</td><td>4.474454</td><td>0.0</td><td>4</td></tr><tr><td>7953671</td><td>58</td><td>2</td><td>1</td><td>1</td><td>1</td><td>18.472586</td><td>0.0</td><td>4</td></tr><tr><td>21587697</td><td>84</td><td>2</td><td>1</td><td>1</td><td>1</td><td>2.092923</td><td>0.0</td><td>4</td></tr><tr><td>1962960</td><td>41</td><td>1</td><td>1</td><td>1</td><td>1</td><td>18.027778</td><td>0.0</td><td>2</td></tr></tbody></table></div>"
      ],
      "text/plain": [
       "shape: (5, 9)\n",
       "┌───────────┬───────┬─────────────┬──────┬───┬───────────┬───────────┬─────────┬───────────────────┐\n",
       "│ client_id ┆ price ┆ sales_count ┆ skus ┆ … ┆ frequency ┆ T         ┆ recency ┆ client_sales_coun │\n",
       "│ ---       ┆ ---   ┆ ---         ┆ ---  ┆   ┆ ---       ┆ ---       ┆ ---     ┆ t                 │\n",
       "│ i64       ┆ i64   ┆ u32         ┆ u32  ┆   ┆ u32       ┆ f64       ┆ f64     ┆ ---               │\n",
       "│           ┆       ┆             ┆      ┆   ┆           ┆           ┆         ┆ u32               │\n",
       "╞═══════════╪═══════╪═════════════╪══════╪═══╪═══════════╪═══════════╪═════════╪═══════════════════╡\n",
       "│ 17657902  ┆ 41    ┆ 2           ┆ 1    ┆ … ┆ 1         ┆ 18.76727  ┆ 0.0     ┆ 4                 │\n",
       "│ 4491480   ┆ 28    ┆ 1           ┆ 1    ┆ … ┆ 1         ┆ 4.474454  ┆ 0.0     ┆ 4                 │\n",
       "│ 7953671   ┆ 58    ┆ 2           ┆ 1    ┆ … ┆ 1         ┆ 18.472586 ┆ 0.0     ┆ 4                 │\n",
       "│ 21587697  ┆ 84    ┆ 2           ┆ 1    ┆ … ┆ 1         ┆ 2.092923  ┆ 0.0     ┆ 4                 │\n",
       "│ 1962960   ┆ 41    ┆ 1           ┆ 1    ┆ … ┆ 1         ┆ 18.027778 ┆ 0.0     ┆ 2                 │\n",
       "└───────────┴───────┴─────────────┴──────┴───┴───────────┴───────────┴─────────┴───────────────────┘"
      ]
     },
     "execution_count": 21,
     "metadata": {},
     "output_type": "execute_result"
    }
   ],
   "source": [
    "client_buy_stats.head()"
   ]
  },
  {
   "cell_type": "code",
   "execution_count": 41,
   "id": "d0651eee-9c3f-4f53-b5bb-b5c99f460a91",
   "metadata": {},
   "outputs": [
    {
     "data": {
      "text/html": [
       "<div><style>\n",
       ".dataframe > thead > tr,\n",
       ".dataframe > tbody > tr {\n",
       "  text-align: right;\n",
       "  white-space: pre-wrap;\n",
       "}\n",
       "</style>\n",
       "<small>shape: (5, 4)</small><table border=\"1\" class=\"dataframe\"><thead><tr><th>client_sales_count</th><th>price</th><th>sales_count</th><th>sales_count_prop</th></tr><tr><td>u32</td><td>i64</td><td>u32</td><td>f64</td></tr></thead><tbody><tr><td>1</td><td>0</td><td>750</td><td>0.06697</td></tr><tr><td>2</td><td>0</td><td>1039</td><td>0.092776</td></tr><tr><td>3</td><td>0</td><td>563</td><td>0.050272</td></tr><tr><td>4</td><td>0</td><td>552</td><td>0.04929</td></tr><tr><td>5</td><td>0</td><td>464</td><td>0.041432</td></tr></tbody></table></div>"
      ],
      "text/plain": [
       "shape: (5, 4)\n",
       "┌────────────────────┬───────┬─────────────┬──────────────────┐\n",
       "│ client_sales_count ┆ price ┆ sales_count ┆ sales_count_prop │\n",
       "│ ---                ┆ ---   ┆ ---         ┆ ---              │\n",
       "│ u32                ┆ i64   ┆ u32         ┆ f64              │\n",
       "╞════════════════════╪═══════╪═════════════╪══════════════════╡\n",
       "│ 1                  ┆ 0     ┆ 750         ┆ 0.06697          │\n",
       "│ 2                  ┆ 0     ┆ 1039        ┆ 0.092776         │\n",
       "│ 3                  ┆ 0     ┆ 563         ┆ 0.050272         │\n",
       "│ 4                  ┆ 0     ┆ 552         ┆ 0.04929          │\n",
       "│ 5                  ┆ 0     ┆ 464         ┆ 0.041432         │\n",
       "└────────────────────┴───────┴─────────────┴──────────────────┘"
      ]
     },
     "execution_count": 41,
     "metadata": {},
     "output_type": "execute_result"
    }
   ],
   "source": [
    "sales_count = (\n",
    "    client_buy_stats\n",
    "    .group_by(\"client_sales_count\",\"price\")\n",
    "    .agg(pl.col(\"sales_count\").sum())\n",
    "    .with_columns(sales_count_prop=pl.col(\"sales_count\")/pl.col(\"sales_count\").sum().over(\"price\"))\n",
    "    .sort(\"price\",\"client_sales_count\")\n",
    ")\n",
    "sales_count.head()"
   ]
  },
  {
   "cell_type": "code",
   "execution_count": 42,
   "id": "0092438b-3f3a-408d-950b-767d6279bf4b",
   "metadata": {},
   "outputs": [
    {
     "data": {
      "image/png": "[encoded data removed]"
     },
     "metadata": {
      "image/png": {
       "height": 480,
       "width": 640
      }
     },
     "output_type": "display_data"
    }
   ],
   "source": [
    "plot_data = sales_count.filter(pl.col(\"price\").is_in([25, 50, 75,99]))\n",
    "p9.ggplot(plot_data, p9.aes(x=\"client_sales_count\", y=\"sales_count_prop\",color=\"price\")) + p9.geom_point()"
   ]
  },
  {
   "cell_type": "code",
   "execution_count": 54,
   "id": "290c468f-354c-4fb7-aff1-4ecfc2ff5344",
   "metadata": {},
   "outputs": [
    {
     "data": {
      "image/png": "[encoded data removed]"
     },
     "metadata": {
      "image/png": {
       "height": 480,
       "width": 640
      }
     },
     "output_type": "display_data"
    }
   ],
   "source": [
    "plot_data = sales_count.with_columns(pl.col(\"client_sales_count\").cut([0,5,10,20,50, 100]).alias(\"buyer_frequency\")).group_by(\"buyer_frequency\", \"price\").sum()\n",
    "p9.ggplot(plot_data,p9.aes(x=\"price\", y=\"sales_count_prop\",colour=\"buyer_frequency\"))+p9.geom_line()"
   ]
  },
  {
   "cell_type": "markdown",
   "id": "91d88396-96d9-4342-936b-a0253f1bfbc8",
   "metadata": {},
   "source": [
    "At the bottom pricepoint, customers with 5 items or less cover 30% of sales, \n",
    "at 50 percentile, 75%\n",
    "and at the highest pricepoint it is closer to 85%"
   ]
  },
  {
   "cell_type": "code",
   "execution_count": 24,
   "id": "efcbf77b-5c78-4a65-936c-b301148e5ca6",
   "metadata": {},
   "outputs": [
    {
     "data": {
      "text/html": [
       "<div><style>\n",
       ".dataframe > thead > tr,\n",
       ".dataframe > tbody > tr {\n",
       "  text-align: right;\n",
       "  white-space: pre-wrap;\n",
       "}\n",
       "</style>\n",
       "<small>shape: (5, 9)</small><table border=\"1\" class=\"dataframe\"><thead><tr><th>client_id</th><th>price</th><th>sales_count</th><th>skus</th><th>categories</th><th>frequency</th><th>T</th><th>recency</th><th>client_sales_count</th></tr><tr><td>i64</td><td>i64</td><td>u32</td><td>u32</td><td>u32</td><td>u32</td><td>f64</td><td>f64</td><td>u32</td></tr></thead><tbody><tr><td>17657902</td><td>41</td><td>2</td><td>1</td><td>1</td><td>1</td><td>18.76727</td><td>0.0</td><td>4</td></tr><tr><td>4491480</td><td>28</td><td>1</td><td>1</td><td>1</td><td>1</td><td>4.474454</td><td>0.0</td><td>4</td></tr><tr><td>7953671</td><td>58</td><td>2</td><td>1</td><td>1</td><td>1</td><td>18.472586</td><td>0.0</td><td>4</td></tr><tr><td>21587697</td><td>84</td><td>2</td><td>1</td><td>1</td><td>1</td><td>2.092923</td><td>0.0</td><td>4</td></tr><tr><td>1962960</td><td>41</td><td>1</td><td>1</td><td>1</td><td>1</td><td>18.027778</td><td>0.0</td><td>2</td></tr></tbody></table></div>"
      ],
      "text/plain": [
       "shape: (5, 9)\n",
       "┌───────────┬───────┬─────────────┬──────┬───┬───────────┬───────────┬─────────┬───────────────────┐\n",
       "│ client_id ┆ price ┆ sales_count ┆ skus ┆ … ┆ frequency ┆ T         ┆ recency ┆ client_sales_coun │\n",
       "│ ---       ┆ ---   ┆ ---         ┆ ---  ┆   ┆ ---       ┆ ---       ┆ ---     ┆ t                 │\n",
       "│ i64       ┆ i64   ┆ u32         ┆ u32  ┆   ┆ u32       ┆ f64       ┆ f64     ┆ ---               │\n",
       "│           ┆       ┆             ┆      ┆   ┆           ┆           ┆         ┆ u32               │\n",
       "╞═══════════╪═══════╪═════════════╪══════╪═══╪═══════════╪═══════════╪═════════╪═══════════════════╡\n",
       "│ 17657902  ┆ 41    ┆ 2           ┆ 1    ┆ … ┆ 1         ┆ 18.76727  ┆ 0.0     ┆ 4                 │\n",
       "│ 4491480   ┆ 28    ┆ 1           ┆ 1    ┆ … ┆ 1         ┆ 4.474454  ┆ 0.0     ┆ 4                 │\n",
       "│ 7953671   ┆ 58    ┆ 2           ┆ 1    ┆ … ┆ 1         ┆ 18.472586 ┆ 0.0     ┆ 4                 │\n",
       "│ 21587697  ┆ 84    ┆ 2           ┆ 1    ┆ … ┆ 1         ┆ 2.092923  ┆ 0.0     ┆ 4                 │\n",
       "│ 1962960   ┆ 41    ┆ 1           ┆ 1    ┆ … ┆ 1         ┆ 18.027778 ┆ 0.0     ┆ 2                 │\n",
       "└───────────┴───────┴─────────────┴──────┴───┴───────────┴───────────┴─────────┴───────────────────┘"
      ]
     },
     "execution_count": 24,
     "metadata": {},
     "output_type": "execute_result"
    }
   ],
   "source": [
    "client_buy_stats.head()"
   ]
  },
  {
   "cell_type": "code",
   "execution_count": null,
   "id": "4364d6af-8d87-472a-ab7d-6d8061b588d5",
   "metadata": {},
   "outputs": [],
   "source": [
    "client_buy_stats.group_by(\"sales_count\").agg("
   ]
  },
  {
   "cell_type": "code",
   "execution_count": 10,
   "id": "c52731fc-03d0-4cef-b5f8-9cd4130ebe27",
   "metadata": {},
   "outputs": [
    {
     "data": {
      "text/plain": [
       "datetime.datetime(2022, 10, 10, 23, 59, 25)"
      ]
     },
     "execution_count": 10,
     "metadata": {},
     "output_type": "execute_result"
    }
   ],
   "source": [
    "buy[\"timestamp\"].max() "
   ]
  },
  {
   "cell_type": "code",
   "execution_count": 11,
   "id": "fdd46609-8b30-4b2f-9142-613a017a41d6",
   "metadata": {},
   "outputs": [
    {
     "data": {
      "text/html": [
       "<div><style>\n",
       ".dataframe > thead > tr,\n",
       ".dataframe > tbody > tr {\n",
       "  text-align: right;\n",
       "  white-space: pre-wrap;\n",
       "}\n",
       "</style>\n",
       "<small>shape: (13, 10)</small><table border=\"1\" class=\"dataframe\"><thead><tr><th>statistic</th><th>client_id</th><th>sales_count</th><th>price_mean</th><th>sales_value</th><th>skus</th><th>categories</th><th>frequency</th><th>T</th><th>recency</th></tr><tr><td>str</td><td>f64</td><td>f64</td><td>f64</td><td>f64</td><td>f64</td><td>f64</td><td>f64</td><td>f64</td><td>f64</td></tr></thead><tbody><tr><td>&quot;count&quot;</td><td>750860.0</td><td>750860.0</td><td>750860.0</td><td>750860.0</td><td>750860.0</td><td>750860.0</td><td>750860.0</td><td>750860.0</td><td>750860.0</td></tr><tr><td>&quot;null_count&quot;</td><td>0.0</td><td>0.0</td><td>0.0</td><td>0.0</td><td>0.0</td><td>0.0</td><td>0.0</td><td>0.0</td><td>0.0</td></tr><tr><td>&quot;mean&quot;</td><td>1.1940e7</td><td>2.240492</td><td>56.779341</td><td>114.943988</td><td>1.813888</td><td>1.555587</td><td>1.289124</td><td>10.732599</td><td>1.313058</td></tr><tr><td>&quot;std&quot;</td><td>6.8857e6</td><td>3.713613</td><td>23.699825</td><td>154.342931</td><td>2.742158</td><td>1.718789</td><td>0.794742</td><td>5.93064</td><td>3.542372</td></tr><tr><td>&quot;min&quot;</td><td>14.0</td><td>1.0</td><td>0.0</td><td>0.0</td><td>1.0</td><td>1.0</td><td>1.0</td><td>0.000008</td><td>0.0</td></tr><tr><td>&hellip;</td><td>&hellip;</td><td>&hellip;</td><td>&hellip;</td><td>&hellip;</td><td>&hellip;</td><td>&hellip;</td><td>&hellip;</td><td>&hellip;</td><td>&hellip;</td></tr><tr><td>&quot;50%&quot;</td><td>1.1934371e7</td><td>1.0</td><td>59.0</td><td>80.0</td><td>1.0</td><td>1.0</td><td>1.0</td><td>11.079299</td><td>0.0</td></tr><tr><td>&quot;75%&quot;</td><td>1.7895368e7</td><td>2.0</td><td>76.0</td><td>137.0</td><td>2.0</td><td>2.0</td><td>1.0</td><td>16.054621</td><td>0.0</td></tr><tr><td>&quot;90%&quot;</td><td>2.1485738e7</td><td>4.0</td><td>88.0</td><td>219.0</td><td>3.0</td><td>3.0</td><td>2.0</td><td>18.750107</td><td>5.33025</td></tr><tr><td>&quot;99%&quot;</td><td>2.3637907e7</td><td>14.0</td><td>98.0</td><td>619.0</td><td>11.0</td><td>8.0</td><td>5.0</td><td>20.031341</td><td>16.701116</td></tr><tr><td>&quot;max&quot;</td><td>2.3875234e7</td><td>665.0</td><td>99.0</td><td>40706.0</td><td>383.0</td><td>122.0</td><td>20.0</td><td>20.141741</td><td>20.079688</td></tr></tbody></table></div>"
      ],
      "text/plain": [
       "shape: (13, 10)\n",
       "┌───────────┬───────────┬───────────┬───────────┬───┬───────────┬───────────┬───────────┬──────────┐\n",
       "│ statistic ┆ client_id ┆ sales_cou ┆ price_mea ┆ … ┆ categorie ┆ frequency ┆ T         ┆ recency  │\n",
       "│ ---       ┆ ---       ┆ nt        ┆ n         ┆   ┆ s         ┆ ---       ┆ ---       ┆ ---      │\n",
       "│ str       ┆ f64       ┆ ---       ┆ ---       ┆   ┆ ---       ┆ f64       ┆ f64       ┆ f64      │\n",
       "│           ┆           ┆ f64       ┆ f64       ┆   ┆ f64       ┆           ┆           ┆          │\n",
       "╞═══════════╪═══════════╪═══════════╪═══════════╪═══╪═══════════╪═══════════╪═══════════╪══════════╡\n",
       "│ count     ┆ 750860.0  ┆ 750860.0  ┆ 750860.0  ┆ … ┆ 750860.0  ┆ 750860.0  ┆ 750860.0  ┆ 750860.0 │\n",
       "│ null_coun ┆ 0.0       ┆ 0.0       ┆ 0.0       ┆ … ┆ 0.0       ┆ 0.0       ┆ 0.0       ┆ 0.0      │\n",
       "│ t         ┆           ┆           ┆           ┆   ┆           ┆           ┆           ┆          │\n",
       "│ mean      ┆ 1.1940e7  ┆ 2.240492  ┆ 56.779341 ┆ … ┆ 1.555587  ┆ 1.289124  ┆ 10.732599 ┆ 1.313058 │\n",
       "│ std       ┆ 6.8857e6  ┆ 3.713613  ┆ 23.699825 ┆ … ┆ 1.718789  ┆ 0.794742  ┆ 5.93064   ┆ 3.542372 │\n",
       "│ min       ┆ 14.0      ┆ 1.0       ┆ 0.0       ┆ … ┆ 1.0       ┆ 1.0       ┆ 0.000008  ┆ 0.0      │\n",
       "│ …         ┆ …         ┆ …         ┆ …         ┆ … ┆ …         ┆ …         ┆ …         ┆ …        │\n",
       "│ 50%       ┆ 1.1934371 ┆ 1.0       ┆ 59.0      ┆ … ┆ 1.0       ┆ 1.0       ┆ 11.079299 ┆ 0.0      │\n",
       "│           ┆ e7        ┆           ┆           ┆   ┆           ┆           ┆           ┆          │\n",
       "│ 75%       ┆ 1.7895368 ┆ 2.0       ┆ 76.0      ┆ … ┆ 2.0       ┆ 1.0       ┆ 16.054621 ┆ 0.0      │\n",
       "│           ┆ e7        ┆           ┆           ┆   ┆           ┆           ┆           ┆          │\n",
       "│ 90%       ┆ 2.1485738 ┆ 4.0       ┆ 88.0      ┆ … ┆ 3.0       ┆ 2.0       ┆ 18.750107 ┆ 5.33025  │\n",
       "│           ┆ e7        ┆           ┆           ┆   ┆           ┆           ┆           ┆          │\n",
       "│ 99%       ┆ 2.3637907 ┆ 14.0      ┆ 98.0      ┆ … ┆ 8.0       ┆ 5.0       ┆ 20.031341 ┆ 16.70111 │\n",
       "│           ┆ e7        ┆           ┆           ┆   ┆           ┆           ┆           ┆ 6        │\n",
       "│ max       ┆ 2.3875234 ┆ 665.0     ┆ 99.0      ┆ … ┆ 122.0     ┆ 20.0      ┆ 20.141741 ┆ 20.07968 │\n",
       "│           ┆ e7        ┆           ┆           ┆   ┆           ┆           ┆           ┆ 8        │\n",
       "└───────────┴───────────┴───────────┴───────────┴───┴───────────┴───────────┴───────────┴──────────┘"
      ]
     },
     "execution_count": 11,
     "metadata": {},
     "output_type": "execute_result"
    }
   ],
   "source": [
    "client_buy_stats.describe(percentiles=[0.01,.1,.25,.5,.75,.9,.99])"
   ]
  },
  {
   "cell_type": "markdown",
   "id": "91b9415e-d110-4e0f-b5e4-6536d066d15d",
   "metadata": {},
   "source": [
    "90% of clients had no more than 4 sales and 3 distinct skus.\n",
    "most were active for only 37 days"
   ]
  },
  {
   "cell_type": "code",
   "execution_count": 16,
   "id": "065f20e3-f105-46e4-b98b-798628488fb1",
   "metadata": {},
   "outputs": [
    {
     "data": {
      "image/png": "[encoded data removed]"
     },
     "metadata": {
      "image/png": {
       "height": 480,
       "width": 640
      }
     },
     "output_type": "display_data"
    }
   ],
   "source": [
    "p9.ggplot(client_buy_stats,p9.aes(x=\"T\")) + p9.geom_histogram(bins=25)"
   ]
  },
  {
   "cell_type": "code",
   "execution_count": 19,
   "id": "d925351b-806c-4adc-ac74-7c65380c0740",
   "metadata": {},
   "outputs": [
    {
     "data": {
      "image/png": "[encoded data removed]"
     },
     "metadata": {
      "image/png": {
       "height": 480,
       "width": 640
      }
     },
     "output_type": "display_data"
    }
   ],
   "source": [
    "p9.ggplot(client_buy_stats,p9.aes(x=\"recency\")) + p9.geom_histogram(bins=25)"
   ]
  },
  {
   "cell_type": "code",
   "execution_count": 15,
   "id": "1e023473-145c-4ea4-b821-f48402d18eef",
   "metadata": {},
   "outputs": [
    {
     "data": {
      "image/png": "[encoded data removed]"
     },
     "metadata": {
      "image/png": {
       "height": 480,
       "width": 640
      }
     },
     "output_type": "display_data"
    }
   ],
   "source": [
    "p9.ggplot(client_buy_stats,p9.aes(x=\"frequency\")) + p9.geom_histogram(bins=25)"
   ]
  },
  {
   "cell_type": "code",
   "execution_count": 18,
   "id": "4dd9e053-0444-4fd3-9c7b-59dd05a1efb9",
   "metadata": {},
   "outputs": [
    {
     "data": {
      "image/png": "[encoded data removed]"
     },
     "metadata": {
      "image/png": {
       "height": 480,
       "width": 640
      }
     },
     "output_type": "display_data"
    }
   ],
   "source": [
    "p9.ggplot(client_buy_stats,p9.aes(x=\"price_mean\")) + p9.geom_histogram(bins=25)"
   ]
  },
  {
   "cell_type": "code",
   "execution_count": 28,
   "id": "650a6d9b-1648-4db6-9b6a-066116fa7a64",
   "metadata": {},
   "outputs": [
    {
     "data": {
      "text/plain": [
       "58336"
      ]
     },
     "execution_count": 28,
     "metadata": {},
     "output_type": "execute_result"
    }
   ],
   "source": [
    "buy[\"sku\"].n_unique()"
   ]
  },
  {
   "cell_type": "code",
   "execution_count": 16,
   "id": "52c33ec1-4e9c-49cd-a2bb-aae4ac4e6068",
   "metadata": {},
   "outputs": [],
   "source": [
    "skus = (\n",
    "    buy[\"sku\"].value_counts(sort=True)\n",
    "    .with_columns(cum_count=pl.col(\"count\").cum_sum())\n",
    "    .with_columns(cum_freq=pl.col(\"cum_count\")/pl.col(\"cum_count\").tail(1))\n",
    ")\n"
   ]
  },
  {
   "cell_type": "code",
   "execution_count": 18,
   "id": "937d2c49-d595-45ed-b2fc-e8ed0f523031",
   "metadata": {},
   "outputs": [],
   "source": [
    "categories = (\n",
    "    buy[\"category\"].value_counts(sort=True)\n",
    "    .with_columns(cum_count=pl.col(\"count\").cum_sum())\n",
    "    .with_columns(cum_freq=pl.col(\"cum_count\")/pl.col(\"cum_count\").tail(1))\n",
    ")"
   ]
  },
  {
   "cell_type": "code",
   "execution_count": 44,
   "id": "6a1e0061-f080-4891-91c2-c8d596fab100",
   "metadata": {},
   "outputs": [
    {
     "data": {
      "text/plain": [
       "(58336, 4)"
      ]
     },
     "execution_count": 44,
     "metadata": {},
     "output_type": "execute_result"
    }
   ],
   "source": [
    "skus.shape"
   ]
  },
  {
   "cell_type": "code",
   "execution_count": 17,
   "id": "71ac34d1-a7f0-4a59-8893-8c2c88f9f691",
   "metadata": {},
   "outputs": [
    {
     "data": {
      "text/html": [
       "<div><style>\n",
       ".dataframe > thead > tr,\n",
       ".dataframe > tbody > tr {\n",
       "  text-align: right;\n",
       "  white-space: pre-wrap;\n",
       "}\n",
       "</style>\n",
       "<small>shape: (5, 4)</small><table border=\"1\" class=\"dataframe\"><thead><tr><th>sku</th><th>count</th><th>cum_count</th><th>cum_freq</th></tr><tr><td>i64</td><td>u32</td><td>u32</td><td>f64</td></tr></thead><tbody><tr><td>1061794</td><td>1249</td><td>1249</td><td>0.000742</td></tr><tr><td>1068071</td><td>1111</td><td>2360</td><td>0.001403</td></tr><tr><td>1466277</td><td>1080</td><td>3440</td><td>0.002045</td></tr><tr><td>1420323</td><td>1049</td><td>4489</td><td>0.002668</td></tr><tr><td>1326077</td><td>1034</td><td>5523</td><td>0.003283</td></tr></tbody></table></div>"
      ],
      "text/plain": [
       "shape: (5, 4)\n",
       "┌─────────┬───────┬───────────┬──────────┐\n",
       "│ sku     ┆ count ┆ cum_count ┆ cum_freq │\n",
       "│ ---     ┆ ---   ┆ ---       ┆ ---      │\n",
       "│ i64     ┆ u32   ┆ u32       ┆ f64      │\n",
       "╞═════════╪═══════╪═══════════╪══════════╡\n",
       "│ 1061794 ┆ 1249  ┆ 1249      ┆ 0.000742 │\n",
       "│ 1068071 ┆ 1111  ┆ 2360      ┆ 0.001403 │\n",
       "│ 1466277 ┆ 1080  ┆ 3440      ┆ 0.002045 │\n",
       "│ 1420323 ┆ 1049  ┆ 4489      ┆ 0.002668 │\n",
       "│ 1326077 ┆ 1034  ┆ 5523      ┆ 0.003283 │\n",
       "└─────────┴───────┴───────────┴──────────┘"
      ]
     },
     "execution_count": 17,
     "metadata": {},
     "output_type": "execute_result"
    }
   ],
   "source": [
    "skus.head()"
   ]
  },
  {
   "cell_type": "code",
   "execution_count": 43,
   "id": "b656b4c1-dd42-4f45-8fa2-f85cd6e139ee",
   "metadata": {},
   "outputs": [
    {
     "data": {
      "text/html": [
       "<div><style>\n",
       ".dataframe > thead > tr,\n",
       ".dataframe > tbody > tr {\n",
       "  text-align: right;\n",
       "  white-space: pre-wrap;\n",
       "}\n",
       "</style>\n",
       "<small>shape: (1, 4)</small><table border=\"1\" class=\"dataframe\"><thead><tr><th>sku</th><th>count</th><th>cum_count</th><th>cum_freq</th></tr><tr><td>i64</td><td>u32</td><td>u32</td><td>f64</td></tr></thead><tbody><tr><td>1373834</td><td>1</td><td>81665</td><td>0.81665</td></tr></tbody></table></div>"
      ],
      "text/plain": [
       "shape: (1, 4)\n",
       "┌─────────┬───────┬───────────┬──────────┐\n",
       "│ sku     ┆ count ┆ cum_count ┆ cum_freq │\n",
       "│ ---     ┆ ---   ┆ ---       ┆ ---      │\n",
       "│ i64     ┆ u32   ┆ u32       ┆ f64      │\n",
       "╞═════════╪═══════╪═══════════╪══════════╡\n",
       "│ 1373834 ┆ 1     ┆ 81665     ┆ 0.81665  │\n",
       "└─────────┴───────┴───────────┴──────────┘"
      ]
     },
     "execution_count": 43,
     "metadata": {},
     "output_type": "execute_result"
    }
   ],
   "source": [
    "skus[40000]"
   ]
  },
  {
   "cell_type": "markdown",
   "id": "98b97de5-f88c-470b-9b4b-915925887501",
   "metadata": {},
   "source": [
    "500,000 skus \n",
    "40,000 skus capture 82% of sales\n"
   ]
  },
  {
   "cell_type": "code",
   "execution_count": 19,
   "id": "317a0364-baff-421d-b0ed-ddfe7fd7e321",
   "metadata": {},
   "outputs": [
    {
     "data": {
      "text/html": [
       "<div><style>\n",
       ".dataframe > thead > tr,\n",
       ".dataframe > tbody > tr {\n",
       "  text-align: right;\n",
       "  white-space: pre-wrap;\n",
       "}\n",
       "</style>\n",
       "<small>shape: (5, 4)</small><table border=\"1\" class=\"dataframe\"><thead><tr><th>category</th><th>count</th><th>cum_count</th><th>cum_freq</th></tr><tr><td>i64</td><td>u32</td><td>u32</td><td>f64</td></tr></thead><tbody><tr><td>3068</td><td>42128</td><td>42128</td><td>0.025042</td></tr><tr><td>5954</td><td>26241</td><td>68369</td><td>0.04064</td></tr><tr><td>3147</td><td>19400</td><td>87769</td><td>0.052172</td></tr><tr><td>3944</td><td>18054</td><td>105823</td><td>0.062904</td></tr><tr><td>2739</td><td>13619</td><td>119442</td><td>0.070999</td></tr></tbody></table></div>"
      ],
      "text/plain": [
       "shape: (5, 4)\n",
       "┌──────────┬───────┬───────────┬──────────┐\n",
       "│ category ┆ count ┆ cum_count ┆ cum_freq │\n",
       "│ ---      ┆ ---   ┆ ---       ┆ ---      │\n",
       "│ i64      ┆ u32   ┆ u32       ┆ f64      │\n",
       "╞══════════╪═══════╪═══════════╪══════════╡\n",
       "│ 3068     ┆ 42128 ┆ 42128     ┆ 0.025042 │\n",
       "│ 5954     ┆ 26241 ┆ 68369     ┆ 0.04064  │\n",
       "│ 3147     ┆ 19400 ┆ 87769     ┆ 0.052172 │\n",
       "│ 3944     ┆ 18054 ┆ 105823    ┆ 0.062904 │\n",
       "│ 2739     ┆ 13619 ┆ 119442    ┆ 0.070999 │\n",
       "└──────────┴───────┴───────────┴──────────┘"
      ]
     },
     "execution_count": 19,
     "metadata": {},
     "output_type": "execute_result"
    }
   ],
   "source": [
    "categories.head()"
   ]
  },
  {
   "cell_type": "code",
   "execution_count": 25,
   "id": "25e2ece6-106e-4a1f-bb0a-98412b47e7e6",
   "metadata": {},
   "outputs": [
    {
     "data": {
      "text/plain": [
       "(6089, 4)"
      ]
     },
     "execution_count": 25,
     "metadata": {},
     "output_type": "execute_result"
    }
   ],
   "source": [
    "categories.shape"
   ]
  },
  {
   "cell_type": "code",
   "execution_count": null,
   "id": "216aa76f-c91d-4109-9856-41d87216570a",
   "metadata": {},
   "outputs": [],
   "source": []
  },
  {
   "cell_type": "code",
   "execution_count": 24,
   "id": "d98b6b7a-1e8d-4f71-965d-fab8dc73f32c",
   "metadata": {},
   "outputs": [
    {
     "data": {
      "text/html": [
       "<div><style>\n",
       ".dataframe > thead > tr,\n",
       ".dataframe > tbody > tr {\n",
       "  text-align: right;\n",
       "  white-space: pre-wrap;\n",
       "}\n",
       "</style>\n",
       "<small>shape: (1, 4)</small><table border=\"1\" class=\"dataframe\"><thead><tr><th>category</th><th>count</th><th>cum_count</th><th>cum_freq</th></tr><tr><td>i64</td><td>u32</td><td>u32</td><td>f64</td></tr></thead><tbody><tr><td>6412</td><td>324</td><td>1390330</td><td>0.826448</td></tr></tbody></table></div>"
      ],
      "text/plain": [
       "shape: (1, 4)\n",
       "┌──────────┬───────┬───────────┬──────────┐\n",
       "│ category ┆ count ┆ cum_count ┆ cum_freq │\n",
       "│ ---      ┆ ---   ┆ ---       ┆ ---      │\n",
       "│ i64      ┆ u32   ┆ u32       ┆ f64      │\n",
       "╞══════════╪═══════╪═══════════╪══════════╡\n",
       "│ 6412     ┆ 324   ┆ 1390330   ┆ 0.826448 │\n",
       "└──────────┴───────┴───────────┴──────────┘"
      ]
     },
     "execution_count": 24,
     "metadata": {},
     "output_type": "execute_result"
    }
   ],
   "source": [
    "categories[1000]"
   ]
  },
  {
   "cell_type": "code",
   "execution_count": 68,
   "id": "6f7537b5-4753-4947-9ff7-d99bf2261e2f",
   "metadata": {},
   "outputs": [],
   "source": [
    "product = pl.concat((buy,add_to_cart))"
   ]
  },
  {
   "cell_type": "code",
   "execution_count": 69,
   "id": "bd778636-c088-433e-9c87-c9a93241b20f",
   "metadata": {},
   "outputs": [
    {
     "data": {
      "text/plain": [
       "(2000000, 7)"
      ]
     },
     "execution_count": 69,
     "metadata": {},
     "output_type": "execute_result"
    }
   ],
   "source": [
    "product.shape"
   ]
  },
  {
   "cell_type": "code",
   "execution_count": 70,
   "id": "fc8943d0-d8fb-4554-b1ae-1ec5692c7643",
   "metadata": {},
   "outputs": [
    {
     "data": {
      "text/html": [
       "<div><style>\n",
       ".dataframe > thead > tr,\n",
       ".dataframe > tbody > tr {\n",
       "  text-align: right;\n",
       "  white-space: pre-wrap;\n",
       "}\n",
       "</style>\n",
       "<small>shape: (2, 7)</small><table border=\"1\" class=\"dataframe\"><thead><tr><th>client_id</th><th>timestamp</th><th>sku</th><th>action</th><th>category</th><th>price</th><th>name</th></tr><tr><td>i64</td><td>datetime[ms]</td><td>i64</td><td>str</td><td>i64</td><td>i64</td><td>str</td></tr></thead><tbody><tr><td>4708463</td><td>2022-07-20 02:56:30</td><td>237442</td><td>&quot;add_to_cart&quot;</td><td>2079</td><td>69</td><td>&quot;[230 124 223&nbsp;&nbsp;77 226 148 132 1…</td></tr><tr><td>4708463</td><td>2022-07-20 02:59:45</td><td>237442</td><td>&quot;product_buy&quot;</td><td>2079</td><td>69</td><td>&quot;[230 124 223&nbsp;&nbsp;77 226 148 132 1…</td></tr></tbody></table></div>"
      ],
      "text/plain": [
       "shape: (2, 7)\n",
       "┌───────────┬─────────────────────┬────────┬─────────────┬──────────┬───────┬──────────────────────┐\n",
       "│ client_id ┆ timestamp           ┆ sku    ┆ action      ┆ category ┆ price ┆ name                 │\n",
       "│ ---       ┆ ---                 ┆ ---    ┆ ---         ┆ ---      ┆ ---   ┆ ---                  │\n",
       "│ i64       ┆ datetime[ms]        ┆ i64    ┆ str         ┆ i64      ┆ i64   ┆ str                  │\n",
       "╞═══════════╪═════════════════════╪════════╪═════════════╪══════════╪═══════╪══════════════════════╡\n",
       "│ 4708463   ┆ 2022-07-20 02:56:30 ┆ 237442 ┆ add_to_cart ┆ 2079     ┆ 69    ┆ [230 124 223  77 226 │\n",
       "│           ┆                     ┆        ┆             ┆          ┆       ┆ 148 132 1…           │\n",
       "│ 4708463   ┆ 2022-07-20 02:59:45 ┆ 237442 ┆ product_buy ┆ 2079     ┆ 69    ┆ [230 124 223  77 226 │\n",
       "│           ┆                     ┆        ┆             ┆          ┆       ┆ 148 132 1…           │\n",
       "└───────────┴─────────────────────┴────────┴─────────────┴──────────┴───────┴──────────────────────┘"
      ]
     },
     "execution_count": 70,
     "metadata": {},
     "output_type": "execute_result"
    }
   ],
   "source": [
    "product.filter(pl.col(\"client_id\")==4708463).sort(\"timestamp\")"
   ]
  },
  {
   "cell_type": "code",
   "execution_count": 71,
   "id": "d8df819f-2d6e-4ca3-9e43-3a13007599d8",
   "metadata": {},
   "outputs": [
    {
     "data": {
      "text/html": [
       "<div><style>\n",
       ".dataframe > thead > tr,\n",
       ".dataframe > tbody > tr {\n",
       "  text-align: right;\n",
       "  white-space: pre-wrap;\n",
       "}\n",
       "</style>\n",
       "<small>shape: (800, 7)</small><table border=\"1\" class=\"dataframe\"><thead><tr><th>client_id</th><th>timestamp</th><th>sku</th><th>action</th><th>category</th><th>price</th><th>name</th></tr><tr><td>i64</td><td>datetime[ms]</td><td>i64</td><td>str</td><td>i64</td><td>i64</td><td>str</td></tr></thead><tbody><tr><td>33711</td><td>2022-07-20 07:51:55</td><td>237442</td><td>&quot;product_buy&quot;</td><td>2079</td><td>69</td><td>&quot;[230 124 223&nbsp;&nbsp;77 226 148 132 1…</td></tr><tr><td>178501</td><td>2022-07-19 13:40:55</td><td>237442</td><td>&quot;add_to_cart&quot;</td><td>2079</td><td>69</td><td>&quot;[230 124 223&nbsp;&nbsp;77 226 148 132 1…</td></tr><tr><td>178501</td><td>2022-07-19 13:45:55</td><td>237442</td><td>&quot;product_buy&quot;</td><td>2079</td><td>69</td><td>&quot;[230 124 223&nbsp;&nbsp;77 226 148 132 1…</td></tr><tr><td>257153</td><td>2022-07-20 19:38:05</td><td>237442</td><td>&quot;add_to_cart&quot;</td><td>2079</td><td>69</td><td>&quot;[230 124 223&nbsp;&nbsp;77 226 148 132 1…</td></tr><tr><td>257153</td><td>2022-07-20 19:57:15</td><td>237442</td><td>&quot;add_to_cart&quot;</td><td>2079</td><td>69</td><td>&quot;[230 124 223&nbsp;&nbsp;77 226 148 132 1…</td></tr><tr><td>&hellip;</td><td>&hellip;</td><td>&hellip;</td><td>&hellip;</td><td>&hellip;</td><td>&hellip;</td><td>&hellip;</td></tr><tr><td>23668014</td><td>2022-08-22 04:25:05</td><td>237442</td><td>&quot;product_buy&quot;</td><td>2079</td><td>69</td><td>&quot;[230 124 223&nbsp;&nbsp;77 226 148 132 1…</td></tr><tr><td>23668014</td><td>2022-08-22 04:35:35</td><td>237442</td><td>&quot;add_to_cart&quot;</td><td>2079</td><td>69</td><td>&quot;[230 124 223&nbsp;&nbsp;77 226 148 132 1…</td></tr><tr><td>23732846</td><td>2022-07-19 12:58:50</td><td>237442</td><td>&quot;product_buy&quot;</td><td>2079</td><td>69</td><td>&quot;[230 124 223&nbsp;&nbsp;77 226 148 132 1…</td></tr><tr><td>23846478</td><td>2022-07-19 09:14:15</td><td>237442</td><td>&quot;product_buy&quot;</td><td>2079</td><td>69</td><td>&quot;[230 124 223&nbsp;&nbsp;77 226 148 132 1…</td></tr><tr><td>23848136</td><td>2022-09-08 09:09:10</td><td>237442</td><td>&quot;product_buy&quot;</td><td>2079</td><td>69</td><td>&quot;[230 124 223&nbsp;&nbsp;77 226 148 132 1…</td></tr></tbody></table></div>"
      ],
      "text/plain": [
       "shape: (800, 7)\n",
       "┌───────────┬─────────────────────┬────────┬─────────────┬──────────┬───────┬──────────────────────┐\n",
       "│ client_id ┆ timestamp           ┆ sku    ┆ action      ┆ category ┆ price ┆ name                 │\n",
       "│ ---       ┆ ---                 ┆ ---    ┆ ---         ┆ ---      ┆ ---   ┆ ---                  │\n",
       "│ i64       ┆ datetime[ms]        ┆ i64    ┆ str         ┆ i64      ┆ i64   ┆ str                  │\n",
       "╞═══════════╪═════════════════════╪════════╪═════════════╪══════════╪═══════╪══════════════════════╡\n",
       "│ 33711     ┆ 2022-07-20 07:51:55 ┆ 237442 ┆ product_buy ┆ 2079     ┆ 69    ┆ [230 124 223  77 226 │\n",
       "│           ┆                     ┆        ┆             ┆          ┆       ┆ 148 132 1…           │\n",
       "│ 178501    ┆ 2022-07-19 13:40:55 ┆ 237442 ┆ add_to_cart ┆ 2079     ┆ 69    ┆ [230 124 223  77 226 │\n",
       "│           ┆                     ┆        ┆             ┆          ┆       ┆ 148 132 1…           │\n",
       "│ 178501    ┆ 2022-07-19 13:45:55 ┆ 237442 ┆ product_buy ┆ 2079     ┆ 69    ┆ [230 124 223  77 226 │\n",
       "│           ┆                     ┆        ┆             ┆          ┆       ┆ 148 132 1…           │\n",
       "│ 257153    ┆ 2022-07-20 19:38:05 ┆ 237442 ┆ add_to_cart ┆ 2079     ┆ 69    ┆ [230 124 223  77 226 │\n",
       "│           ┆                     ┆        ┆             ┆          ┆       ┆ 148 132 1…           │\n",
       "│ 257153    ┆ 2022-07-20 19:57:15 ┆ 237442 ┆ add_to_cart ┆ 2079     ┆ 69    ┆ [230 124 223  77 226 │\n",
       "│           ┆                     ┆        ┆             ┆          ┆       ┆ 148 132 1…           │\n",
       "│ …         ┆ …                   ┆ …      ┆ …           ┆ …        ┆ …     ┆ …                    │\n",
       "│ 23668014  ┆ 2022-08-22 04:25:05 ┆ 237442 ┆ product_buy ┆ 2079     ┆ 69    ┆ [230 124 223  77 226 │\n",
       "│           ┆                     ┆        ┆             ┆          ┆       ┆ 148 132 1…           │\n",
       "│ 23668014  ┆ 2022-08-22 04:35:35 ┆ 237442 ┆ add_to_cart ┆ 2079     ┆ 69    ┆ [230 124 223  77 226 │\n",
       "│           ┆                     ┆        ┆             ┆          ┆       ┆ 148 132 1…           │\n",
       "│ 23732846  ┆ 2022-07-19 12:58:50 ┆ 237442 ┆ product_buy ┆ 2079     ┆ 69    ┆ [230 124 223  77 226 │\n",
       "│           ┆                     ┆        ┆             ┆          ┆       ┆ 148 132 1…           │\n",
       "│ 23846478  ┆ 2022-07-19 09:14:15 ┆ 237442 ┆ product_buy ┆ 2079     ┆ 69    ┆ [230 124 223  77 226 │\n",
       "│           ┆                     ┆        ┆             ┆          ┆       ┆ 148 132 1…           │\n",
       "│ 23848136  ┆ 2022-09-08 09:09:10 ┆ 237442 ┆ product_buy ┆ 2079     ┆ 69    ┆ [230 124 223  77 226 │\n",
       "│           ┆                     ┆        ┆             ┆          ┆       ┆ 148 132 1…           │\n",
       "└───────────┴─────────────────────┴────────┴─────────────┴──────────┴───────┴──────────────────────┘"
      ]
     },
     "execution_count": 71,
     "metadata": {},
     "output_type": "execute_result"
    }
   ],
   "source": [
    "product.filter(pl.col(\"sku\")==237442).sort(\"client_id\",\"timestamp\")"
   ]
  },
  {
   "cell_type": "code",
   "execution_count": 72,
   "id": "927fa5f1-4a07-4557-b80d-88aa225bca6e",
   "metadata": {},
   "outputs": [
    {
     "data": {
      "text/html": [
       "<div><style>\n",
       ".dataframe > thead > tr,\n",
       ".dataframe > tbody > tr {\n",
       "  text-align: right;\n",
       "  white-space: pre-wrap;\n",
       "}\n",
       "</style>\n",
       "<small>shape: (1, 7)</small><table border=\"1\" class=\"dataframe\"><thead><tr><th>client_id</th><th>timestamp</th><th>sku</th><th>action</th><th>category</th><th>price</th><th>name</th></tr><tr><td>i64</td><td>datetime[ms]</td><td>i64</td><td>str</td><td>i64</td><td>i64</td><td>str</td></tr></thead><tbody><tr><td>23732846</td><td>2022-07-19 12:58:50</td><td>237442</td><td>&quot;product_buy&quot;</td><td>2079</td><td>69</td><td>&quot;[230 124 223&nbsp;&nbsp;77 226 148 132 1…</td></tr></tbody></table></div>"
      ],
      "text/plain": [
       "shape: (1, 7)\n",
       "┌───────────┬─────────────────────┬────────┬─────────────┬──────────┬───────┬──────────────────────┐\n",
       "│ client_id ┆ timestamp           ┆ sku    ┆ action      ┆ category ┆ price ┆ name                 │\n",
       "│ ---       ┆ ---                 ┆ ---    ┆ ---         ┆ ---      ┆ ---   ┆ ---                  │\n",
       "│ i64       ┆ datetime[ms]        ┆ i64    ┆ str         ┆ i64      ┆ i64   ┆ str                  │\n",
       "╞═══════════╪═════════════════════╪════════╪═════════════╪══════════╪═══════╪══════════════════════╡\n",
       "│ 23732846  ┆ 2022-07-19 12:58:50 ┆ 237442 ┆ product_buy ┆ 2079     ┆ 69    ┆ [230 124 223  77 226 │\n",
       "│           ┆                     ┆        ┆             ┆          ┆       ┆ 148 132 1…           │\n",
       "└───────────┴─────────────────────┴────────┴─────────────┴──────────┴───────┴──────────────────────┘"
      ]
     },
     "execution_count": 72,
     "metadata": {},
     "output_type": "execute_result"
    }
   ],
   "source": [
    "product.filter(pl.col(\"client_id\")==23732846).sort(\"timestamp\")"
   ]
  },
  {
   "cell_type": "code",
   "execution_count": 25,
   "id": "2726c43d-bf98-427d-afcc-3a07a47e0760",
   "metadata": {},
   "outputs": [
    {
     "data": {
      "text/html": [
       "<div><style>\n",
       ".dataframe > thead > tr,\n",
       ".dataframe > tbody > tr {\n",
       "  text-align: right;\n",
       "  white-space: pre-wrap;\n",
       "}\n",
       "</style>\n",
       "<small>shape: (19, 2)</small><table border=\"1\" class=\"dataframe\"><thead><tr><th>statistic</th><th>value</th></tr><tr><td>str</td><td>f64</td></tr></thead><tbody><tr><td>&quot;count&quot;</td><td>750860.0</td></tr><tr><td>&quot;null_count&quot;</td><td>0.0</td></tr><tr><td>&quot;mean&quot;</td><td>2.240492</td></tr><tr><td>&quot;std&quot;</td><td>3.713613</td></tr><tr><td>&quot;min&quot;</td><td>1.0</td></tr><tr><td>&quot;1%&quot;</td><td>1.0</td></tr><tr><td>&quot;10%&quot;</td><td>1.0</td></tr><tr><td>&quot;25%&quot;</td><td>1.0</td></tr><tr><td>&quot;50%&quot;</td><td>1.0</td></tr><tr><td>&quot;60%&quot;</td><td>2.0</td></tr><tr><td>&quot;70%&quot;</td><td>2.0</td></tr><tr><td>&quot;75%&quot;</td><td>2.0</td></tr><tr><td>&quot;90%&quot;</td><td>4.0</td></tr><tr><td>&quot;95%&quot;</td><td>6.0</td></tr><tr><td>&quot;96%&quot;</td><td>7.0</td></tr><tr><td>&quot;97%&quot;</td><td>8.0</td></tr><tr><td>&quot;98%&quot;</td><td>10.0</td></tr><tr><td>&quot;99%&quot;</td><td>14.0</td></tr><tr><td>&quot;max&quot;</td><td>665.0</td></tr></tbody></table></div>"
      ],
      "text/plain": [
       "shape: (19, 2)\n",
       "┌────────────┬──────────┐\n",
       "│ statistic  ┆ value    │\n",
       "│ ---        ┆ ---      │\n",
       "│ str        ┆ f64      │\n",
       "╞════════════╪══════════╡\n",
       "│ count      ┆ 750860.0 │\n",
       "│ null_count ┆ 0.0      │\n",
       "│ mean       ┆ 2.240492 │\n",
       "│ std        ┆ 3.713613 │\n",
       "│ min        ┆ 1.0      │\n",
       "│ 1%         ┆ 1.0      │\n",
       "│ 10%        ┆ 1.0      │\n",
       "│ 25%        ┆ 1.0      │\n",
       "│ 50%        ┆ 1.0      │\n",
       "│ 60%        ┆ 2.0      │\n",
       "│ 70%        ┆ 2.0      │\n",
       "│ 75%        ┆ 2.0      │\n",
       "│ 90%        ┆ 4.0      │\n",
       "│ 95%        ┆ 6.0      │\n",
       "│ 96%        ┆ 7.0      │\n",
       "│ 97%        ┆ 8.0      │\n",
       "│ 98%        ┆ 10.0     │\n",
       "│ 99%        ┆ 14.0     │\n",
       "│ max        ┆ 665.0    │\n",
       "└────────────┴──────────┘"
      ]
     },
     "execution_count": 25,
     "metadata": {},
     "output_type": "execute_result"
    }
   ],
   "source": [
    "buy.group_by(\"client_id\").agg(pl.len()).get_column(\"len\").describe(percentiles=[.01,.10,.25,.50,.6,.7,.75,.90,.95,.96,.97,.98,.99])"
   ]
  },
  {
   "cell_type": "markdown",
   "id": "13c1e116-36f8-4d6f-b556-d3695beae1ae",
   "metadata": {},
   "source": [
    "50% have only 1 purchase, 75% have 2, 90% 4 and 98% have 10"
   ]
  },
  {
   "cell_type": "code",
   "execution_count": 26,
   "id": "65136362-6146-4654-bc36-1ebc84422450",
   "metadata": {},
   "outputs": [
    {
     "data": {
      "text/html": [
       "<div><style>\n",
       ".dataframe > thead > tr,\n",
       ".dataframe > tbody > tr {\n",
       "  text-align: right;\n",
       "  white-space: pre-wrap;\n",
       "}\n",
       "</style>\n",
       "<small>shape: (665, 7)</small><table border=\"1\" class=\"dataframe\"><thead><tr><th>client_id</th><th>timestamp</th><th>sku</th><th>action</th><th>category</th><th>price</th><th>name</th></tr><tr><td>i64</td><td>datetime[ms]</td><td>i64</td><td>str</td><td>i64</td><td>i64</td><td>list[i16]</td></tr></thead><tbody><tr><td>13684077</td><td>2022-09-08 21:42:55</td><td>436878</td><td>&quot;product_buy&quot;</td><td>1517</td><td>36</td><td>[100, 109, … 252]</td></tr><tr><td>13684077</td><td>2022-09-08 21:42:55</td><td>39041</td><td>&quot;product_buy&quot;</td><td>1374</td><td>86</td><td>[121, 65, … 140]</td></tr><tr><td>13684077</td><td>2022-09-08 21:42:55</td><td>814355</td><td>&quot;product_buy&quot;</td><td>1374</td><td>88</td><td>[209, 26, … 9]</td></tr><tr><td>13684077</td><td>2022-09-08 21:42:55</td><td>774895</td><td>&quot;product_buy&quot;</td><td>139</td><td>36</td><td>[15, 6, … 56]</td></tr><tr><td>13684077</td><td>2022-09-08 21:42:55</td><td>1478935</td><td>&quot;product_buy&quot;</td><td>831</td><td>80</td><td>[152, 21, … 72]</td></tr><tr><td>13684077</td><td>2022-09-08 21:42:55</td><td>403318</td><td>&quot;product_buy&quot;</td><td>1374</td><td>58</td><td>[209, 54, … 72]</td></tr><tr><td>13684077</td><td>2022-09-08 21:42:55</td><td>972561</td><td>&quot;product_buy&quot;</td><td>680</td><td>0</td><td>[209, 235, … 72]</td></tr><tr><td>13684077</td><td>2022-09-08 21:42:55</td><td>601476</td><td>&quot;product_buy&quot;</td><td>2910</td><td>42</td><td>[180, 109, … 72]</td></tr><tr><td>13684077</td><td>2022-09-08 21:42:55</td><td>630911</td><td>&quot;product_buy&quot;</td><td>1374</td><td>68</td><td>[234, 81, … 9]</td></tr><tr><td>13684077</td><td>2022-09-08 21:42:55</td><td>1271829</td><td>&quot;product_buy&quot;</td><td>139</td><td>47</td><td>[15, 58, … 240]</td></tr><tr><td>13684077</td><td>2022-09-08 21:42:55</td><td>1413903</td><td>&quot;product_buy&quot;</td><td>1</td><td>33</td><td>[209, 65, … 72]</td></tr><tr><td>13684077</td><td>2022-09-08 21:44:25</td><td>630911</td><td>&quot;product_buy&quot;</td><td>1374</td><td>68</td><td>[234, 81, … 9]</td></tr><tr><td>13684077</td><td>2022-09-08 21:44:25</td><td>436878</td><td>&quot;product_buy&quot;</td><td>1517</td><td>36</td><td>[100, 109, … 252]</td></tr><tr><td>13684077</td><td>2022-09-08 21:44:25</td><td>814355</td><td>&quot;product_buy&quot;</td><td>1374</td><td>88</td><td>[209, 26, … 9]</td></tr><tr><td>13684077</td><td>2022-09-08 21:44:25</td><td>601476</td><td>&quot;product_buy&quot;</td><td>2910</td><td>42</td><td>[180, 109, … 72]</td></tr><tr><td>13684077</td><td>2022-09-08 21:44:25</td><td>1478935</td><td>&quot;product_buy&quot;</td><td>831</td><td>80</td><td>[152, 21, … 72]</td></tr><tr><td>13684077</td><td>2022-09-08 21:44:25</td><td>1271829</td><td>&quot;product_buy&quot;</td><td>139</td><td>47</td><td>[15, 58, … 240]</td></tr><tr><td>13684077</td><td>2022-09-08 21:44:25</td><td>972561</td><td>&quot;product_buy&quot;</td><td>680</td><td>0</td><td>[209, 235, … 72]</td></tr><tr><td>13684077</td><td>2022-09-08 21:44:25</td><td>774895</td><td>&quot;product_buy&quot;</td><td>139</td><td>36</td><td>[15, 6, … 56]</td></tr><tr><td>13684077</td><td>2022-09-08 21:44:25</td><td>403318</td><td>&quot;product_buy&quot;</td><td>1374</td><td>58</td><td>[209, 54, … 72]</td></tr><tr><td>13684077</td><td>2022-09-08 21:44:25</td><td>39041</td><td>&quot;product_buy&quot;</td><td>1374</td><td>86</td><td>[121, 65, … 140]</td></tr><tr><td>13684077</td><td>2022-09-08 21:44:25</td><td>1413903</td><td>&quot;product_buy&quot;</td><td>1</td><td>33</td><td>[209, 65, … 72]</td></tr><tr><td>13684077</td><td>2022-09-08 21:45:25</td><td>630911</td><td>&quot;product_buy&quot;</td><td>1374</td><td>68</td><td>[234, 81, … 9]</td></tr><tr><td>13684077</td><td>2022-09-08 21:45:25</td><td>39041</td><td>&quot;product_buy&quot;</td><td>1374</td><td>86</td><td>[121, 65, … 140]</td></tr><tr><td>13684077</td><td>2022-09-08 21:45:25</td><td>601476</td><td>&quot;product_buy&quot;</td><td>2910</td><td>42</td><td>[180, 109, … 72]</td></tr><tr><td>13684077</td><td>2022-09-08 21:45:25</td><td>774895</td><td>&quot;product_buy&quot;</td><td>139</td><td>36</td><td>[15, 6, … 56]</td></tr><tr><td>13684077</td><td>2022-09-08 21:45:25</td><td>1413903</td><td>&quot;product_buy&quot;</td><td>1</td><td>33</td><td>[209, 65, … 72]</td></tr><tr><td>13684077</td><td>2022-09-08 21:45:25</td><td>436878</td><td>&quot;product_buy&quot;</td><td>1517</td><td>36</td><td>[100, 109, … 252]</td></tr><tr><td>13684077</td><td>2022-09-08 21:45:25</td><td>1271829</td><td>&quot;product_buy&quot;</td><td>139</td><td>47</td><td>[15, 58, … 240]</td></tr><tr><td>13684077</td><td>2022-09-08 21:45:25</td><td>403318</td><td>&quot;product_buy&quot;</td><td>1374</td><td>58</td><td>[209, 54, … 72]</td></tr><tr><td>13684077</td><td>2022-09-08 21:45:25</td><td>1478935</td><td>&quot;product_buy&quot;</td><td>831</td><td>80</td><td>[152, 21, … 72]</td></tr><tr><td>13684077</td><td>2022-09-08 21:45:25</td><td>972561</td><td>&quot;product_buy&quot;</td><td>680</td><td>0</td><td>[209, 235, … 72]</td></tr><tr><td>13684077</td><td>2022-09-08 21:45:25</td><td>814355</td><td>&quot;product_buy&quot;</td><td>1374</td><td>88</td><td>[209, 26, … 9]</td></tr><tr><td>13684077</td><td>2022-09-08 21:46:10</td><td>1413903</td><td>&quot;product_buy&quot;</td><td>1</td><td>33</td><td>[209, 65, … 72]</td></tr><tr><td>13684077</td><td>2022-09-08 21:46:10</td><td>972561</td><td>&quot;product_buy&quot;</td><td>680</td><td>0</td><td>[209, 235, … 72]</td></tr><tr><td>13684077</td><td>2022-09-08 21:46:10</td><td>630911</td><td>&quot;product_buy&quot;</td><td>1374</td><td>68</td><td>[234, 81, … 9]</td></tr><tr><td>13684077</td><td>2022-09-08 21:46:10</td><td>814355</td><td>&quot;product_buy&quot;</td><td>1374</td><td>88</td><td>[209, 26, … 9]</td></tr><tr><td>13684077</td><td>2022-09-08 21:46:10</td><td>1478935</td><td>&quot;product_buy&quot;</td><td>831</td><td>80</td><td>[152, 21, … 72]</td></tr><tr><td>13684077</td><td>2022-09-08 21:46:10</td><td>1271829</td><td>&quot;product_buy&quot;</td><td>139</td><td>47</td><td>[15, 58, … 240]</td></tr><tr><td>13684077</td><td>2022-09-08 21:46:10</td><td>403318</td><td>&quot;product_buy&quot;</td><td>1374</td><td>58</td><td>[209, 54, … 72]</td></tr><tr><td>13684077</td><td>2022-09-08 21:46:10</td><td>39041</td><td>&quot;product_buy&quot;</td><td>1374</td><td>86</td><td>[121, 65, … 140]</td></tr><tr><td>13684077</td><td>2022-09-08 21:46:10</td><td>774895</td><td>&quot;product_buy&quot;</td><td>139</td><td>36</td><td>[15, 6, … 56]</td></tr><tr><td>13684077</td><td>2022-09-08 21:46:10</td><td>436878</td><td>&quot;product_buy&quot;</td><td>1517</td><td>36</td><td>[100, 109, … 252]</td></tr><tr><td>13684077</td><td>2022-09-08 21:46:10</td><td>601476</td><td>&quot;product_buy&quot;</td><td>2910</td><td>42</td><td>[180, 109, … 72]</td></tr><tr><td>13684077</td><td>2022-09-08 21:47:25</td><td>814355</td><td>&quot;product_buy&quot;</td><td>1374</td><td>88</td><td>[209, 26, … 9]</td></tr><tr><td>13684077</td><td>2022-09-08 21:47:25</td><td>1413903</td><td>&quot;product_buy&quot;</td><td>1</td><td>33</td><td>[209, 65, … 72]</td></tr><tr><td>13684077</td><td>2022-09-08 21:47:25</td><td>403318</td><td>&quot;product_buy&quot;</td><td>1374</td><td>58</td><td>[209, 54, … 72]</td></tr><tr><td>13684077</td><td>2022-09-08 21:47:25</td><td>972561</td><td>&quot;product_buy&quot;</td><td>680</td><td>0</td><td>[209, 235, … 72]</td></tr><tr><td>13684077</td><td>2022-09-08 21:47:25</td><td>1271829</td><td>&quot;product_buy&quot;</td><td>139</td><td>47</td><td>[15, 58, … 240]</td></tr><tr><td>13684077</td><td>2022-09-08 21:47:25</td><td>630911</td><td>&quot;product_buy&quot;</td><td>1374</td><td>68</td><td>[234, 81, … 9]</td></tr><tr><td>&hellip;</td><td>&hellip;</td><td>&hellip;</td><td>&hellip;</td><td>&hellip;</td><td>&hellip;</td><td>&hellip;</td></tr><tr><td>13684077</td><td>2022-09-12 01:29:00</td><td>597704</td><td>&quot;product_buy&quot;</td><td>2624</td><td>92</td><td>[94, 23, … 81]</td></tr><tr><td>13684077</td><td>2022-09-12 01:29:00</td><td>608165</td><td>&quot;product_buy&quot;</td><td>831</td><td>77</td><td>[152, 109, … 110]</td></tr><tr><td>13684077</td><td>2022-09-12 01:29:00</td><td>371140</td><td>&quot;product_buy&quot;</td><td>2624</td><td>86</td><td>[94, 185, … 171]</td></tr><tr><td>13684077</td><td>2022-09-12 01:29:00</td><td>1380215</td><td>&quot;product_buy&quot;</td><td>831</td><td>0</td><td>[152, 109, … 110]</td></tr><tr><td>13684077</td><td>2022-09-12 01:29:00</td><td>533529</td><td>&quot;product_buy&quot;</td><td>831</td><td>86</td><td>[15, 109, … 110]</td></tr><tr><td>13684077</td><td>2022-09-12 01:29:59</td><td>533529</td><td>&quot;product_buy&quot;</td><td>831</td><td>86</td><td>[15, 109, … 110]</td></tr><tr><td>13684077</td><td>2022-09-12 01:29:59</td><td>1380215</td><td>&quot;product_buy&quot;</td><td>831</td><td>0</td><td>[152, 109, … 110]</td></tr><tr><td>13684077</td><td>2022-09-12 01:29:59</td><td>371140</td><td>&quot;product_buy&quot;</td><td>2624</td><td>86</td><td>[94, 185, … 171]</td></tr><tr><td>13684077</td><td>2022-09-12 01:29:59</td><td>608165</td><td>&quot;product_buy&quot;</td><td>831</td><td>77</td><td>[152, 109, … 110]</td></tr><tr><td>13684077</td><td>2022-09-12 01:29:59</td><td>597704</td><td>&quot;product_buy&quot;</td><td>2624</td><td>92</td><td>[94, 23, … 81]</td></tr><tr><td>13684077</td><td>2022-09-12 01:31:10</td><td>1380215</td><td>&quot;product_buy&quot;</td><td>831</td><td>0</td><td>[152, 109, … 110]</td></tr><tr><td>13684077</td><td>2022-09-12 01:31:10</td><td>608165</td><td>&quot;product_buy&quot;</td><td>831</td><td>77</td><td>[152, 109, … 110]</td></tr><tr><td>13684077</td><td>2022-09-12 01:31:10</td><td>597704</td><td>&quot;product_buy&quot;</td><td>2624</td><td>92</td><td>[94, 23, … 81]</td></tr><tr><td>13684077</td><td>2022-09-12 01:31:10</td><td>533529</td><td>&quot;product_buy&quot;</td><td>831</td><td>86</td><td>[15, 109, … 110]</td></tr><tr><td>13684077</td><td>2022-09-12 01:31:10</td><td>371140</td><td>&quot;product_buy&quot;</td><td>2624</td><td>86</td><td>[94, 185, … 171]</td></tr><tr><td>13684077</td><td>2022-09-12 01:32:15</td><td>533529</td><td>&quot;product_buy&quot;</td><td>831</td><td>86</td><td>[15, 109, … 110]</td></tr><tr><td>13684077</td><td>2022-09-12 01:32:15</td><td>608165</td><td>&quot;product_buy&quot;</td><td>831</td><td>77</td><td>[152, 109, … 110]</td></tr><tr><td>13684077</td><td>2022-09-12 01:32:15</td><td>371140</td><td>&quot;product_buy&quot;</td><td>2624</td><td>86</td><td>[94, 185, … 171]</td></tr><tr><td>13684077</td><td>2022-09-12 01:32:15</td><td>597704</td><td>&quot;product_buy&quot;</td><td>2624</td><td>92</td><td>[94, 23, … 81]</td></tr><tr><td>13684077</td><td>2022-09-12 01:32:15</td><td>1380215</td><td>&quot;product_buy&quot;</td><td>831</td><td>0</td><td>[152, 109, … 110]</td></tr><tr><td>13684077</td><td>2022-09-12 01:33:15</td><td>608165</td><td>&quot;product_buy&quot;</td><td>831</td><td>77</td><td>[152, 109, … 110]</td></tr><tr><td>13684077</td><td>2022-09-12 01:33:15</td><td>1380215</td><td>&quot;product_buy&quot;</td><td>831</td><td>0</td><td>[152, 109, … 110]</td></tr><tr><td>13684077</td><td>2022-09-12 01:33:15</td><td>533529</td><td>&quot;product_buy&quot;</td><td>831</td><td>86</td><td>[15, 109, … 110]</td></tr><tr><td>13684077</td><td>2022-09-12 01:33:15</td><td>597704</td><td>&quot;product_buy&quot;</td><td>2624</td><td>92</td><td>[94, 23, … 81]</td></tr><tr><td>13684077</td><td>2022-09-12 01:33:15</td><td>371140</td><td>&quot;product_buy&quot;</td><td>2624</td><td>86</td><td>[94, 185, … 171]</td></tr><tr><td>13684077</td><td>2022-09-12 01:34:15</td><td>371140</td><td>&quot;product_buy&quot;</td><td>2624</td><td>86</td><td>[94, 185, … 171]</td></tr><tr><td>13684077</td><td>2022-09-12 01:34:15</td><td>533529</td><td>&quot;product_buy&quot;</td><td>831</td><td>86</td><td>[15, 109, … 110]</td></tr><tr><td>13684077</td><td>2022-09-12 01:34:15</td><td>1380215</td><td>&quot;product_buy&quot;</td><td>831</td><td>0</td><td>[152, 109, … 110]</td></tr><tr><td>13684077</td><td>2022-09-12 01:34:15</td><td>608165</td><td>&quot;product_buy&quot;</td><td>831</td><td>77</td><td>[152, 109, … 110]</td></tr><tr><td>13684077</td><td>2022-09-12 01:34:15</td><td>597704</td><td>&quot;product_buy&quot;</td><td>2624</td><td>92</td><td>[94, 23, … 81]</td></tr><tr><td>13684077</td><td>2022-09-12 01:35:25</td><td>608165</td><td>&quot;product_buy&quot;</td><td>831</td><td>77</td><td>[152, 109, … 110]</td></tr><tr><td>13684077</td><td>2022-09-12 01:35:25</td><td>597704</td><td>&quot;product_buy&quot;</td><td>2624</td><td>92</td><td>[94, 23, … 81]</td></tr><tr><td>13684077</td><td>2022-09-12 01:35:25</td><td>371140</td><td>&quot;product_buy&quot;</td><td>2624</td><td>86</td><td>[94, 185, … 171]</td></tr><tr><td>13684077</td><td>2022-09-12 01:35:25</td><td>1380215</td><td>&quot;product_buy&quot;</td><td>831</td><td>0</td><td>[152, 109, … 110]</td></tr><tr><td>13684077</td><td>2022-09-12 01:35:25</td><td>533529</td><td>&quot;product_buy&quot;</td><td>831</td><td>86</td><td>[15, 109, … 110]</td></tr><tr><td>13684077</td><td>2022-09-12 01:36:30</td><td>608165</td><td>&quot;product_buy&quot;</td><td>831</td><td>77</td><td>[152, 109, … 110]</td></tr><tr><td>13684077</td><td>2022-09-12 01:36:30</td><td>597704</td><td>&quot;product_buy&quot;</td><td>2624</td><td>92</td><td>[94, 23, … 81]</td></tr><tr><td>13684077</td><td>2022-09-12 01:36:30</td><td>533529</td><td>&quot;product_buy&quot;</td><td>831</td><td>86</td><td>[15, 109, … 110]</td></tr><tr><td>13684077</td><td>2022-09-12 01:36:30</td><td>1380215</td><td>&quot;product_buy&quot;</td><td>831</td><td>0</td><td>[152, 109, … 110]</td></tr><tr><td>13684077</td><td>2022-09-12 01:36:30</td><td>371140</td><td>&quot;product_buy&quot;</td><td>2624</td><td>86</td><td>[94, 185, … 171]</td></tr><tr><td>13684077</td><td>2022-09-12 01:37:45</td><td>371140</td><td>&quot;product_buy&quot;</td><td>2624</td><td>86</td><td>[94, 185, … 171]</td></tr><tr><td>13684077</td><td>2022-09-12 01:37:45</td><td>608165</td><td>&quot;product_buy&quot;</td><td>831</td><td>77</td><td>[152, 109, … 110]</td></tr><tr><td>13684077</td><td>2022-09-12 01:37:45</td><td>1380215</td><td>&quot;product_buy&quot;</td><td>831</td><td>0</td><td>[152, 109, … 110]</td></tr><tr><td>13684077</td><td>2022-09-12 01:37:45</td><td>597704</td><td>&quot;product_buy&quot;</td><td>2624</td><td>92</td><td>[94, 23, … 81]</td></tr><tr><td>13684077</td><td>2022-09-12 01:37:45</td><td>533529</td><td>&quot;product_buy&quot;</td><td>831</td><td>86</td><td>[15, 109, … 110]</td></tr><tr><td>13684077</td><td>2022-09-12 01:38:45</td><td>597704</td><td>&quot;product_buy&quot;</td><td>2624</td><td>92</td><td>[94, 23, … 81]</td></tr><tr><td>13684077</td><td>2022-09-12 01:38:45</td><td>371140</td><td>&quot;product_buy&quot;</td><td>2624</td><td>86</td><td>[94, 185, … 171]</td></tr><tr><td>13684077</td><td>2022-09-12 01:38:45</td><td>608165</td><td>&quot;product_buy&quot;</td><td>831</td><td>77</td><td>[152, 109, … 110]</td></tr><tr><td>13684077</td><td>2022-09-12 01:38:45</td><td>533529</td><td>&quot;product_buy&quot;</td><td>831</td><td>86</td><td>[15, 109, … 110]</td></tr><tr><td>13684077</td><td>2022-09-12 01:38:45</td><td>1380215</td><td>&quot;product_buy&quot;</td><td>831</td><td>0</td><td>[152, 109, … 110]</td></tr></tbody></table></div>"
      ],
      "text/plain": [
       "shape: (665, 7)\n",
       "┌───────────┬─────────────────────┬─────────┬─────────────┬──────────┬───────┬───────────────────┐\n",
       "│ client_id ┆ timestamp           ┆ sku     ┆ action      ┆ category ┆ price ┆ name              │\n",
       "│ ---       ┆ ---                 ┆ ---     ┆ ---         ┆ ---      ┆ ---   ┆ ---               │\n",
       "│ i64       ┆ datetime[ms]        ┆ i64     ┆ str         ┆ i64      ┆ i64   ┆ list[i16]         │\n",
       "╞═══════════╪═════════════════════╪═════════╪═════════════╪══════════╪═══════╪═══════════════════╡\n",
       "│ 13684077  ┆ 2022-09-08 21:42:55 ┆ 436878  ┆ product_buy ┆ 1517     ┆ 36    ┆ [100, 109, … 252] │\n",
       "│ 13684077  ┆ 2022-09-08 21:42:55 ┆ 39041   ┆ product_buy ┆ 1374     ┆ 86    ┆ [121, 65, … 140]  │\n",
       "│ 13684077  ┆ 2022-09-08 21:42:55 ┆ 814355  ┆ product_buy ┆ 1374     ┆ 88    ┆ [209, 26, … 9]    │\n",
       "│ 13684077  ┆ 2022-09-08 21:42:55 ┆ 774895  ┆ product_buy ┆ 139      ┆ 36    ┆ [15, 6, … 56]     │\n",
       "│ 13684077  ┆ 2022-09-08 21:42:55 ┆ 1478935 ┆ product_buy ┆ 831      ┆ 80    ┆ [152, 21, … 72]   │\n",
       "│ 13684077  ┆ 2022-09-08 21:42:55 ┆ 403318  ┆ product_buy ┆ 1374     ┆ 58    ┆ [209, 54, … 72]   │\n",
       "│ 13684077  ┆ 2022-09-08 21:42:55 ┆ 972561  ┆ product_buy ┆ 680      ┆ 0     ┆ [209, 235, … 72]  │\n",
       "│ 13684077  ┆ 2022-09-08 21:42:55 ┆ 601476  ┆ product_buy ┆ 2910     ┆ 42    ┆ [180, 109, … 72]  │\n",
       "│ 13684077  ┆ 2022-09-08 21:42:55 ┆ 630911  ┆ product_buy ┆ 1374     ┆ 68    ┆ [234, 81, … 9]    │\n",
       "│ 13684077  ┆ 2022-09-08 21:42:55 ┆ 1271829 ┆ product_buy ┆ 139      ┆ 47    ┆ [15, 58, … 240]   │\n",
       "│ 13684077  ┆ 2022-09-08 21:42:55 ┆ 1413903 ┆ product_buy ┆ 1        ┆ 33    ┆ [209, 65, … 72]   │\n",
       "│ 13684077  ┆ 2022-09-08 21:44:25 ┆ 630911  ┆ product_buy ┆ 1374     ┆ 68    ┆ [234, 81, … 9]    │\n",
       "│ 13684077  ┆ 2022-09-08 21:44:25 ┆ 436878  ┆ product_buy ┆ 1517     ┆ 36    ┆ [100, 109, … 252] │\n",
       "│ 13684077  ┆ 2022-09-08 21:44:25 ┆ 814355  ┆ product_buy ┆ 1374     ┆ 88    ┆ [209, 26, … 9]    │\n",
       "│ 13684077  ┆ 2022-09-08 21:44:25 ┆ 601476  ┆ product_buy ┆ 2910     ┆ 42    ┆ [180, 109, … 72]  │\n",
       "│ 13684077  ┆ 2022-09-08 21:44:25 ┆ 1478935 ┆ product_buy ┆ 831      ┆ 80    ┆ [152, 21, … 72]   │\n",
       "│ 13684077  ┆ 2022-09-08 21:44:25 ┆ 1271829 ┆ product_buy ┆ 139      ┆ 47    ┆ [15, 58, … 240]   │\n",
       "│ 13684077  ┆ 2022-09-08 21:44:25 ┆ 972561  ┆ product_buy ┆ 680      ┆ 0     ┆ [209, 235, … 72]  │\n",
       "│ 13684077  ┆ 2022-09-08 21:44:25 ┆ 774895  ┆ product_buy ┆ 139      ┆ 36    ┆ [15, 6, … 56]     │\n",
       "│ 13684077  ┆ 2022-09-08 21:44:25 ┆ 403318  ┆ product_buy ┆ 1374     ┆ 58    ┆ [209, 54, … 72]   │\n",
       "│ 13684077  ┆ 2022-09-08 21:44:25 ┆ 39041   ┆ product_buy ┆ 1374     ┆ 86    ┆ [121, 65, … 140]  │\n",
       "│ 13684077  ┆ 2022-09-08 21:44:25 ┆ 1413903 ┆ product_buy ┆ 1        ┆ 33    ┆ [209, 65, … 72]   │\n",
       "│ 13684077  ┆ 2022-09-08 21:45:25 ┆ 630911  ┆ product_buy ┆ 1374     ┆ 68    ┆ [234, 81, … 9]    │\n",
       "│ 13684077  ┆ 2022-09-08 21:45:25 ┆ 39041   ┆ product_buy ┆ 1374     ┆ 86    ┆ [121, 65, … 140]  │\n",
       "│ 13684077  ┆ 2022-09-08 21:45:25 ┆ 601476  ┆ product_buy ┆ 2910     ┆ 42    ┆ [180, 109, … 72]  │\n",
       "│ 13684077  ┆ 2022-09-08 21:45:25 ┆ 774895  ┆ product_buy ┆ 139      ┆ 36    ┆ [15, 6, … 56]     │\n",
       "│ 13684077  ┆ 2022-09-08 21:45:25 ┆ 1413903 ┆ product_buy ┆ 1        ┆ 33    ┆ [209, 65, … 72]   │\n",
       "│ 13684077  ┆ 2022-09-08 21:45:25 ┆ 436878  ┆ product_buy ┆ 1517     ┆ 36    ┆ [100, 109, … 252] │\n",
       "│ 13684077  ┆ 2022-09-08 21:45:25 ┆ 1271829 ┆ product_buy ┆ 139      ┆ 47    ┆ [15, 58, … 240]   │\n",
       "│ 13684077  ┆ 2022-09-08 21:45:25 ┆ 403318  ┆ product_buy ┆ 1374     ┆ 58    ┆ [209, 54, … 72]   │\n",
       "│ 13684077  ┆ 2022-09-08 21:45:25 ┆ 1478935 ┆ product_buy ┆ 831      ┆ 80    ┆ [152, 21, … 72]   │\n",
       "│ 13684077  ┆ 2022-09-08 21:45:25 ┆ 972561  ┆ product_buy ┆ 680      ┆ 0     ┆ [209, 235, … 72]  │\n",
       "│ 13684077  ┆ 2022-09-08 21:45:25 ┆ 814355  ┆ product_buy ┆ 1374     ┆ 88    ┆ [209, 26, … 9]    │\n",
       "│ 13684077  ┆ 2022-09-08 21:46:10 ┆ 1413903 ┆ product_buy ┆ 1        ┆ 33    ┆ [209, 65, … 72]   │\n",
       "│ 13684077  ┆ 2022-09-08 21:46:10 ┆ 972561  ┆ product_buy ┆ 680      ┆ 0     ┆ [209, 235, … 72]  │\n",
       "│ 13684077  ┆ 2022-09-08 21:46:10 ┆ 630911  ┆ product_buy ┆ 1374     ┆ 68    ┆ [234, 81, … 9]    │\n",
       "│ 13684077  ┆ 2022-09-08 21:46:10 ┆ 814355  ┆ product_buy ┆ 1374     ┆ 88    ┆ [209, 26, … 9]    │\n",
       "│ 13684077  ┆ 2022-09-08 21:46:10 ┆ 1478935 ┆ product_buy ┆ 831      ┆ 80    ┆ [152, 21, … 72]   │\n",
       "│ 13684077  ┆ 2022-09-08 21:46:10 ┆ 1271829 ┆ product_buy ┆ 139      ┆ 47    ┆ [15, 58, … 240]   │\n",
       "│ 13684077  ┆ 2022-09-08 21:46:10 ┆ 403318  ┆ product_buy ┆ 1374     ┆ 58    ┆ [209, 54, … 72]   │\n",
       "│ 13684077  ┆ 2022-09-08 21:46:10 ┆ 39041   ┆ product_buy ┆ 1374     ┆ 86    ┆ [121, 65, … 140]  │\n",
       "│ 13684077  ┆ 2022-09-08 21:46:10 ┆ 774895  ┆ product_buy ┆ 139      ┆ 36    ┆ [15, 6, … 56]     │\n",
       "│ 13684077  ┆ 2022-09-08 21:46:10 ┆ 436878  ┆ product_buy ┆ 1517     ┆ 36    ┆ [100, 109, … 252] │\n",
       "│ 13684077  ┆ 2022-09-08 21:46:10 ┆ 601476  ┆ product_buy ┆ 2910     ┆ 42    ┆ [180, 109, … 72]  │\n",
       "│ 13684077  ┆ 2022-09-08 21:47:25 ┆ 814355  ┆ product_buy ┆ 1374     ┆ 88    ┆ [209, 26, … 9]    │\n",
       "│ 13684077  ┆ 2022-09-08 21:47:25 ┆ 1413903 ┆ product_buy ┆ 1        ┆ 33    ┆ [209, 65, … 72]   │\n",
       "│ 13684077  ┆ 2022-09-08 21:47:25 ┆ 403318  ┆ product_buy ┆ 1374     ┆ 58    ┆ [209, 54, … 72]   │\n",
       "│ 13684077  ┆ 2022-09-08 21:47:25 ┆ 972561  ┆ product_buy ┆ 680      ┆ 0     ┆ [209, 235, … 72]  │\n",
       "│ 13684077  ┆ 2022-09-08 21:47:25 ┆ 1271829 ┆ product_buy ┆ 139      ┆ 47    ┆ [15, 58, … 240]   │\n",
       "│ 13684077  ┆ 2022-09-08 21:47:25 ┆ 630911  ┆ product_buy ┆ 1374     ┆ 68    ┆ [234, 81, … 9]    │\n",
       "│ …         ┆ …                   ┆ …       ┆ …           ┆ …        ┆ …     ┆ …                 │\n",
       "│ 13684077  ┆ 2022-09-12 01:29:00 ┆ 597704  ┆ product_buy ┆ 2624     ┆ 92    ┆ [94, 23, … 81]    │\n",
       "│ 13684077  ┆ 2022-09-12 01:29:00 ┆ 608165  ┆ product_buy ┆ 831      ┆ 77    ┆ [152, 109, … 110] │\n",
       "│ 13684077  ┆ 2022-09-12 01:29:00 ┆ 371140  ┆ product_buy ┆ 2624     ┆ 86    ┆ [94, 185, … 171]  │\n",
       "│ 13684077  ┆ 2022-09-12 01:29:00 ┆ 1380215 ┆ product_buy ┆ 831      ┆ 0     ┆ [152, 109, … 110] │\n",
       "│ 13684077  ┆ 2022-09-12 01:29:00 ┆ 533529  ┆ product_buy ┆ 831      ┆ 86    ┆ [15, 109, … 110]  │\n",
       "│ 13684077  ┆ 2022-09-12 01:29:59 ┆ 533529  ┆ product_buy ┆ 831      ┆ 86    ┆ [15, 109, … 110]  │\n",
       "│ 13684077  ┆ 2022-09-12 01:29:59 ┆ 1380215 ┆ product_buy ┆ 831      ┆ 0     ┆ [152, 109, … 110] │\n",
       "│ 13684077  ┆ 2022-09-12 01:29:59 ┆ 371140  ┆ product_buy ┆ 2624     ┆ 86    ┆ [94, 185, … 171]  │\n",
       "│ 13684077  ┆ 2022-09-12 01:29:59 ┆ 608165  ┆ product_buy ┆ 831      ┆ 77    ┆ [152, 109, … 110] │\n",
       "│ 13684077  ┆ 2022-09-12 01:29:59 ┆ 597704  ┆ product_buy ┆ 2624     ┆ 92    ┆ [94, 23, … 81]    │\n",
       "│ 13684077  ┆ 2022-09-12 01:31:10 ┆ 1380215 ┆ product_buy ┆ 831      ┆ 0     ┆ [152, 109, … 110] │\n",
       "│ 13684077  ┆ 2022-09-12 01:31:10 ┆ 608165  ┆ product_buy ┆ 831      ┆ 77    ┆ [152, 109, … 110] │\n",
       "│ 13684077  ┆ 2022-09-12 01:31:10 ┆ 597704  ┆ product_buy ┆ 2624     ┆ 92    ┆ [94, 23, … 81]    │\n",
       "│ 13684077  ┆ 2022-09-12 01:31:10 ┆ 533529  ┆ product_buy ┆ 831      ┆ 86    ┆ [15, 109, … 110]  │\n",
       "│ 13684077  ┆ 2022-09-12 01:31:10 ┆ 371140  ┆ product_buy ┆ 2624     ┆ 86    ┆ [94, 185, … 171]  │\n",
       "│ 13684077  ┆ 2022-09-12 01:32:15 ┆ 533529  ┆ product_buy ┆ 831      ┆ 86    ┆ [15, 109, … 110]  │\n",
       "│ 13684077  ┆ 2022-09-12 01:32:15 ┆ 608165  ┆ product_buy ┆ 831      ┆ 77    ┆ [152, 109, … 110] │\n",
       "│ 13684077  ┆ 2022-09-12 01:32:15 ┆ 371140  ┆ product_buy ┆ 2624     ┆ 86    ┆ [94, 185, … 171]  │\n",
       "│ 13684077  ┆ 2022-09-12 01:32:15 ┆ 597704  ┆ product_buy ┆ 2624     ┆ 92    ┆ [94, 23, … 81]    │\n",
       "│ 13684077  ┆ 2022-09-12 01:32:15 ┆ 1380215 ┆ product_buy ┆ 831      ┆ 0     ┆ [152, 109, … 110] │\n",
       "│ 13684077  ┆ 2022-09-12 01:33:15 ┆ 608165  ┆ product_buy ┆ 831      ┆ 77    ┆ [152, 109, … 110] │\n",
       "│ 13684077  ┆ 2022-09-12 01:33:15 ┆ 1380215 ┆ product_buy ┆ 831      ┆ 0     ┆ [152, 109, … 110] │\n",
       "│ 13684077  ┆ 2022-09-12 01:33:15 ┆ 533529  ┆ product_buy ┆ 831      ┆ 86    ┆ [15, 109, … 110]  │\n",
       "│ 13684077  ┆ 2022-09-12 01:33:15 ┆ 597704  ┆ product_buy ┆ 2624     ┆ 92    ┆ [94, 23, … 81]    │\n",
       "│ 13684077  ┆ 2022-09-12 01:33:15 ┆ 371140  ┆ product_buy ┆ 2624     ┆ 86    ┆ [94, 185, … 171]  │\n",
       "│ 13684077  ┆ 2022-09-12 01:34:15 ┆ 371140  ┆ product_buy ┆ 2624     ┆ 86    ┆ [94, 185, … 171]  │\n",
       "│ 13684077  ┆ 2022-09-12 01:34:15 ┆ 533529  ┆ product_buy ┆ 831      ┆ 86    ┆ [15, 109, … 110]  │\n",
       "│ 13684077  ┆ 2022-09-12 01:34:15 ┆ 1380215 ┆ product_buy ┆ 831      ┆ 0     ┆ [152, 109, … 110] │\n",
       "│ 13684077  ┆ 2022-09-12 01:34:15 ┆ 608165  ┆ product_buy ┆ 831      ┆ 77    ┆ [152, 109, … 110] │\n",
       "│ 13684077  ┆ 2022-09-12 01:34:15 ┆ 597704  ┆ product_buy ┆ 2624     ┆ 92    ┆ [94, 23, … 81]    │\n",
       "│ 13684077  ┆ 2022-09-12 01:35:25 ┆ 608165  ┆ product_buy ┆ 831      ┆ 77    ┆ [152, 109, … 110] │\n",
       "│ 13684077  ┆ 2022-09-12 01:35:25 ┆ 597704  ┆ product_buy ┆ 2624     ┆ 92    ┆ [94, 23, … 81]    │\n",
       "│ 13684077  ┆ 2022-09-12 01:35:25 ┆ 371140  ┆ product_buy ┆ 2624     ┆ 86    ┆ [94, 185, … 171]  │\n",
       "│ 13684077  ┆ 2022-09-12 01:35:25 ┆ 1380215 ┆ product_buy ┆ 831      ┆ 0     ┆ [152, 109, … 110] │\n",
       "│ 13684077  ┆ 2022-09-12 01:35:25 ┆ 533529  ┆ product_buy ┆ 831      ┆ 86    ┆ [15, 109, … 110]  │\n",
       "│ 13684077  ┆ 2022-09-12 01:36:30 ┆ 608165  ┆ product_buy ┆ 831      ┆ 77    ┆ [152, 109, … 110] │\n",
       "│ 13684077  ┆ 2022-09-12 01:36:30 ┆ 597704  ┆ product_buy ┆ 2624     ┆ 92    ┆ [94, 23, … 81]    │\n",
       "│ 13684077  ┆ 2022-09-12 01:36:30 ┆ 533529  ┆ product_buy ┆ 831      ┆ 86    ┆ [15, 109, … 110]  │\n",
       "│ 13684077  ┆ 2022-09-12 01:36:30 ┆ 1380215 ┆ product_buy ┆ 831      ┆ 0     ┆ [152, 109, … 110] │\n",
       "│ 13684077  ┆ 2022-09-12 01:36:30 ┆ 371140  ┆ product_buy ┆ 2624     ┆ 86    ┆ [94, 185, … 171]  │\n",
       "│ 13684077  ┆ 2022-09-12 01:37:45 ┆ 371140  ┆ product_buy ┆ 2624     ┆ 86    ┆ [94, 185, … 171]  │\n",
       "│ 13684077  ┆ 2022-09-12 01:37:45 ┆ 608165  ┆ product_buy ┆ 831      ┆ 77    ┆ [152, 109, … 110] │\n",
       "│ 13684077  ┆ 2022-09-12 01:37:45 ┆ 1380215 ┆ product_buy ┆ 831      ┆ 0     ┆ [152, 109, … 110] │\n",
       "│ 13684077  ┆ 2022-09-12 01:37:45 ┆ 597704  ┆ product_buy ┆ 2624     ┆ 92    ┆ [94, 23, … 81]    │\n",
       "│ 13684077  ┆ 2022-09-12 01:37:45 ┆ 533529  ┆ product_buy ┆ 831      ┆ 86    ┆ [15, 109, … 110]  │\n",
       "│ 13684077  ┆ 2022-09-12 01:38:45 ┆ 597704  ┆ product_buy ┆ 2624     ┆ 92    ┆ [94, 23, … 81]    │\n",
       "│ 13684077  ┆ 2022-09-12 01:38:45 ┆ 371140  ┆ product_buy ┆ 2624     ┆ 86    ┆ [94, 185, … 171]  │\n",
       "│ 13684077  ┆ 2022-09-12 01:38:45 ┆ 608165  ┆ product_buy ┆ 831      ┆ 77    ┆ [152, 109, … 110] │\n",
       "│ 13684077  ┆ 2022-09-12 01:38:45 ┆ 533529  ┆ product_buy ┆ 831      ┆ 86    ┆ [15, 109, … 110]  │\n",
       "│ 13684077  ┆ 2022-09-12 01:38:45 ┆ 1380215 ┆ product_buy ┆ 831      ┆ 0     ┆ [152, 109, … 110] │\n",
       "└───────────┴─────────────────────┴─────────┴─────────────┴──────────┴───────┴───────────────────┘"
      ]
     },
     "execution_count": 26,
     "metadata": {},
     "output_type": "execute_result"
    }
   ],
   "source": [
    "buy.filter(pl.col(\"client_id\")==13684077)"
   ]
  },
  {
   "cell_type": "code",
   "execution_count": null,
   "id": "7b58237e-e711-49e9-86a5-f076b95e165d",
   "metadata": {},
   "outputs": [],
   "source": []
  },
  {
   "cell_type": "markdown",
   "id": "9eb6d270-3eab-47a4-921f-61ea881dba82",
   "metadata": {},
   "source": [
    "# Training Data\n",
    "Having taken the split data,\n",
    "generate sliding window\n",
    "block_size=4\n",
    "for each client id\n",
    "get history\n",
    "\n",
    "a b c d e\n",
    "\n",
    "a : b\n",
    "a b: c\n",
    "a b c: d\n",
    "\n",
    "\n",
    "groupby client_id\n",
    "get length and create list\n",
    "\n",
    "\n",
    "for ix in 0:len(history) - block_size:block_size\n",
    "    x = history[ix:ix + block_size]\n",
    "    y = history[ix :ix + block_size + 1]\n",
    "    for t in 1:block_size + 1\n",
    "    context = x[:t]\n",
    "    target = y[t + 1]\n",
    "\n",
    "\n"
   ]
  },
  {
   "cell_type": "code",
   "execution_count": 27,
   "id": "dc44a7cc-b515-4b2a-a534-fe388f3adf14",
   "metadata": {},
   "outputs": [
    {
     "data": {
      "text/html": [
       "<div><style>\n",
       ".dataframe > thead > tr,\n",
       ".dataframe > tbody > tr {\n",
       "  text-align: right;\n",
       "  white-space: pre-wrap;\n",
       "}\n",
       "</style>\n",
       "<small>shape: (5, 7)</small><table border=\"1\" class=\"dataframe\"><thead><tr><th>client_id</th><th>timestamp</th><th>sku</th><th>action</th><th>category</th><th>price</th><th>name</th></tr><tr><td>i64</td><td>datetime[ms]</td><td>i64</td><td>str</td><td>i64</td><td>i64</td><td>list[i16]</td></tr></thead><tbody><tr><td>17649961</td><td>2022-07-23 20:15:25</td><td>18485</td><td>&quot;product_buy&quot;</td><td>5492</td><td>72</td><td>[187, 47, … 224]</td></tr><tr><td>16696114</td><td>2022-07-11 16:31:30</td><td>81192</td><td>&quot;product_buy&quot;</td><td>6519</td><td>99</td><td>[241, 241, … 241]</td></tr><tr><td>10238779</td><td>2022-05-29 19:35:40</td><td>510014</td><td>&quot;product_buy&quot;</td><td>6350</td><td>58</td><td>[167, 24, … 32]</td></tr><tr><td>10238779</td><td>2022-05-29 19:38:05</td><td>510014</td><td>&quot;product_buy&quot;</td><td>6350</td><td>58</td><td>[167, 24, … 32]</td></tr><tr><td>10238779</td><td>2022-05-29 19:38:05</td><td>510014</td><td>&quot;product_buy&quot;</td><td>6350</td><td>58</td><td>[167, 24, … 32]</td></tr></tbody></table></div>"
      ],
      "text/plain": [
       "shape: (5, 7)\n",
       "┌───────────┬─────────────────────┬────────┬─────────────┬──────────┬───────┬───────────────────┐\n",
       "│ client_id ┆ timestamp           ┆ sku    ┆ action      ┆ category ┆ price ┆ name              │\n",
       "│ ---       ┆ ---                 ┆ ---    ┆ ---         ┆ ---      ┆ ---   ┆ ---               │\n",
       "│ i64       ┆ datetime[ms]        ┆ i64    ┆ str         ┆ i64      ┆ i64   ┆ list[i16]         │\n",
       "╞═══════════╪═════════════════════╪════════╪═════════════╪══════════╪═══════╪═══════════════════╡\n",
       "│ 17649961  ┆ 2022-07-23 20:15:25 ┆ 18485  ┆ product_buy ┆ 5492     ┆ 72    ┆ [187, 47, … 224]  │\n",
       "│ 16696114  ┆ 2022-07-11 16:31:30 ┆ 81192  ┆ product_buy ┆ 6519     ┆ 99    ┆ [241, 241, … 241] │\n",
       "│ 10238779  ┆ 2022-05-29 19:35:40 ┆ 510014 ┆ product_buy ┆ 6350     ┆ 58    ┆ [167, 24, … 32]   │\n",
       "│ 10238779  ┆ 2022-05-29 19:38:05 ┆ 510014 ┆ product_buy ┆ 6350     ┆ 58    ┆ [167, 24, … 32]   │\n",
       "│ 10238779  ┆ 2022-05-29 19:38:05 ┆ 510014 ┆ product_buy ┆ 6350     ┆ 58    ┆ [167, 24, … 32]   │\n",
       "└───────────┴─────────────────────┴────────┴─────────────┴──────────┴───────┴───────────────────┘"
      ]
     },
     "execution_count": 27,
     "metadata": {},
     "output_type": "execute_result"
    }
   ],
   "source": [
    "buy.head()"
   ]
  },
  {
   "cell_type": "code",
   "execution_count": 9,
   "id": "95399599-41c7-4d2c-a9e8-41aab6166647",
   "metadata": {},
   "outputs": [
    {
     "data": {
      "text/html": [
       "<div><style>\n",
       ".dataframe > thead > tr,\n",
       ".dataframe > tbody > tr {\n",
       "  text-align: right;\n",
       "  white-space: pre-wrap;\n",
       "}\n",
       "</style>\n",
       "<small>shape: (9, 8)</small><table border=\"1\" class=\"dataframe\"><thead><tr><th>statistic</th><th>client_id</th><th>timestamp</th><th>sku</th><th>action</th><th>category</th><th>price</th><th>name</th></tr><tr><td>str</td><td>f64</td><td>str</td><td>f64</td><td>str</td><td>f64</td><td>f64</td><td>f64</td></tr></thead><tbody><tr><td>&quot;count&quot;</td><td>1.682296e6</td><td>&quot;1682296&quot;</td><td>1.682296e6</td><td>&quot;1682296&quot;</td><td>1.682296e6</td><td>1.682296e6</td><td>1.682296e6</td></tr><tr><td>&quot;null_count&quot;</td><td>0.0</td><td>&quot;0&quot;</td><td>0.0</td><td>&quot;0&quot;</td><td>0.0</td><td>0.0</td><td>0.0</td></tr><tr><td>&quot;mean&quot;</td><td>1.1941e7</td><td>&quot;2022-08-03 16:59:32.528000&quot;</td><td>746549.671699</td><td>null</td><td>3547.154632</td><td>51.303007</td><td>null</td></tr><tr><td>&quot;std&quot;</td><td>6.8918e6</td><td>null</td><td>433618.826745</td><td>null</td><td>1916.609451</td><td>27.211957</td><td>null</td></tr><tr><td>&quot;min&quot;</td><td>14.0</td><td>&quot;2022-05-23 00:10:40&quot;</td><td>4.0</td><td>&quot;product_buy&quot;</td><td>0.0</td><td>0.0</td><td>null</td></tr><tr><td>&quot;25%&quot;</td><td>5.964836e6</td><td>&quot;2022-06-29 09:17:00&quot;</td><td>369890.0</td><td>null</td><td>1946.0</td><td>29.0</td><td>null</td></tr><tr><td>&quot;50%&quot;</td><td>1.1924383e7</td><td>&quot;2022-08-04 06:37:45&quot;</td><td>745837.0</td><td>null</td><td>3509.0</td><td>53.0</td><td>null</td></tr><tr><td>&quot;75%&quot;</td><td>1.791873e7</td><td>&quot;2022-09-08 09:56:50&quot;</td><td>1.121913e6</td><td>null</td><td>5197.0</td><td>74.0</td><td>null</td></tr><tr><td>&quot;max&quot;</td><td>2.3875234e7</td><td>&quot;2022-10-10 23:59:25&quot;</td><td>1.495777e6</td><td>&quot;product_buy&quot;</td><td>6918.0</td><td>99.0</td><td>null</td></tr></tbody></table></div>"
      ],
      "text/plain": [
       "shape: (9, 8)\n",
       "┌────────────┬─────────────┬────────────────────────────┬───────────────┬─────────────┬─────────────┬────────────┬────────────┐\n",
       "│ statistic  ┆ client_id   ┆ timestamp                  ┆ sku           ┆ action      ┆ category    ┆ price      ┆ name       │\n",
       "│ ---        ┆ ---         ┆ ---                        ┆ ---           ┆ ---         ┆ ---         ┆ ---        ┆ ---        │\n",
       "│ str        ┆ f64         ┆ str                        ┆ f64           ┆ str         ┆ f64         ┆ f64        ┆ f64        │\n",
       "╞════════════╪═════════════╪════════════════════════════╪═══════════════╪═════════════╪═════════════╪════════════╪════════════╡\n",
       "│ count      ┆ 1.682296e6  ┆ 1682296                    ┆ 1.682296e6    ┆ 1682296     ┆ 1.682296e6  ┆ 1.682296e6 ┆ 1.682296e6 │\n",
       "│ null_count ┆ 0.0         ┆ 0                          ┆ 0.0           ┆ 0           ┆ 0.0         ┆ 0.0        ┆ 0.0        │\n",
       "│ mean       ┆ 1.1941e7    ┆ 2022-08-03 16:59:32.528000 ┆ 746549.671699 ┆ null        ┆ 3547.154632 ┆ 51.303007  ┆ null       │\n",
       "│ std        ┆ 6.8918e6    ┆ null                       ┆ 433618.826745 ┆ null        ┆ 1916.609451 ┆ 27.211957  ┆ null       │\n",
       "│ min        ┆ 14.0        ┆ 2022-05-23 00:10:40        ┆ 4.0           ┆ product_buy ┆ 0.0         ┆ 0.0        ┆ null       │\n",
       "│ 25%        ┆ 5.964836e6  ┆ 2022-06-29 09:17:00        ┆ 369890.0      ┆ null        ┆ 1946.0      ┆ 29.0       ┆ null       │\n",
       "│ 50%        ┆ 1.1924383e7 ┆ 2022-08-04 06:37:45        ┆ 745837.0      ┆ null        ┆ 3509.0      ┆ 53.0       ┆ null       │\n",
       "│ 75%        ┆ 1.791873e7  ┆ 2022-09-08 09:56:50        ┆ 1.121913e6    ┆ null        ┆ 5197.0      ┆ 74.0       ┆ null       │\n",
       "│ max        ┆ 2.3875234e7 ┆ 2022-10-10 23:59:25        ┆ 1.495777e6    ┆ product_buy ┆ 6918.0      ┆ 99.0       ┆ null       │\n",
       "└────────────┴─────────────┴────────────────────────────┴───────────────┴─────────────┴─────────────┴────────────┴────────────┘"
      ]
     },
     "execution_count": 9,
     "metadata": {},
     "output_type": "execute_result"
    }
   ],
   "source": [
    "buy.describe()"
   ]
  },
  {
   "cell_type": "markdown",
   "id": "b9970d62-d20c-4761-8bed-79554caf19b7",
   "metadata": {},
   "source": [
    "Purchase dates from 2022-05-23 to 2025-10-11\n",
    "convert to weekly and group by sku"
   ]
  },
  {
   "cell_type": "code",
   "execution_count": 12,
   "id": "44bddae7-0153-4124-939b-ac90d3229d10",
   "metadata": {},
   "outputs": [
    {
     "data": {
      "text/html": [
       "<div><style>\n",
       ".dataframe > thead > tr,\n",
       ".dataframe > tbody > tr {\n",
       "  text-align: right;\n",
       "  white-space: pre-wrap;\n",
       "}\n",
       "</style>\n",
       "<small>shape: (5, 8)</small><table border=\"1\" class=\"dataframe\"><thead><tr><th>client_id</th><th>timestamp</th><th>sku</th><th>action</th><th>category</th><th>price</th><th>name</th><th>week2</th></tr><tr><td>i64</td><td>datetime[ms]</td><td>i64</td><td>str</td><td>i64</td><td>i64</td><td>list[i16]</td><td>datetime[ms]</td></tr></thead><tbody><tr><td>17649961</td><td>2022-07-23 20:15:25</td><td>18485</td><td>&quot;product_buy&quot;</td><td>5492</td><td>72</td><td>[187, 47, … 224]</td><td>2022-07-11 00:00:00</td></tr><tr><td>16696114</td><td>2022-07-11 16:31:30</td><td>81192</td><td>&quot;product_buy&quot;</td><td>6519</td><td>99</td><td>[241, 241, … 241]</td><td>2022-07-11 00:00:00</td></tr><tr><td>10238779</td><td>2022-05-29 19:35:40</td><td>510014</td><td>&quot;product_buy&quot;</td><td>6350</td><td>58</td><td>[167, 24, … 32]</td><td>2022-05-16 00:00:00</td></tr><tr><td>10238779</td><td>2022-05-29 19:38:05</td><td>510014</td><td>&quot;product_buy&quot;</td><td>6350</td><td>58</td><td>[167, 24, … 32]</td><td>2022-05-16 00:00:00</td></tr><tr><td>10238779</td><td>2022-05-29 19:38:05</td><td>510014</td><td>&quot;product_buy&quot;</td><td>6350</td><td>58</td><td>[167, 24, … 32]</td><td>2022-05-16 00:00:00</td></tr></tbody></table></div>"
      ],
      "text/plain": [
       "shape: (5, 8)\n",
       "┌───────────┬─────────────────────┬────────┬─────────────┬──────────┬───────┬───────────────────┬─────────────────────┐\n",
       "│ client_id ┆ timestamp           ┆ sku    ┆ action      ┆ category ┆ price ┆ name              ┆ week2               │\n",
       "│ ---       ┆ ---                 ┆ ---    ┆ ---         ┆ ---      ┆ ---   ┆ ---               ┆ ---                 │\n",
       "│ i64       ┆ datetime[ms]        ┆ i64    ┆ str         ┆ i64      ┆ i64   ┆ list[i16]         ┆ datetime[ms]        │\n",
       "╞═══════════╪═════════════════════╪════════╪═════════════╪══════════╪═══════╪═══════════════════╪═════════════════════╡\n",
       "│ 17649961  ┆ 2022-07-23 20:15:25 ┆ 18485  ┆ product_buy ┆ 5492     ┆ 72    ┆ [187, 47, … 224]  ┆ 2022-07-11 00:00:00 │\n",
       "│ 16696114  ┆ 2022-07-11 16:31:30 ┆ 81192  ┆ product_buy ┆ 6519     ┆ 99    ┆ [241, 241, … 241] ┆ 2022-07-11 00:00:00 │\n",
       "│ 10238779  ┆ 2022-05-29 19:35:40 ┆ 510014 ┆ product_buy ┆ 6350     ┆ 58    ┆ [167, 24, … 32]   ┆ 2022-05-16 00:00:00 │\n",
       "│ 10238779  ┆ 2022-05-29 19:38:05 ┆ 510014 ┆ product_buy ┆ 6350     ┆ 58    ┆ [167, 24, … 32]   ┆ 2022-05-16 00:00:00 │\n",
       "│ 10238779  ┆ 2022-05-29 19:38:05 ┆ 510014 ┆ product_buy ┆ 6350     ┆ 58    ┆ [167, 24, … 32]   ┆ 2022-05-16 00:00:00 │\n",
       "└───────────┴─────────────────────┴────────┴─────────────┴──────────┴───────┴───────────────────┴─────────────────────┘"
      ]
     },
     "execution_count": 12,
     "metadata": {},
     "output_type": "execute_result"
    }
   ],
   "source": [
    "\n",
    "buy.head()"
   ]
  },
  {
   "cell_type": "code",
   "execution_count": 13,
   "id": "d50e31c0-51a7-4dc2-bc63-5ffa487d0f2f",
   "metadata": {},
   "outputs": [
    {
     "data": {
      "text/html": [
       "<div><style>\n",
       ".dataframe > thead > tr,\n",
       ".dataframe > tbody > tr {\n",
       "  text-align: right;\n",
       "  white-space: pre-wrap;\n",
       "}\n",
       "</style>\n",
       "<small>shape: (5, 8)</small><table border=\"1\" class=\"dataframe\"><thead><tr><th>client_id</th><th>week2</th><th>sku</th><th>category</th><th>name</th><th>price</th><th>n_skus</th><th>price_sum</th></tr><tr><td>i64</td><td>datetime[ms]</td><td>i64</td><td>i64</td><td>list[i16]</td><td>i64</td><td>u32</td><td>i64</td></tr></thead><tbody><tr><td>2470169</td><td>2022-06-27 00:00:00</td><td>1424397</td><td>3263</td><td>[221, 221, … 221]</td><td>22</td><td>2</td><td>44</td></tr><tr><td>2610880</td><td>2022-05-30 00:00:00</td><td>389733</td><td>5730</td><td>[164, 149, … 41]</td><td>66</td><td>1</td><td>66</td></tr><tr><td>16316258</td><td>2022-08-22 00:00:00</td><td>774188</td><td>6393</td><td>[169, 141, … 2]</td><td>15</td><td>2</td><td>30</td></tr><tr><td>1373309</td><td>2022-07-11 00:00:00</td><td>600655</td><td>2085</td><td>[19, 249, … 42]</td><td>79</td><td>1</td><td>79</td></tr><tr><td>14216892</td><td>2022-10-03 00:00:00</td><td>683607</td><td>572</td><td>[37, 69, … 5]</td><td>83</td><td>1</td><td>83</td></tr></tbody></table></div>"
      ],
      "text/plain": [
       "shape: (5, 8)\n",
       "┌───────────┬─────────────────────┬─────────┬──────────┬───────────────────┬───────┬────────┬───────────┐\n",
       "│ client_id ┆ week2               ┆ sku     ┆ category ┆ name              ┆ price ┆ n_skus ┆ price_sum │\n",
       "│ ---       ┆ ---                 ┆ ---     ┆ ---      ┆ ---               ┆ ---   ┆ ---    ┆ ---       │\n",
       "│ i64       ┆ datetime[ms]        ┆ i64     ┆ i64      ┆ list[i16]         ┆ i64   ┆ u32    ┆ i64       │\n",
       "╞═══════════╪═════════════════════╪═════════╪══════════╪═══════════════════╪═══════╪════════╪═══════════╡\n",
       "│ 2470169   ┆ 2022-06-27 00:00:00 ┆ 1424397 ┆ 3263     ┆ [221, 221, … 221] ┆ 22    ┆ 2      ┆ 44        │\n",
       "│ 2610880   ┆ 2022-05-30 00:00:00 ┆ 389733  ┆ 5730     ┆ [164, 149, … 41]  ┆ 66    ┆ 1      ┆ 66        │\n",
       "│ 16316258  ┆ 2022-08-22 00:00:00 ┆ 774188  ┆ 6393     ┆ [169, 141, … 2]   ┆ 15    ┆ 2      ┆ 30        │\n",
       "│ 1373309   ┆ 2022-07-11 00:00:00 ┆ 600655  ┆ 2085     ┆ [19, 249, … 42]   ┆ 79    ┆ 1      ┆ 79        │\n",
       "│ 14216892  ┆ 2022-10-03 00:00:00 ┆ 683607  ┆ 572      ┆ [37, 69, … 5]     ┆ 83    ┆ 1      ┆ 83        │\n",
       "└───────────┴─────────────────────┴─────────┴──────────┴───────────────────┴───────┴────────┴───────────┘"
      ]
     },
     "execution_count": 13,
     "metadata": {},
     "output_type": "execute_result"
    }
   ],
   "source": []
  },
  {
   "cell_type": "code",
   "execution_count": 25,
   "id": "ecf8a3d5-680c-4269-bc05-f8d73aea534b",
   "metadata": {},
   "outputs": [
    {
     "data": {
      "text/plain": [
       "True"
      ]
     },
     "execution_count": 25,
     "metadata": {},
     "output_type": "execute_result"
    }
   ],
   "source": [
    "# confirm only single sku per client week\n",
    "(buy_client_2weekly_sku_single.group_by([\"client_id\",\"week2\"]).len()==1).get_column(\"len\").all()"
   ]
  },
  {
   "cell_type": "code",
   "execution_count": 37,
   "id": "47e1c75f-a56e-4de2-8fb7-5bbee71ef9dc",
   "metadata": {},
   "outputs": [
    {
     "data": {
      "text/html": [
       "<div><style>\n",
       ".dataframe > thead > tr,\n",
       ".dataframe > tbody > tr {\n",
       "  text-align: right;\n",
       "  white-space: pre-wrap;\n",
       "}\n",
       "</style>\n",
       "<small>shape: (1, 1)</small><table border=\"1\" class=\"dataframe\"><thead><tr><th>timestamp</th></tr><tr><td>datetime[ms]</td></tr></thead><tbody><tr><td>2022-10-17 00:00:00</td></tr></tbody></table></div>"
      ],
      "text/plain": [
       "shape: (1, 1)\n",
       "┌─────────────────────┐\n",
       "│ timestamp           │\n",
       "│ ---                 │\n",
       "│ datetime[ms]        │\n",
       "╞═════════════════════╡\n",
       "│ 2022-10-17 00:00:00 │\n",
       "└─────────────────────┘"
      ]
     },
     "execution_count": 37,
     "metadata": {},
     "output_type": "execute_result"
    }
   ],
   "source": [
    "#last date in 2 week schedule\n",
    "dfs[\"product_buy\"].select(pl.col(\"timestamp\").max().dt.truncate(\"2w\").dt.offset_by(\"2w\"))"
   ]
  },
  {
   "cell_type": "code",
   "execution_count": 22,
   "id": "e388ca6a-d9ec-4134-af0a-a65f096093cc",
   "metadata": {},
   "outputs": [
    {
     "data": {
      "text/html": [
       "<div><style>\n",
       ".dataframe > thead > tr,\n",
       ".dataframe > tbody > tr {\n",
       "  text-align: right;\n",
       "  white-space: pre-wrap;\n",
       "}\n",
       "</style>\n",
       "<small>shape: (1, 8)</small><table border=\"1\" class=\"dataframe\"><thead><tr><th>client_id</th><th>week2</th><th>sku</th><th>category</th><th>name</th><th>price</th><th>n_skus</th><th>price_sum</th></tr><tr><td>i64</td><td>datetime[ms]</td><td>i64</td><td>i64</td><td>list[i16]</td><td>i64</td><td>u32</td><td>i64</td></tr></thead><tbody><tr><td>6324435</td><td>2022-05-30 00:00:00</td><td>165491</td><td>2047</td><td>[186, 55, … 186]</td><td>55</td><td>2</td><td>110</td></tr></tbody></table></div>"
      ],
      "text/plain": [
       "shape: (1, 8)\n",
       "┌───────────┬─────────────────────┬────────┬──────────┬──────────────────┬───────┬────────┬───────────┐\n",
       "│ client_id ┆ week2               ┆ sku    ┆ category ┆ name             ┆ price ┆ n_skus ┆ price_sum │\n",
       "│ ---       ┆ ---                 ┆ ---    ┆ ---      ┆ ---              ┆ ---   ┆ ---    ┆ ---       │\n",
       "│ i64       ┆ datetime[ms]        ┆ i64    ┆ i64      ┆ list[i16]        ┆ i64   ┆ u32    ┆ i64       │\n",
       "╞═══════════╪═════════════════════╪════════╪══════════╪══════════════════╪═══════╪════════╪═══════════╡\n",
       "│ 6324435   ┆ 2022-05-30 00:00:00 ┆ 165491 ┆ 2047     ┆ [186, 55, … 186] ┆ 55    ┆ 2      ┆ 110       │\n",
       "└───────────┴─────────────────────┴────────┴──────────┴──────────────────┴───────┴────────┴───────────┘"
      ]
     },
     "execution_count": 22,
     "metadata": {},
     "output_type": "execute_result"
    }
   ],
   "source": [
    "buy_client_2weekly_sku.filter(pl.col(\"client_id\")==6324435)"
   ]
  },
  {
   "cell_type": "markdown",
   "id": "354d3e9d-51aa-4256-902b-5e249f97636b",
   "metadata": {},
   "source": [
    "group by client\n",
    "order by date n_skus \n",
    "add shifted sku - lag 1 .. 4"
   ]
  },
  {
   "cell_type": "code",
   "execution_count": 30,
   "id": "9cbf6901-7af8-46f8-86ab-eb010b416bf8",
   "metadata": {},
   "outputs": [
    {
     "data": {
      "text/html": [
       "<div><style>\n",
       ".dataframe > thead > tr,\n",
       ".dataframe > tbody > tr {\n",
       "  text-align: right;\n",
       "  white-space: pre-wrap;\n",
       "}\n",
       "</style>\n",
       "<small>shape: (5, 15)</small><table border=\"1\" class=\"dataframe\"><thead><tr><th>client_id</th><th>week2</th><th>sku</th><th>category</th><th>name</th><th>price</th><th>n_skus</th><th>price_sum</th><th>sku_lag_1</th><th>category_lag_1</th><th>name_lag_1</th><th>price_lag_1</th><th>n_skus_lag_1</th><th>price_sum_lag_1</th><th>timestamp</th></tr><tr><td>i64</td><td>datetime[ms]</td><td>i64</td><td>i64</td><td>list[i16]</td><td>i64</td><td>u32</td><td>i64</td><td>i64</td><td>i64</td><td>list[i16]</td><td>i64</td><td>u32</td><td>i64</td><td>datetime[ms]</td></tr></thead><tbody><tr><td>14</td><td>2022-06-13 00:00:00</td><td>1104211</td><td>2405</td><td>[203, 167, … 195]</td><td>54</td><td>1</td><td>54</td><td>null</td><td>null</td><td>null</td><td>null</td><td>null</td><td>null</td><td>null</td></tr><tr><td>28</td><td>2022-09-05 00:00:00</td><td>471059</td><td>827</td><td>[118, 22, … 118]</td><td>78</td><td>1</td><td>78</td><td>null</td><td>null</td><td>null</td><td>null</td><td>null</td><td>null</td><td>null</td></tr><tr><td>36</td><td>2022-09-19 00:00:00</td><td>1068071</td><td>3709</td><td>[72, 138, … 123]</td><td>64</td><td>1</td><td>64</td><td>null</td><td>null</td><td>null</td><td>null</td><td>null</td><td>null</td><td>null</td></tr><tr><td>54</td><td>2022-07-11 00:00:00</td><td>507271</td><td>4628</td><td>[236, 47, … 231]</td><td>36</td><td>2</td><td>72</td><td>null</td><td>null</td><td>null</td><td>null</td><td>null</td><td>null</td><td>null</td></tr><tr><td>54</td><td>2022-09-05 00:00:00</td><td>958259</td><td>1051</td><td>[237, 14, … 14]</td><td>52</td><td>1</td><td>52</td><td>507271</td><td>4628</td><td>[236, 47, … 231]</td><td>36</td><td>2</td><td>72</td><td>null</td></tr></tbody></table></div>"
      ],
      "text/plain": [
       "shape: (5, 15)\n",
       "┌───────────┬─────────────────────┬─────────┬──────────┬───┬─────────────┬──────────────┬─────────────────┬──────────────┐\n",
       "│ client_id ┆ week2               ┆ sku     ┆ category ┆ … ┆ price_lag_1 ┆ n_skus_lag_1 ┆ price_sum_lag_1 ┆ timestamp    │\n",
       "│ ---       ┆ ---                 ┆ ---     ┆ ---      ┆   ┆ ---         ┆ ---          ┆ ---             ┆ ---          │\n",
       "│ i64       ┆ datetime[ms]        ┆ i64     ┆ i64      ┆   ┆ i64         ┆ u32          ┆ i64             ┆ datetime[ms] │\n",
       "╞═══════════╪═════════════════════╪═════════╪══════════╪═══╪═════════════╪══════════════╪═════════════════╪══════════════╡\n",
       "│ 14        ┆ 2022-06-13 00:00:00 ┆ 1104211 ┆ 2405     ┆ … ┆ null        ┆ null         ┆ null            ┆ null         │\n",
       "│ 28        ┆ 2022-09-05 00:00:00 ┆ 471059  ┆ 827      ┆ … ┆ null        ┆ null         ┆ null            ┆ null         │\n",
       "│ 36        ┆ 2022-09-19 00:00:00 ┆ 1068071 ┆ 3709     ┆ … ┆ null        ┆ null         ┆ null            ┆ null         │\n",
       "│ 54        ┆ 2022-07-11 00:00:00 ┆ 507271  ┆ 4628     ┆ … ┆ null        ┆ null         ┆ null            ┆ null         │\n",
       "│ 54        ┆ 2022-09-05 00:00:00 ┆ 958259  ┆ 1051     ┆ … ┆ 36          ┆ 2            ┆ 72              ┆ null         │\n",
       "└───────────┴─────────────────────┴─────────┴──────────┴───┴─────────────┴──────────────┴─────────────────┴──────────────┘"
      ]
     },
     "execution_count": 30,
     "metadata": {},
     "output_type": "execute_result"
    }
   ],
   "source": [
    "buy_client_2weekly_lags_extend.head()"
   ]
  },
  {
   "cell_type": "code",
   "execution_count": null,
   "id": "53ff00d9-df2d-460a-97c9-19920caa26a6",
   "metadata": {},
   "outputs": [],
   "source": []
  },
  {
   "cell_type": "markdown",
   "id": "49fc42f0-be02-435b-9836-0e7b7a3a7c7d",
   "metadata": {},
   "source": [
    "## Buy Client 2 weekly"
   ]
  },
  {
   "cell_type": "code",
   "execution_count": 29,
   "id": "bff050bc-4e95-4775-a867-674bd2891407",
   "metadata": {},
   "outputs": [],
   "source": []
  },
  {
   "cell_type": "code",
   "execution_count": 12,
   "id": "352ea544-32ce-4d0e-a7a5-7a89e79671fd",
   "metadata": {},
   "outputs": [],
   "source": [
    "def get_week_col(n_weeks):\n",
    "    return f\"week{n_weeks}\"\n",
    "\n",
    "def get_week_col_df(df:pl.DataFrame):\n",
    "    week_col = [c for c in df.columns if c.startswith(\"week\")][0]\n",
    "    return week_col\n",
    "\n",
    "def add_week_col(df:pl.DataFrame, n_weeks:int=1):\n",
    "    week_col = get_week_col(n_weeks)\n",
    "    df = df.with_columns(pl.col(\"timestamp\").dt.truncate(f\"{n_weeks}w\").alias(week_col))\n",
    "    return df\n",
    "\n",
    "\n",
    "def discretise_to_weeks(df:pl.DataFrame):\n",
    "    week_col = get_week_col_df(df)\n",
    "    df = (\n",
    "        df\n",
    "        .group_by(\"client_id\",week_col,\"sku\")\n",
    "        .agg(pl.len().alias(\"count\"))\n",
    "    )\n",
    "    return df\n",
    "\n",
    "def create_client_end_date(df: pl.DataFrame)->pl.DataFrame:\n",
    "    # only works for 2 week interval\n",
    "    clients = df.select(\"client_id\").unique()\n",
    "    df_end_date = clients.with_columns(week2=pl.datetime(2022,10,17,0,0,time_unit=\"ms\"))\n",
    "    return df_end_date\n",
    "\n",
    "\n",
    "def drop_multiple_skus(df):\n",
    "    week_col = get_week_col_df(df)\n",
    "    df = (\n",
    "        df\n",
    "        .group_by([\"client_id\",week_col])\n",
    "        .agg(pl.all().top_k_by(\"price_sum\",k=1))\n",
    "        .explode(pl.all().exclude([\"client_id\",week_col]))\n",
    "    )\n",
    "    return df\n",
    "\n",
    "\n",
    "\n",
    "\n",
    "def add_lags(df: pl.DataFrame, n_lags: int):\n",
    "    week_col = get_week_col_df(df)\n",
    "    lags = [pl.all().exclude(\"client_id\",week_col).shift(1).over(\"client_id\").name.suffix(\"_lag_{i_lag+1}\") for i_lag in range(n_lags)]\n",
    "    df = (\n",
    "        df\n",
    "        .sort(\"client_id\",week_col)\n",
    "        .with_columns(lags)\n",
    "    )\n",
    "    return df\n",
    "\n",
    "    \n",
    "def create_discretised_buy(df):\n",
    "    n_weeks = 2\n",
    "    df_pb = add_week_col(df,n_weeks)\n",
    "    df_pb_2w = discretise_to_weeks(df_pb)\n",
    "    client_end_dates = create_client_end_date(df_pb_2w)\n",
    "    df_pb_2w_end= pl.concat((df_pb_2w,client_end_dates),how=\"diagonal\")\n",
    "    return df_pb_2w_end\n",
    "\n",
    "def upsample_weeks(df):\n",
    "    df_align= df.sort(\"client_id\",\"week2\").upsample(time_column=\"week2\",every=\"2w\",group_by=[\"client_id\"])\n",
    "    df_align_fill = df_align.with_columns(\n",
    "        pl.col(\"client_id\").fill_null(strategy=\"forward\"),\n",
    "        pl.col(\"sku\").fill_null(0),\n",
    "        pl.col(\"count\").fill_null(0))\n",
    "    \n",
    "    return df_align_fill"
   ]
  },
  {
   "cell_type": "code",
   "execution_count": 13,
   "id": "36a99128-2edf-4450-bd77-5b6e240c72a6",
   "metadata": {},
   "outputs": [
    {
     "data": {
      "text/html": [
       "<div><style>\n",
       ".dataframe > thead > tr,\n",
       ".dataframe > tbody > tr {\n",
       "  text-align: right;\n",
       "  white-space: pre-wrap;\n",
       "}\n",
       "</style>\n",
       "<small>shape: (5, 2)</small><table border=\"1\" class=\"dataframe\"><thead><tr><th>client_id</th><th>week2</th></tr><tr><td>i64</td><td>datetime[ms]</td></tr></thead><tbody><tr><td>18055358</td><td>2022-10-17 00:00:00</td></tr><tr><td>14682667</td><td>2022-10-17 00:00:00</td></tr><tr><td>19512171</td><td>2022-10-17 00:00:00</td></tr><tr><td>17962806</td><td>2022-10-17 00:00:00</td></tr><tr><td>17781284</td><td>2022-10-17 00:00:00</td></tr></tbody></table></div>"
      ],
      "text/plain": [
       "shape: (5, 2)\n",
       "┌───────────┬─────────────────────┐\n",
       "│ client_id ┆ week2               │\n",
       "│ ---       ┆ ---                 │\n",
       "│ i64       ┆ datetime[ms]        │\n",
       "╞═══════════╪═════════════════════╡\n",
       "│ 18055358  ┆ 2022-10-17 00:00:00 │\n",
       "│ 14682667  ┆ 2022-10-17 00:00:00 │\n",
       "│ 19512171  ┆ 2022-10-17 00:00:00 │\n",
       "│ 17962806  ┆ 2022-10-17 00:00:00 │\n",
       "│ 17781284  ┆ 2022-10-17 00:00:00 │\n",
       "└───────────┴─────────────────────┘"
      ]
     },
     "execution_count": 13,
     "metadata": {},
     "output_type": "execute_result"
    }
   ],
   "source": [
    "df_pb = add_week_col(dfs[\"product_buy\"],2)\n",
    "df_pb_2w = discretise_to_weeks(df_pb)\n",
    "client_end_dates = create_client_end_date(df_pb_2w)\n",
    "df_pb_2w_end= pl.concat((df_pb_2w,client_end_dates),how=\"diagonal\")\n",
    "df_pb_2w.head()\n",
    "client_end_dates.head()"
   ]
  },
  {
   "cell_type": "code",
   "execution_count": 15,
   "id": "2eea6523-f5a7-4bb3-b666-4defced1cb31",
   "metadata": {},
   "outputs": [],
   "source": [
    "df_pb_hist=create_discretised_buy(dfs[\"product_buy\"])"
   ]
  },
  {
   "cell_type": "code",
   "execution_count": 18,
   "id": "59c70932",
   "metadata": {},
   "outputs": [
    {
     "data": {
      "text/html": [
       "<div><style>\n",
       ".dataframe > thead > tr,\n",
       ".dataframe > tbody > tr {\n",
       "  text-align: right;\n",
       "  white-space: pre-wrap;\n",
       "}\n",
       "</style>\n",
       "<small>shape: (9, 3)</small><table border=\"1\" class=\"dataframe\"><thead><tr><th>statistic</th><th>client_id</th><th>week2</th></tr><tr><td>str</td><td>f64</td><td>f64</td></tr></thead><tbody><tr><td>&quot;count&quot;</td><td>750860.0</td><td>750860.0</td></tr><tr><td>&quot;null_count&quot;</td><td>0.0</td><td>0.0</td></tr><tr><td>&quot;mean&quot;</td><td>1.1940e7</td><td>1.252176</td></tr><tr><td>&quot;std&quot;</td><td>6.8857e6</td><td>0.683817</td></tr><tr><td>&quot;min&quot;</td><td>14.0</td><td>1.0</td></tr><tr><td>&quot;25%&quot;</td><td>5.979306e6</td><td>1.0</td></tr><tr><td>&quot;50%&quot;</td><td>1.1934371e7</td><td>1.0</td></tr><tr><td>&quot;75%&quot;</td><td>1.7895368e7</td><td>1.0</td></tr><tr><td>&quot;max&quot;</td><td>2.3875234e7</td><td>11.0</td></tr></tbody></table></div>"
      ],
      "text/plain": [
       "shape: (9, 3)\n",
       "┌────────────┬─────────────┬──────────┐\n",
       "│ statistic  ┆ client_id   ┆ week2    │\n",
       "│ ---        ┆ ---         ┆ ---      │\n",
       "│ str        ┆ f64         ┆ f64      │\n",
       "╞════════════╪═════════════╪══════════╡\n",
       "│ count      ┆ 750860.0    ┆ 750860.0 │\n",
       "│ null_count ┆ 0.0         ┆ 0.0      │\n",
       "│ mean       ┆ 1.1940e7    ┆ 1.252176 │\n",
       "│ std        ┆ 6.8857e6    ┆ 0.683817 │\n",
       "│ min        ┆ 14.0        ┆ 1.0      │\n",
       "│ 25%        ┆ 5.979306e6  ┆ 1.0      │\n",
       "│ 50%        ┆ 1.1934371e7 ┆ 1.0      │\n",
       "│ 75%        ┆ 1.7895368e7 ┆ 1.0      │\n",
       "│ max        ┆ 2.3875234e7 ┆ 11.0     │\n",
       "└────────────┴─────────────┴──────────┘"
      ]
     },
     "execution_count": 18,
     "metadata": {},
     "output_type": "execute_result"
    }
   ],
   "source": [
    "df_pb_2w.group_by(\"client_id\").agg(pl.col(\"week2\").n_unique()).describe()\n"
   ]
  },
  {
   "cell_type": "code",
   "execution_count": 24,
   "id": "a82abe26-7a3c-474a-a15d-7ca5957226a7",
   "metadata": {},
   "outputs": [],
   "source": [
    "# how many date do customers buy on?\n",
    "zz = df_pb_hist.group_by(pl.col(\"client_id\")).agg(pl.col(\"week2\").n_unique())"
   ]
  },
  {
   "cell_type": "code",
   "execution_count": 31,
   "id": "db75c81d-ec1a-46bd-9bf8-66f32321af8f",
   "metadata": {},
   "outputs": [
    {
     "data": {
      "text/html": [
       "<div><style>\n",
       ".dataframe > thead > tr,\n",
       ".dataframe > tbody > tr {\n",
       "  text-align: right;\n",
       "  white-space: pre-wrap;\n",
       "}\n",
       "</style>\n",
       "<small>shape: (11, 4)</small><table border=\"1\" class=\"dataframe\"><thead><tr><th>week2</th><th>count</th><th>freq</th><th>cum_freq</th></tr><tr><td>u32</td><td>u32</td><td>f64</td><td>f64</td></tr></thead><tbody><tr><td>2</td><td>622946</td><td>0.829643</td><td>0.829643</td></tr><tr><td>3</td><td>90921</td><td>0.121089</td><td>0.950732</td></tr><tr><td>4</td><td>23173</td><td>0.030862</td><td>0.981594</td></tr><tr><td>5</td><td>7999</td><td>0.010653</td><td>0.992248</td></tr><tr><td>6</td><td>3162</td><td>0.004211</td><td>0.996459</td></tr><tr><td>7</td><td>1394</td><td>0.001857</td><td>0.998315</td></tr><tr><td>8</td><td>706</td><td>0.00094</td><td>0.999256</td></tr><tr><td>9</td><td>339</td><td>0.000451</td><td>0.999707</td></tr><tr><td>10</td><td>140</td><td>0.000186</td><td>0.999893</td></tr><tr><td>11</td><td>62</td><td>0.000083</td><td>0.999976</td></tr><tr><td>12</td><td>18</td><td>0.000024</td><td>1.0</td></tr></tbody></table></div>"
      ],
      "text/plain": [
       "shape: (11, 4)\n",
       "┌───────┬────────┬──────────┬──────────┐\n",
       "│ week2 ┆ count  ┆ freq     ┆ cum_freq │\n",
       "│ ---   ┆ ---    ┆ ---      ┆ ---      │\n",
       "│ u32   ┆ u32    ┆ f64      ┆ f64      │\n",
       "╞═══════╪════════╪══════════╪══════════╡\n",
       "│ 2     ┆ 622946 ┆ 0.829643 ┆ 0.829643 │\n",
       "│ 3     ┆ 90921  ┆ 0.121089 ┆ 0.950732 │\n",
       "│ 4     ┆ 23173  ┆ 0.030862 ┆ 0.981594 │\n",
       "│ 5     ┆ 7999   ┆ 0.010653 ┆ 0.992248 │\n",
       "│ 6     ┆ 3162   ┆ 0.004211 ┆ 0.996459 │\n",
       "│ 7     ┆ 1394   ┆ 0.001857 ┆ 0.998315 │\n",
       "│ 8     ┆ 706    ┆ 0.00094  ┆ 0.999256 │\n",
       "│ 9     ┆ 339    ┆ 0.000451 ┆ 0.999707 │\n",
       "│ 10    ┆ 140    ┆ 0.000186 ┆ 0.999893 │\n",
       "│ 11    ┆ 62     ┆ 0.000083 ┆ 0.999976 │\n",
       "│ 12    ┆ 18     ┆ 0.000024 ┆ 1.0      │\n",
       "└───────┴────────┴──────────┴──────────┘"
      ]
     },
     "execution_count": 31,
     "metadata": {},
     "output_type": "execute_result"
    }
   ],
   "source": [
    "(\n",
    "    zz\n",
    "    .get_column(\"week2\")\n",
    "    .value_counts(sort=True)\n",
    "    .with_columns(freq=pl.col(\"count\")/pl.col(\"count\").sum())\n",
    "    .with_columns(cum_freq=pl.col(\"freq\").cum_sum((),cum_freq_desc=pl.col(\"freq\").cum_sum())\n",
    "                 )"
   ]
  },
  {
   "cell_type": "markdown",
   "id": "69031e80-e834-40b2-b4ea-6beee8ebd4d5",
   "metadata": {},
   "source": [
    "83% of clients only appear in 1 2 week period, 12% in 2 and 3% in 3\n",
    "17% churn after 1 week,\n"
   ]
  },
  {
   "cell_type": "code",
   "execution_count": 32,
   "id": "91556303-7113-4d75-80a4-5750aa90bd50",
   "metadata": {},
   "outputs": [
    {
     "data": {
      "text/html": [
       "<div><style>\n",
       ".dataframe > thead > tr,\n",
       ".dataframe > tbody > tr {\n",
       "  text-align: right;\n",
       "  white-space: pre-wrap;\n",
       "}\n",
       "</style>\n",
       "<small>shape: (9, 5)</small><table border=\"1\" class=\"dataframe\"><thead><tr><th>statistic</th><th>client_id</th><th>week2</th><th>sku</th><th>count</th></tr><tr><td>str</td><td>f64</td><td>str</td><td>f64</td><td>f64</td></tr></thead><tbody><tr><td>&quot;count&quot;</td><td>2.133359e6</td><td>&quot;2133359&quot;</td><td>1.382499e6</td><td>1.382499e6</td></tr><tr><td>&quot;null_count&quot;</td><td>0.0</td><td>&quot;0&quot;</td><td>750860.0</td><td>750860.0</td></tr><tr><td>&quot;mean&quot;</td><td>1.1945e7</td><td>&quot;2022-08-25 08:13:57.664000&quot;</td><td>746619.218322</td><td>1.216852</td></tr><tr><td>&quot;std&quot;</td><td>6.8891e6</td><td>null</td><td>433606.530979</td><td>0.579051</td></tr><tr><td>&quot;min&quot;</td><td>14.0</td><td>&quot;2022-05-16 00:00:00&quot;</td><td>4.0</td><td>1.0</td></tr><tr><td>&quot;25%&quot;</td><td>5.974686e6</td><td>&quot;2022-07-11 00:00:00&quot;</td><td>369852.0</td><td>1.0</td></tr><tr><td>&quot;50%&quot;</td><td>1.1934908e7</td><td>&quot;2022-09-05 00:00:00&quot;</td><td>745901.0</td><td>1.0</td></tr><tr><td>&quot;75%&quot;</td><td>1.7914249e7</td><td>&quot;2022-10-17 00:00:00&quot;</td><td>1.121914e6</td><td>1.0</td></tr><tr><td>&quot;max&quot;</td><td>2.3875234e7</td><td>&quot;2022-10-17 00:00:00&quot;</td><td>1.495777e6</td><td>253.0</td></tr></tbody></table></div>"
      ],
      "text/plain": [
       "shape: (9, 5)\n",
       "┌────────────┬─────────────┬────────────────────────────┬───────────────┬────────────┐\n",
       "│ statistic  ┆ client_id   ┆ week2                      ┆ sku           ┆ count      │\n",
       "│ ---        ┆ ---         ┆ ---                        ┆ ---           ┆ ---        │\n",
       "│ str        ┆ f64         ┆ str                        ┆ f64           ┆ f64        │\n",
       "╞════════════╪═════════════╪════════════════════════════╪═══════════════╪════════════╡\n",
       "│ count      ┆ 2.133359e6  ┆ 2133359                    ┆ 1.382499e6    ┆ 1.382499e6 │\n",
       "│ null_count ┆ 0.0         ┆ 0                          ┆ 750860.0      ┆ 750860.0   │\n",
       "│ mean       ┆ 1.1945e7    ┆ 2022-08-25 08:13:57.664000 ┆ 746619.218322 ┆ 1.216852   │\n",
       "│ std        ┆ 6.8891e6    ┆ null                       ┆ 433606.530979 ┆ 0.579051   │\n",
       "│ min        ┆ 14.0        ┆ 2022-05-16 00:00:00        ┆ 4.0           ┆ 1.0        │\n",
       "│ 25%        ┆ 5.974686e6  ┆ 2022-07-11 00:00:00        ┆ 369852.0      ┆ 1.0        │\n",
       "│ 50%        ┆ 1.1934908e7 ┆ 2022-09-05 00:00:00        ┆ 745901.0      ┆ 1.0        │\n",
       "│ 75%        ┆ 1.7914249e7 ┆ 2022-10-17 00:00:00        ┆ 1.121914e6    ┆ 1.0        │\n",
       "│ max        ┆ 2.3875234e7 ┆ 2022-10-17 00:00:00        ┆ 1.495777e6    ┆ 253.0      │\n",
       "└────────────┴─────────────┴────────────────────────────┴───────────────┴────────────┘"
      ]
     },
     "execution_count": 32,
     "metadata": {},
     "output_type": "execute_result"
    }
   ],
   "source": [
    "df_pb_hist.describe()"
   ]
  },
  {
   "cell_type": "markdown",
   "id": "3cc14227-ee41-4c0b-8174-ab06d1f0e12c",
   "metadata": {},
   "source": [
    "5 months of data, so 10 2 week periods\n",
    "so could do attention up to 10 weeks\n"
   ]
  },
  {
   "cell_type": "code",
   "execution_count": 16,
   "id": "9399556f-c6a9-4661-86e5-fc7c8624b982",
   "metadata": {},
   "outputs": [],
   "source": [
    "df_pb_hist_upsample = upsample_weeks(df_pb_hist)"
   ]
  },
  {
   "cell_type": "code",
   "execution_count": 14,
   "id": "0fa2dc7c-c78a-4cd1-ba76-0bd5346a4be5",
   "metadata": {},
   "outputs": [
    {
     "data": {
      "text/html": [
       "<div><style>\n",
       ".dataframe > thead > tr,\n",
       ".dataframe > tbody > tr {\n",
       "  text-align: right;\n",
       "  white-space: pre-wrap;\n",
       "}\n",
       "</style>\n",
       "<small>shape: (4, 4)</small><table border=\"1\" class=\"dataframe\"><thead><tr><th>client_id</th><th>week2</th><th>sku</th><th>count</th></tr><tr><td>i64</td><td>datetime[ms]</td><td>i64</td><td>u32</td></tr></thead><tbody><tr><td>14121227</td><td>2022-08-22 00:00:00</td><td>1356466</td><td>2</td></tr><tr><td>14121227</td><td>2022-10-03 00:00:00</td><td>892331</td><td>1</td></tr><tr><td>14121227</td><td>2022-10-03 00:00:00</td><td>1234560</td><td>1</td></tr><tr><td>14121227</td><td>2022-10-17 00:00:00</td><td>null</td><td>null</td></tr></tbody></table></div>"
      ],
      "text/plain": [
       "shape: (4, 4)\n",
       "┌───────────┬─────────────────────┬─────────┬───────┐\n",
       "│ client_id ┆ week2               ┆ sku     ┆ count │\n",
       "│ ---       ┆ ---                 ┆ ---     ┆ ---   │\n",
       "│ i64       ┆ datetime[ms]        ┆ i64     ┆ u32   │\n",
       "╞═══════════╪═════════════════════╪═════════╪═══════╡\n",
       "│ 14121227  ┆ 2022-08-22 00:00:00 ┆ 1356466 ┆ 2     │\n",
       "│ 14121227  ┆ 2022-10-03 00:00:00 ┆ 892331  ┆ 1     │\n",
       "│ 14121227  ┆ 2022-10-03 00:00:00 ┆ 1234560 ┆ 1     │\n",
       "│ 14121227  ┆ 2022-10-17 00:00:00 ┆ null    ┆ null  │\n",
       "└───────────┴─────────────────────┴─────────┴───────┘"
      ]
     },
     "execution_count": 14,
     "metadata": {},
     "output_type": "execute_result"
    }
   ],
   "source": [
    "df_pb_hist.filter(pl.col(\"client_id\")==14121227)"
   ]
  },
  {
   "cell_type": "code",
   "execution_count": 13,
   "id": "55331f06-227c-4042-aa80-f879060e66ce",
   "metadata": {},
   "outputs": [
    {
     "data": {
      "text/html": [
       "<div><style>\n",
       ".dataframe > thead > tr,\n",
       ".dataframe > tbody > tr {\n",
       "  text-align: right;\n",
       "  white-space: pre-wrap;\n",
       "}\n",
       "</style>\n",
       "<small>shape: (6, 4)</small><table border=\"1\" class=\"dataframe\"><thead><tr><th>week2</th><th>client_id</th><th>sku</th><th>count</th></tr><tr><td>datetime[ms]</td><td>i64</td><td>i64</td><td>u32</td></tr></thead><tbody><tr><td>2022-08-22 00:00:00</td><td>14121227</td><td>1356466</td><td>2</td></tr><tr><td>2022-09-05 00:00:00</td><td>14121227</td><td>0</td><td>0</td></tr><tr><td>2022-09-19 00:00:00</td><td>14121227</td><td>0</td><td>0</td></tr><tr><td>2022-10-03 00:00:00</td><td>14121227</td><td>892331</td><td>1</td></tr><tr><td>2022-10-03 00:00:00</td><td>14121227</td><td>1234560</td><td>1</td></tr><tr><td>2022-10-17 00:00:00</td><td>14121227</td><td>0</td><td>0</td></tr></tbody></table></div>"
      ],
      "text/plain": [
       "shape: (6, 4)\n",
       "┌─────────────────────┬───────────┬─────────┬───────┐\n",
       "│ week2               ┆ client_id ┆ sku     ┆ count │\n",
       "│ ---                 ┆ ---       ┆ ---     ┆ ---   │\n",
       "│ datetime[ms]        ┆ i64       ┆ i64     ┆ u32   │\n",
       "╞═════════════════════╪═══════════╪═════════╪═══════╡\n",
       "│ 2022-08-22 00:00:00 ┆ 14121227  ┆ 1356466 ┆ 2     │\n",
       "│ 2022-09-05 00:00:00 ┆ 14121227  ┆ 0       ┆ 0     │\n",
       "│ 2022-09-19 00:00:00 ┆ 14121227  ┆ 0       ┆ 0     │\n",
       "│ 2022-10-03 00:00:00 ┆ 14121227  ┆ 892331  ┆ 1     │\n",
       "│ 2022-10-03 00:00:00 ┆ 14121227  ┆ 1234560 ┆ 1     │\n",
       "│ 2022-10-17 00:00:00 ┆ 14121227  ┆ 0       ┆ 0     │\n",
       "└─────────────────────┴───────────┴─────────┴───────┘"
      ]
     },
     "execution_count": 13,
     "metadata": {},
     "output_type": "execute_result"
    }
   ],
   "source": [
    "df_pb_hist_upsample.filter(pl.col(\"client_id\")==14121227)"
   ]
  },
  {
   "cell_type": "code",
   "execution_count": null,
   "id": "8fdad52b",
   "metadata": {},
   "outputs": [
    {
     "data": {
      "text/html": [
       "<div><style>\n",
       ".dataframe > thead > tr,\n",
       ".dataframe > tbody > tr {\n",
       "  text-align: right;\n",
       "  white-space: pre-wrap;\n",
       "}\n",
       "</style>\n",
       "<small>shape: (5, 3)</small><table border=\"1\" class=\"dataframe\"><thead><tr><th>client_id</th><th>week2</th><th>sku</th></tr><tr><td>i64</td><td>datetime[ms]</td><td>u32</td></tr></thead><tbody><tr><td>12637008</td><td>2022-10-17 00:00:00</td><td>1</td></tr><tr><td>22874308</td><td>2022-10-17 00:00:00</td><td>1</td></tr><tr><td>20505086</td><td>2022-10-17 00:00:00</td><td>1</td></tr><tr><td>4318081</td><td>2022-05-30 00:00:00</td><td>1</td></tr><tr><td>4591583</td><td>2022-06-13 00:00:00</td><td>2</td></tr></tbody></table></div>"
      ],
      "text/plain": [
       "shape: (5, 3)\n",
       "┌───────────┬─────────────────────┬─────┐\n",
       "│ client_id ┆ week2               ┆ sku │\n",
       "│ ---       ┆ ---                 ┆ --- │\n",
       "│ i64       ┆ datetime[ms]        ┆ u32 │\n",
       "╞═══════════╪═════════════════════╪═════╡\n",
       "│ 12637008  ┆ 2022-10-17 00:00:00 ┆ 1   │\n",
       "│ 22874308  ┆ 2022-10-17 00:00:00 ┆ 1   │\n",
       "│ 20505086  ┆ 2022-10-17 00:00:00 ┆ 1   │\n",
       "│ 4318081   ┆ 2022-05-30 00:00:00 ┆ 1   │\n",
       "│ 4591583   ┆ 2022-06-13 00:00:00 ┆ 2   │\n",
       "└───────────┴─────────────────────┴─────┘"
      ]
     },
     "execution_count": 23,
     "metadata": {},
     "output_type": "execute_result"
    }
   ],
   "source": [
    "df_train = df_pb_hist.group_by([\"client_id\",\"week2\"]).agg(pl.col(\"sku\").n_unique()).group_by()\n",
    "df_train.head()"
   ]
  },
  {
   "cell_type": "code",
   "execution_count": 46,
   "id": "5e742beb-514f-4435-b9d1-4a2b677b85ed",
   "metadata": {},
   "outputs": [
    {
     "data": {
      "text/html": [
       "<div><style>\n",
       ".dataframe > thead > tr,\n",
       ".dataframe > tbody > tr {\n",
       "  text-align: right;\n",
       "  white-space: pre-wrap;\n",
       "}\n",
       "</style>\n",
       "<small>shape: (5, 4)</small><table border=\"1\" class=\"dataframe\"><thead><tr><th>client_id</th><th>week2</th><th>sku</th><th>count</th></tr><tr><td>i64</td><td>datetime[ms]</td><td>i64</td><td>u32</td></tr></thead><tbody><tr><td>14121227</td><td>2022-10-03 00:00:00</td><td>892331</td><td>1</td></tr><tr><td>22679983</td><td>2022-08-08 00:00:00</td><td>377991</td><td>1</td></tr><tr><td>16067321</td><td>2022-06-27 00:00:00</td><td>1391318</td><td>1</td></tr><tr><td>942170</td><td>2022-10-03 00:00:00</td><td>72572</td><td>1</td></tr><tr><td>19701621</td><td>2022-08-22 00:00:00</td><td>454167</td><td>2</td></tr></tbody></table></div>"
      ],
      "text/plain": [
       "shape: (5, 4)\n",
       "┌───────────┬─────────────────────┬─────────┬───────┐\n",
       "│ client_id ┆ week2               ┆ sku     ┆ count │\n",
       "│ ---       ┆ ---                 ┆ ---     ┆ ---   │\n",
       "│ i64       ┆ datetime[ms]        ┆ i64     ┆ u32   │\n",
       "╞═══════════╪═════════════════════╪═════════╪═══════╡\n",
       "│ 14121227  ┆ 2022-10-03 00:00:00 ┆ 892331  ┆ 1     │\n",
       "│ 22679983  ┆ 2022-08-08 00:00:00 ┆ 377991  ┆ 1     │\n",
       "│ 16067321  ┆ 2022-06-27 00:00:00 ┆ 1391318 ┆ 1     │\n",
       "│ 942170    ┆ 2022-10-03 00:00:00 ┆ 72572   ┆ 1     │\n",
       "│ 19701621  ┆ 2022-08-22 00:00:00 ┆ 454167  ┆ 2     │\n",
       "└───────────┴─────────────────────┴─────────┴───────┘"
      ]
     },
     "execution_count": 46,
     "metadata": {},
     "output_type": "execute_result"
    }
   ],
   "source": [
    "df_pb_2w_end.head()"
   ]
  },
  {
   "cell_type": "code",
   "execution_count": 21,
   "id": "93206518-3d5f-4fd8-8b87-186016f5fa43",
   "metadata": {},
   "outputs": [
    {
     "data": {
      "text/html": [
       "<div><style>\n",
       ".dataframe > thead > tr,\n",
       ".dataframe > tbody > tr {\n",
       "  text-align: right;\n",
       "  white-space: pre-wrap;\n",
       "}\n",
       "</style>\n",
       "<small>shape: (4, 4)</small><table border=\"1\" class=\"dataframe\"><thead><tr><th>client_id</th><th>week2</th><th>sku</th><th>count</th></tr><tr><td>i64</td><td>datetime[ms]</td><td>i64</td><td>u32</td></tr></thead><tbody><tr><td>14121227</td><td>2022-10-03 00:00:00</td><td>892331</td><td>1</td></tr><tr><td>14121227</td><td>2022-10-03 00:00:00</td><td>1234560</td><td>1</td></tr><tr><td>14121227</td><td>2022-08-22 00:00:00</td><td>1356466</td><td>2</td></tr><tr><td>14121227</td><td>2022-10-17 00:00:00</td><td>null</td><td>null</td></tr></tbody></table></div>"
      ],
      "text/plain": [
       "shape: (4, 4)\n",
       "┌───────────┬─────────────────────┬─────────┬───────┐\n",
       "│ client_id ┆ week2               ┆ sku     ┆ count │\n",
       "│ ---       ┆ ---                 ┆ ---     ┆ ---   │\n",
       "│ i64       ┆ datetime[ms]        ┆ i64     ┆ u32   │\n",
       "╞═══════════╪═════════════════════╪═════════╪═══════╡\n",
       "│ 14121227  ┆ 2022-10-03 00:00:00 ┆ 892331  ┆ 1     │\n",
       "│ 14121227  ┆ 2022-10-03 00:00:00 ┆ 1234560 ┆ 1     │\n",
       "│ 14121227  ┆ 2022-08-22 00:00:00 ┆ 1356466 ┆ 2     │\n",
       "│ 14121227  ┆ 2022-10-17 00:00:00 ┆ null    ┆ null  │\n",
       "└───────────┴─────────────────────┴─────────┴───────┘"
      ]
     },
     "execution_count": 21,
     "metadata": {},
     "output_type": "execute_result"
    }
   ],
   "source": [
    "\n",
    "df_pb_2w_end.filter(pl.col(\"client_id\")==14121227)"
   ]
  },
  {
   "cell_type": "markdown",
   "id": "030bce38-f9af-4715-a0f3-b8b6dc82ebad",
   "metadata": {},
   "source": [
    "# Process\n",
    "\n",
    "1. create lags of 10 weeks\n",
    "2. join metadata\n",
    "   - category\n",
    "   - price\n",
    "3. generate lags\n",
    "4. \n"
   ]
  },
  {
   "cell_type": "markdown",
   "id": "7fcc26b9-e219-44c3-825c-b03f2ce8b1c5",
   "metadata": {},
   "source": [
    "# old processing"
   ]
  },
  {
   "cell_type": "code",
   "execution_count": 17,
   "id": "39a6f93c-282b-4351-9def-8b510e468b72",
   "metadata": {},
   "outputs": [
    {
     "data": {
      "text/html": [
       "<div><style>\n",
       ".dataframe > thead > tr,\n",
       ".dataframe > tbody > tr {\n",
       "  text-align: right;\n",
       "  white-space: pre-wrap;\n",
       "}\n",
       "</style>\n",
       "<small>shape: (20, 5)</small><table border=\"1\" class=\"dataframe\"><thead><tr><th>client_id</th><th>week2</th><th>len</th><th>week2_p1</th><th>week_diff</th></tr><tr><td>i64</td><td>datetime[ms]</td><td>u32</td><td>datetime[ms]</td><td>f64</td></tr></thead><tbody><tr><td>14</td><td>2022-06-13 00:00:00</td><td>2</td><td>null</td><td>null</td></tr><tr><td>28</td><td>2022-09-05 00:00:00</td><td>1</td><td>null</td><td>null</td></tr><tr><td>36</td><td>2022-09-19 00:00:00</td><td>1</td><td>null</td><td>null</td></tr><tr><td>54</td><td>2022-07-11 00:00:00</td><td>8</td><td>null</td><td>null</td></tr><tr><td>54</td><td>2022-09-05 00:00:00</td><td>1</td><td>2022-07-11 00:00:00</td><td>8.0</td></tr><tr><td>&hellip;</td><td>&hellip;</td><td>&hellip;</td><td>&hellip;</td><td>&hellip;</td></tr><tr><td>392</td><td>2022-05-30 00:00:00</td><td>1</td><td>null</td><td>null</td></tr><tr><td>468</td><td>2022-08-22 00:00:00</td><td>2</td><td>null</td><td>null</td></tr><tr><td>480</td><td>2022-08-08 00:00:00</td><td>2</td><td>null</td><td>null</td></tr><tr><td>583</td><td>2022-08-22 00:00:00</td><td>1</td><td>null</td><td>null</td></tr><tr><td>616</td><td>2022-10-03 00:00:00</td><td>1</td><td>null</td><td>null</td></tr></tbody></table></div>"
      ],
      "text/plain": [
       "shape: (20, 5)\n",
       "┌───────────┬─────────────────────┬─────┬─────────────────────┬───────────┐\n",
       "│ client_id ┆ week2               ┆ len ┆ week2_p1            ┆ week_diff │\n",
       "│ ---       ┆ ---                 ┆ --- ┆ ---                 ┆ ---       │\n",
       "│ i64       ┆ datetime[ms]        ┆ u32 ┆ datetime[ms]        ┆ f64       │\n",
       "╞═══════════╪═════════════════════╪═════╪═════════════════════╪═══════════╡\n",
       "│ 14        ┆ 2022-06-13 00:00:00 ┆ 2   ┆ null                ┆ null      │\n",
       "│ 28        ┆ 2022-09-05 00:00:00 ┆ 1   ┆ null                ┆ null      │\n",
       "│ 36        ┆ 2022-09-19 00:00:00 ┆ 1   ┆ null                ┆ null      │\n",
       "│ 54        ┆ 2022-07-11 00:00:00 ┆ 8   ┆ null                ┆ null      │\n",
       "│ 54        ┆ 2022-09-05 00:00:00 ┆ 1   ┆ 2022-07-11 00:00:00 ┆ 8.0       │\n",
       "│ …         ┆ …                   ┆ …   ┆ …                   ┆ …         │\n",
       "│ 392       ┆ 2022-05-30 00:00:00 ┆ 1   ┆ null                ┆ null      │\n",
       "│ 468       ┆ 2022-08-22 00:00:00 ┆ 2   ┆ null                ┆ null      │\n",
       "│ 480       ┆ 2022-08-08 00:00:00 ┆ 2   ┆ null                ┆ null      │\n",
       "│ 583       ┆ 2022-08-22 00:00:00 ┆ 1   ┆ null                ┆ null      │\n",
       "│ 616       ┆ 2022-10-03 00:00:00 ┆ 1   ┆ null                ┆ null      │\n",
       "└───────────┴─────────────────────┴─────┴─────────────────────┴───────────┘"
      ]
     },
     "execution_count": 17,
     "metadata": {},
     "output_type": "execute_result"
    }
   ],
   "source": [
    "buy_client_2weekly = (\n",
    "def \n",
    "    buy\n",
    "    .group_by(\"client_id\",\"week2\")\n",
    "    .agg(pl.len())\n",
    "    .sort(\"client_id\",\"week2\")\n",
    "    .with_columns(week2_p1=pl.col(\"week2\").shift().over(\"client_id\"))\n",
    "    .with_columns(week_diff= (pl.col(\"week2\") - pl.col(\"week2_p1\"))/pl.duration(weeks=1))\n",
    ")\n",
    "\n",
    "\n",
    "buy_client_2weekly_sku.head()\n"
   ]
  },
  {
   "cell_type": "code",
   "execution_count": 22,
   "id": "3cca0369-6324-4c1e-9d28-2fe305701f1d",
   "metadata": {},
   "outputs": [
    {
     "data": {
      "text/html": [
       "<div><style>\n",
       ".dataframe > thead > tr,\n",
       ".dataframe > tbody > tr {\n",
       "  text-align: right;\n",
       "  white-space: pre-wrap;\n",
       "}\n",
       "</style>\n",
       "<small>shape: (17, 6)</small><table border=\"1\" class=\"dataframe\"><thead><tr><th>statistic</th><th>client_id</th><th>week2</th><th>len</th><th>week2_p1</th><th>week_diff</th></tr><tr><td>str</td><td>f64</td><td>str</td><td>f64</td><td>str</td><td>f64</td></tr></thead><tbody><tr><td>&quot;count&quot;</td><td>940209.0</td><td>&quot;940209&quot;</td><td>940209.0</td><td>&quot;189349&quot;</td><td>189349.0</td></tr><tr><td>&quot;null_count&quot;</td><td>0.0</td><td>&quot;0&quot;</td><td>0.0</td><td>&quot;750860&quot;</td><td>750860.0</td></tr><tr><td>&quot;mean&quot;</td><td>1.1945e7</td><td>&quot;2022-07-25 22:08:05.914000&quot;</td><td>1.789279</td><td>&quot;2022-07-08 14:52:05.390000&quot;</td><td>5.239573</td></tr><tr><td>&quot;std&quot;</td><td>6.8886e6</td><td>null</td><td>2.247907</td><td>null</td><td>3.891879</td></tr><tr><td>&quot;min&quot;</td><td>14.0</td><td>&quot;2022-05-16 00:00:00&quot;</td><td>1.0</td><td>&quot;2022-05-16 00:00:00&quot;</td><td>2.0</td></tr><tr><td>&quot;1%&quot;</td><td>242575.0</td><td>&quot;2022-05-16 00:00:00&quot;</td><td>1.0</td><td>&quot;2022-05-16 00:00:00&quot;</td><td>2.0</td></tr><tr><td>&quot;10%&quot;</td><td>2.400914e6</td><td>&quot;2022-05-30 00:00:00&quot;</td><td>1.0</td><td>&quot;2022-05-30 00:00:00&quot;</td><td>2.0</td></tr><tr><td>&quot;20%&quot;</td><td>4.784676e6</td><td>&quot;2022-06-13 00:00:00&quot;</td><td>1.0</td><td>&quot;2022-05-30 00:00:00&quot;</td><td>2.0</td></tr><tr><td>&quot;30%&quot;</td><td>7.180166e6</td><td>&quot;2022-06-27 00:00:00&quot;</td><td>1.0</td><td>&quot;2022-06-13 00:00:00&quot;</td><td>2.0</td></tr><tr><td>&quot;40%&quot;</td><td>9.560891e6</td><td>&quot;2022-07-11 00:00:00&quot;</td><td>1.0</td><td>&quot;2022-06-27 00:00:00&quot;</td><td>2.0</td></tr><tr><td>&quot;50%&quot;</td><td>1.1940441e7</td><td>&quot;2022-07-25 00:00:00&quot;</td><td>1.0</td><td>&quot;2022-07-11 00:00:00&quot;</td><td>4.0</td></tr><tr><td>&quot;60%&quot;</td><td>1.4325717e7</td><td>&quot;2022-08-08 00:00:00&quot;</td><td>1.0</td><td>&quot;2022-07-11 00:00:00&quot;</td><td>4.0</td></tr><tr><td>&quot;70%&quot;</td><td>1.6705183e7</td><td>&quot;2022-08-22 00:00:00&quot;</td><td>2.0</td><td>&quot;2022-07-25 00:00:00&quot;</td><td>6.0</td></tr><tr><td>&quot;80%&quot;</td><td>1.9102085e7</td><td>&quot;2022-09-05 00:00:00&quot;</td><td>2.0</td><td>&quot;2022-08-08 00:00:00&quot;</td><td>8.0</td></tr><tr><td>&quot;90%&quot;</td><td>2.1498481e7</td><td>&quot;2022-09-19 00:00:00&quot;</td><td>3.0</td><td>&quot;2022-09-05 00:00:00&quot;</td><td>12.0</td></tr><tr><td>&quot;99%&quot;</td><td>2.3637185e7</td><td>&quot;2022-10-03 00:00:00&quot;</td><td>10.0</td><td>&quot;2022-09-19 00:00:00&quot;</td><td>18.0</td></tr><tr><td>&quot;max&quot;</td><td>2.3875234e7</td><td>&quot;2022-10-03 00:00:00&quot;</td><td>665.0</td><td>&quot;2022-09-19 00:00:00&quot;</td><td>20.0</td></tr></tbody></table></div>"
      ],
      "text/plain": [
       "shape: (17, 6)\n",
       "┌────────────┬─────────────┬────────────────────────────┬──────────┬────────────────────────────┬───────────┐\n",
       "│ statistic  ┆ client_id   ┆ week2                      ┆ len      ┆ week2_p1                   ┆ week_diff │\n",
       "│ ---        ┆ ---         ┆ ---                        ┆ ---      ┆ ---                        ┆ ---       │\n",
       "│ str        ┆ f64         ┆ str                        ┆ f64      ┆ str                        ┆ f64       │\n",
       "╞════════════╪═════════════╪════════════════════════════╪══════════╪════════════════════════════╪═══════════╡\n",
       "│ count      ┆ 940209.0    ┆ 940209                     ┆ 940209.0 ┆ 189349                     ┆ 189349.0  │\n",
       "│ null_count ┆ 0.0         ┆ 0                          ┆ 0.0      ┆ 750860                     ┆ 750860.0  │\n",
       "│ mean       ┆ 1.1945e7    ┆ 2022-07-25 22:08:05.914000 ┆ 1.789279 ┆ 2022-07-08 14:52:05.390000 ┆ 5.239573  │\n",
       "│ std        ┆ 6.8886e6    ┆ null                       ┆ 2.247907 ┆ null                       ┆ 3.891879  │\n",
       "│ min        ┆ 14.0        ┆ 2022-05-16 00:00:00        ┆ 1.0      ┆ 2022-05-16 00:00:00        ┆ 2.0       │\n",
       "│ 1%         ┆ 242575.0    ┆ 2022-05-16 00:00:00        ┆ 1.0      ┆ 2022-05-16 00:00:00        ┆ 2.0       │\n",
       "│ 10%        ┆ 2.400914e6  ┆ 2022-05-30 00:00:00        ┆ 1.0      ┆ 2022-05-30 00:00:00        ┆ 2.0       │\n",
       "│ 20%        ┆ 4.784676e6  ┆ 2022-06-13 00:00:00        ┆ 1.0      ┆ 2022-05-30 00:00:00        ┆ 2.0       │\n",
       "│ 30%        ┆ 7.180166e6  ┆ 2022-06-27 00:00:00        ┆ 1.0      ┆ 2022-06-13 00:00:00        ┆ 2.0       │\n",
       "│ 40%        ┆ 9.560891e6  ┆ 2022-07-11 00:00:00        ┆ 1.0      ┆ 2022-06-27 00:00:00        ┆ 2.0       │\n",
       "│ 50%        ┆ 1.1940441e7 ┆ 2022-07-25 00:00:00        ┆ 1.0      ┆ 2022-07-11 00:00:00        ┆ 4.0       │\n",
       "│ 60%        ┆ 1.4325717e7 ┆ 2022-08-08 00:00:00        ┆ 1.0      ┆ 2022-07-11 00:00:00        ┆ 4.0       │\n",
       "│ 70%        ┆ 1.6705183e7 ┆ 2022-08-22 00:00:00        ┆ 2.0      ┆ 2022-07-25 00:00:00        ┆ 6.0       │\n",
       "│ 80%        ┆ 1.9102085e7 ┆ 2022-09-05 00:00:00        ┆ 2.0      ┆ 2022-08-08 00:00:00        ┆ 8.0       │\n",
       "│ 90%        ┆ 2.1498481e7 ┆ 2022-09-19 00:00:00        ┆ 3.0      ┆ 2022-09-05 00:00:00        ┆ 12.0      │\n",
       "│ 99%        ┆ 2.3637185e7 ┆ 2022-10-03 00:00:00        ┆ 10.0     ┆ 2022-09-19 00:00:00        ┆ 18.0      │\n",
       "│ max        ┆ 2.3875234e7 ┆ 2022-10-03 00:00:00        ┆ 665.0    ┆ 2022-09-19 00:00:00        ┆ 20.0      │\n",
       "└────────────┴─────────────┴────────────────────────────┴──────────┴────────────────────────────┴───────────┘"
      ]
     },
     "execution_count": 22,
     "metadata": {},
     "output_type": "execute_result"
    }
   ],
   "source": [
    "buy_client_2weekly.describe(percentiles = [0.01,0.1,.2,.3,.4,.5,.6,.7,.8,.9,.99])"
   ]
  },
  {
   "cell_type": "code",
   "execution_count": 29,
   "id": "cd32b55a-1c6d-4c6b-9a4f-7db6ff67db70",
   "metadata": {},
   "outputs": [
    {
     "data": {
      "image/png": "[encoded data removed]"
     },
     "metadata": {
      "image/png": {
       "height": 480,
       "width": 640
      }
     },
     "output_type": "display_data"
    }
   ],
   "source": [
    "p9.ggplot(buy_client_2weekly.select(\"week_diff\").drop_nulls().to_pandas(),p9.aes(x=\"week_diff\"))+p9.geom_histogram(bins=20)"
   ]
  },
  {
   "cell_type": "code",
   "execution_count": 20,
   "id": "7e6b3723-1996-45d6-9c72-e5563205e9b2",
   "metadata": {},
   "outputs": [
    {
     "data": {
      "text/html": [
       "<div><style>\n",
       ".dataframe > thead > tr,\n",
       ".dataframe > tbody > tr {\n",
       "  text-align: right;\n",
       "  white-space: pre-wrap;\n",
       "}\n",
       "</style>\n",
       "<small>shape: (13, 6)</small><table border=\"1\" class=\"dataframe\"><thead><tr><th>statistic</th><th>client_id</th><th>week2</th><th>len</th><th>week2_p1</th><th>week_diff</th></tr><tr><td>str</td><td>f64</td><td>str</td><td>f64</td><td>str</td><td>f64</td></tr></thead><tbody><tr><td>&quot;count&quot;</td><td>940209.0</td><td>&quot;940209&quot;</td><td>940209.0</td><td>&quot;189349&quot;</td><td>189349.0</td></tr><tr><td>&quot;null_count&quot;</td><td>0.0</td><td>&quot;0&quot;</td><td>0.0</td><td>&quot;750860&quot;</td><td>750860.0</td></tr><tr><td>&quot;mean&quot;</td><td>1.1945e7</td><td>&quot;2022-07-25 22:08:05.914000&quot;</td><td>1.789279</td><td>&quot;2022-07-08 14:52:05.390000&quot;</td><td>5.239573</td></tr><tr><td>&quot;std&quot;</td><td>6.8886e6</td><td>null</td><td>2.247907</td><td>null</td><td>3.891879</td></tr><tr><td>&quot;min&quot;</td><td>14.0</td><td>&quot;2022-05-16 00:00:00&quot;</td><td>1.0</td><td>&quot;2022-05-16 00:00:00&quot;</td><td>2.0</td></tr><tr><td>&hellip;</td><td>&hellip;</td><td>&hellip;</td><td>&hellip;</td><td>&hellip;</td><td>&hellip;</td></tr><tr><td>&quot;75%&quot;</td><td>1.7906976e7</td><td>&quot;2022-09-05 00:00:00&quot;</td><td>2.0</td><td>&quot;2022-08-08 00:00:00&quot;</td><td>8.0</td></tr><tr><td>&quot;90%&quot;</td><td>2.1498481e7</td><td>&quot;2022-09-19 00:00:00&quot;</td><td>3.0</td><td>&quot;2022-09-05 00:00:00&quot;</td><td>12.0</td></tr><tr><td>&quot;95%&quot;</td><td>2.2684651e7</td><td>&quot;2022-10-03 00:00:00&quot;</td><td>4.0</td><td>&quot;2022-09-05 00:00:00&quot;</td><td>14.0</td></tr><tr><td>&quot;99%&quot;</td><td>2.3637185e7</td><td>&quot;2022-10-03 00:00:00&quot;</td><td>10.0</td><td>&quot;2022-09-19 00:00:00&quot;</td><td>18.0</td></tr><tr><td>&quot;max&quot;</td><td>2.3875234e7</td><td>&quot;2022-10-03 00:00:00&quot;</td><td>665.0</td><td>&quot;2022-09-19 00:00:00&quot;</td><td>20.0</td></tr></tbody></table></div>"
      ],
      "text/plain": [
       "shape: (13, 6)\n",
       "┌────────────┬─────────────┬────────────────────────┬──────────┬───────────────────────┬───────────┐\n",
       "│ statistic  ┆ client_id   ┆ week2                  ┆ len      ┆ week2_p1              ┆ week_diff │\n",
       "│ ---        ┆ ---         ┆ ---                    ┆ ---      ┆ ---                   ┆ ---       │\n",
       "│ str        ┆ f64         ┆ str                    ┆ f64      ┆ str                   ┆ f64       │\n",
       "╞════════════╪═════════════╪════════════════════════╪══════════╪═══════════════════════╪═══════════╡\n",
       "│ count      ┆ 940209.0    ┆ 940209                 ┆ 940209.0 ┆ 189349                ┆ 189349.0  │\n",
       "│ null_count ┆ 0.0         ┆ 0                      ┆ 0.0      ┆ 750860                ┆ 750860.0  │\n",
       "│ mean       ┆ 1.1945e7    ┆ 2022-07-25             ┆ 1.789279 ┆ 2022-07-08            ┆ 5.239573  │\n",
       "│            ┆             ┆ 22:08:05.914000        ┆          ┆ 14:52:05.390000       ┆           │\n",
       "│ std        ┆ 6.8886e6    ┆ null                   ┆ 2.247907 ┆ null                  ┆ 3.891879  │\n",
       "│ min        ┆ 14.0        ┆ 2022-05-16 00:00:00    ┆ 1.0      ┆ 2022-05-16 00:00:00   ┆ 2.0       │\n",
       "│ …          ┆ …           ┆ …                      ┆ …        ┆ …                     ┆ …         │\n",
       "│ 75%        ┆ 1.7906976e7 ┆ 2022-09-05 00:00:00    ┆ 2.0      ┆ 2022-08-08 00:00:00   ┆ 8.0       │\n",
       "│ 90%        ┆ 2.1498481e7 ┆ 2022-09-19 00:00:00    ┆ 3.0      ┆ 2022-09-05 00:00:00   ┆ 12.0      │\n",
       "│ 95%        ┆ 2.2684651e7 ┆ 2022-10-03 00:00:00    ┆ 4.0      ┆ 2022-09-05 00:00:00   ┆ 14.0      │\n",
       "│ 99%        ┆ 2.3637185e7 ┆ 2022-10-03 00:00:00    ┆ 10.0     ┆ 2022-09-19 00:00:00   ┆ 18.0      │\n",
       "│ max        ┆ 2.3875234e7 ┆ 2022-10-03 00:00:00    ┆ 665.0    ┆ 2022-09-19 00:00:00   ┆ 20.0      │\n",
       "└────────────┴─────────────┴────────────────────────┴──────────┴───────────────────────┴───────────┘"
      ]
     },
     "execution_count": 20,
     "metadata": {},
     "output_type": "execute_result"
    }
   ],
   "source": [
    "buy_client_2weekly.describe(percentiles=[0.1,.25,.5,.75,.9,.95,.99])"
   ]
  },
  {
   "cell_type": "code",
   "execution_count": 30,
   "id": "33b908a3-6d86-4d45-a6f5-d4d4ac7b81af",
   "metadata": {},
   "outputs": [
    {
     "data": {
      "text/plain": [
       "0.7986096708285073"
      ]
     },
     "execution_count": 30,
     "metadata": {},
     "output_type": "execute_result"
    }
   ],
   "source": [
    "750860.0/(750860.0+189349.)"
   ]
  },
  {
   "cell_type": "markdown",
   "id": "1be790df-a82c-43d9-b230-94612aad2733",
   "metadata": {},
   "source": [
    "80% only have a single purchase\n",
    "of the 20%, 75% have next purchase within 4 intervals (8 weeks)"
   ]
  },
  {
   "cell_type": "code",
   "execution_count": 27,
   "id": "355531b7-a9a2-4769-9b09-656bf7e2ff7b",
   "metadata": {},
   "outputs": [
    {
     "data": {
      "text/html": [
       "<div><style>\n",
       ".dataframe > thead > tr,\n",
       ".dataframe > tbody > tr {\n",
       "  text-align: right;\n",
       "  white-space: pre-wrap;\n",
       "}\n",
       "</style>\n",
       "<small>shape: (13, 4)</small><table border=\"1\" class=\"dataframe\"><thead><tr><th>statistic</th><th>week2</th><th>client_id</th><th>sku</th></tr><tr><td>str</td><td>str</td><td>f64</td><td>f64</td></tr></thead><tbody><tr><td>&quot;count&quot;</td><td>&quot;940209&quot;</td><td>940209.0</td><td>940209.0</td></tr><tr><td>&quot;null_count&quot;</td><td>&quot;0&quot;</td><td>0.0</td><td>0.0</td></tr><tr><td>&quot;mean&quot;</td><td>&quot;2022-07-25 22:08:05.914000&quot;</td><td>1.1945e7</td><td>1.470417</td></tr><tr><td>&quot;std&quot;</td><td>null</td><td>6.8886e6</td><td>1.62853</td></tr><tr><td>&quot;min&quot;</td><td>&quot;2022-05-16 00:00:00&quot;</td><td>14.0</td><td>1.0</td></tr><tr><td>&quot;10%&quot;</td><td>&quot;2022-05-30 00:00:00&quot;</td><td>2.400914e6</td><td>1.0</td></tr><tr><td>&quot;25%&quot;</td><td>&quot;2022-06-13 00:00:00&quot;</td><td>5.97761e6</td><td>1.0</td></tr><tr><td>&quot;50%&quot;</td><td>&quot;2022-07-25 00:00:00&quot;</td><td>1.1940441e7</td><td>1.0</td></tr><tr><td>&quot;75%&quot;</td><td>&quot;2022-09-05 00:00:00&quot;</td><td>1.7906976e7</td><td>1.0</td></tr><tr><td>&quot;90%&quot;</td><td>&quot;2022-09-19 00:00:00&quot;</td><td>2.1498481e7</td><td>2.0</td></tr><tr><td>&quot;95%&quot;</td><td>&quot;2022-10-03 00:00:00&quot;</td><td>2.2684651e7</td><td>3.0</td></tr><tr><td>&quot;99%&quot;</td><td>&quot;2022-10-03 00:00:00&quot;</td><td>2.3637185e7</td><td>8.0</td></tr><tr><td>&quot;max&quot;</td><td>&quot;2022-10-03 00:00:00&quot;</td><td>2.3875234e7</td><td>123.0</td></tr></tbody></table></div>"
      ],
      "text/plain": [
       "shape: (13, 4)\n",
       "┌────────────┬────────────────────────────┬─────────────┬──────────┐\n",
       "│ statistic  ┆ week2                      ┆ client_id   ┆ sku      │\n",
       "│ ---        ┆ ---                        ┆ ---         ┆ ---      │\n",
       "│ str        ┆ str                        ┆ f64         ┆ f64      │\n",
       "╞════════════╪════════════════════════════╪═════════════╪══════════╡\n",
       "│ count      ┆ 940209                     ┆ 940209.0    ┆ 940209.0 │\n",
       "│ null_count ┆ 0                          ┆ 0.0         ┆ 0.0      │\n",
       "│ mean       ┆ 2022-07-25 22:08:05.914000 ┆ 1.1945e7    ┆ 1.470417 │\n",
       "│ std        ┆ null                       ┆ 6.8886e6    ┆ 1.62853  │\n",
       "│ min        ┆ 2022-05-16 00:00:00        ┆ 14.0        ┆ 1.0      │\n",
       "│ 10%        ┆ 2022-05-30 00:00:00        ┆ 2.400914e6  ┆ 1.0      │\n",
       "│ 25%        ┆ 2022-06-13 00:00:00        ┆ 5.97761e6   ┆ 1.0      │\n",
       "│ 50%        ┆ 2022-07-25 00:00:00        ┆ 1.1940441e7 ┆ 1.0      │\n",
       "│ 75%        ┆ 2022-09-05 00:00:00        ┆ 1.7906976e7 ┆ 1.0      │\n",
       "│ 90%        ┆ 2022-09-19 00:00:00        ┆ 2.1498481e7 ┆ 2.0      │\n",
       "│ 95%        ┆ 2022-10-03 00:00:00        ┆ 2.2684651e7 ┆ 3.0      │\n",
       "│ 99%        ┆ 2022-10-03 00:00:00        ┆ 2.3637185e7 ┆ 8.0      │\n",
       "│ max        ┆ 2022-10-03 00:00:00        ┆ 2.3875234e7 ┆ 123.0    │\n",
       "└────────────┴────────────────────────────┴─────────────┴──────────┘"
      ]
     },
     "execution_count": 27,
     "metadata": {},
     "output_type": "execute_result"
    }
   ],
   "source": [
    "buy_2weekly.group_by(\"week2\",\"client_id\").agg(pl.col(\"sku\").n_unique()).describe(percentiles=[0.1,.25,.5,.75,.9,.95,.99])"
   ]
  },
  {
   "cell_type": "markdown",
   "id": "7ece822d-39c9-4e57-ae63-cef5c7dbd7b4",
   "metadata": {},
   "source": [
    "1. buy 2 weekly\n",
    "2. drop extra skus\n",
    "3. client_id | week | sku / 0 | price/0 |category\n",
    "4. add end date\n",
    "5. generate nulls in between\n",
    "6. add lags"
   ]
  },
  {
   "cell_type": "code",
   "execution_count": null,
   "id": "e3a4fd03-c951-40d2-a438-fb0c9da36836",
   "metadata": {},
   "outputs": [],
   "source": [
    "buy_2weekly.select(\"client_id"
   ]
  },
  {
   "cell_type": "code",
   "execution_count": 29,
   "id": "79513ecc-8fea-492d-8eca-ccf5060dec09",
   "metadata": {},
   "outputs": [
    {
     "data": {
      "text/html": [
       "<div><style>\n",
       ".dataframe > thead > tr,\n",
       ".dataframe > tbody > tr {\n",
       "  text-align: right;\n",
       "  white-space: pre-wrap;\n",
       "}\n",
       "</style>\n",
       "<small>shape: (13, 2)</small><table border=\"1\" class=\"dataframe\"><thead><tr><th>statistic</th><th>value</th></tr><tr><td>str</td><td>f64</td></tr></thead><tbody><tr><td>&quot;count&quot;</td><td>750860.0</td></tr><tr><td>&quot;null_count&quot;</td><td>0.0</td></tr><tr><td>&quot;mean&quot;</td><td>1.252176</td></tr><tr><td>&quot;std&quot;</td><td>0.683817</td></tr><tr><td>&quot;min&quot;</td><td>1.0</td></tr><tr><td>&quot;10%&quot;</td><td>1.0</td></tr><tr><td>&quot;25%&quot;</td><td>1.0</td></tr><tr><td>&quot;50%&quot;</td><td>1.0</td></tr><tr><td>&quot;75%&quot;</td><td>1.0</td></tr><tr><td>&quot;90%&quot;</td><td>2.0</td></tr><tr><td>&quot;95%&quot;</td><td>2.0</td></tr><tr><td>&quot;99%&quot;</td><td>4.0</td></tr><tr><td>&quot;max&quot;</td><td>11.0</td></tr></tbody></table></div>"
      ],
      "text/plain": [
       "shape: (13, 2)\n",
       "┌────────────┬──────────┐\n",
       "│ statistic  ┆ value    │\n",
       "│ ---        ┆ ---      │\n",
       "│ str        ┆ f64      │\n",
       "╞════════════╪══════════╡\n",
       "│ count      ┆ 750860.0 │\n",
       "│ null_count ┆ 0.0      │\n",
       "│ mean       ┆ 1.252176 │\n",
       "│ std        ┆ 0.683817 │\n",
       "│ min        ┆ 1.0      │\n",
       "│ 10%        ┆ 1.0      │\n",
       "│ 25%        ┆ 1.0      │\n",
       "│ 50%        ┆ 1.0      │\n",
       "│ 75%        ┆ 1.0      │\n",
       "│ 90%        ┆ 2.0      │\n",
       "│ 95%        ┆ 2.0      │\n",
       "│ 99%        ┆ 4.0      │\n",
       "│ max        ┆ 11.0     │\n",
       "└────────────┴──────────┘"
      ]
     },
     "execution_count": 29,
     "metadata": {},
     "output_type": "execute_result"
    }
   ],
   "source": [
    "buy_2weekly.group_by(\"client_id\").agg(pl.col(\"week2\").n_unique())[\"week2\"].describe(percentiles=[0.1,.25,.5,.75,.9,.95,.99])"
   ]
  },
  {
   "cell_type": "code",
   "execution_count": null,
   "id": "b7879910-8375-46d4-b70f-64ea5a5bf78b",
   "metadata": {},
   "outputs": [],
   "source": []
  },
  {
   "cell_type": "markdown",
   "id": "c7af5da0-9b5d-4c55-b652-e17b5e44ad73",
   "metadata": {},
   "source": [
    "75% of client-weeks and client-2 weeks have only a single sku.\n",
    "and 99% of clients have only 4 weeks"
   ]
  },
  {
   "cell_type": "code",
   "execution_count": null,
   "id": "2ae317c7-bfb7-4ee9-9abf-eb68aedc53ca",
   "metadata": {},
   "outputs": [],
   "source": []
  },
  {
   "cell_type": "code",
   "execution_count": null,
   "id": "c3b93a62-8983-43b7-94b5-1fdc67830c4b",
   "metadata": {},
   "outputs": [],
   "source": []
  },
  {
   "cell_type": "code",
   "execution_count": 34,
   "id": "e24c431b-ffce-4c52-99b0-acda9a5c2245",
   "metadata": {},
   "outputs": [
    {
     "data": {
      "text/html": [
       "<div><style>\n",
       ".dataframe > thead > tr,\n",
       ".dataframe > tbody > tr {\n",
       "  text-align: right;\n",
       "  white-space: pre-wrap;\n",
       "}\n",
       "</style>\n",
       "<small>shape: (5, 4)</small><table border=\"1\" class=\"dataframe\"><thead><tr><th>client_id</th><th>n_buy</th><th>timestamps</th><th>skus</th></tr><tr><td>i64</td><td>u32</td><td>list[datetime[ms]]</td><td>list[i64]</td></tr></thead><tbody><tr><td>2854819</td><td>1</td><td>[2022-10-10 09:50:15]</td><td>[1355828]</td></tr><tr><td>7210708</td><td>2</td><td>[2022-08-25 10:15:35, 2022-08-25 10:22:15]</td><td>[1401979, 1283094]</td></tr><tr><td>8928662</td><td>2</td><td>[2022-07-01 22:05:30, 2022-07-01 22:05:30]</td><td>[231713, 231713]</td></tr><tr><td>23837284</td><td>1</td><td>[2022-09-18 20:58:45]</td><td>[1435562]</td></tr><tr><td>19238874</td><td>1</td><td>[2022-09-29 12:46:15]</td><td>[148510]</td></tr></tbody></table></div>"
      ],
      "text/plain": [
       "shape: (5, 4)\n",
       "┌───────────┬───────┬─────────────────────────────────┬────────────────────┐\n",
       "│ client_id ┆ n_buy ┆ timestamps                      ┆ skus               │\n",
       "│ ---       ┆ ---   ┆ ---                             ┆ ---                │\n",
       "│ i64       ┆ u32   ┆ list[datetime[ms]]              ┆ list[i64]          │\n",
       "╞═══════════╪═══════╪═════════════════════════════════╪════════════════════╡\n",
       "│ 2854819   ┆ 1     ┆ [2022-10-10 09:50:15]           ┆ [1355828]          │\n",
       "│ 7210708   ┆ 2     ┆ [2022-08-25 10:15:35, 2022-08-… ┆ [1401979, 1283094] │\n",
       "│ 8928662   ┆ 2     ┆ [2022-07-01 22:05:30, 2022-07-… ┆ [231713, 231713]   │\n",
       "│ 23837284  ┆ 1     ┆ [2022-09-18 20:58:45]           ┆ [1435562]          │\n",
       "│ 19238874  ┆ 1     ┆ [2022-09-29 12:46:15]           ┆ [148510]           │\n",
       "└───────────┴───────┴─────────────────────────────────┴────────────────────┘"
      ]
     },
     "execution_count": 34,
     "metadata": {},
     "output_type": "execute_result"
    }
   ],
   "source": [
    "# do we have to sort by for each column\n",
    "aa = (\n",
    "    buy\n",
    "    .sort(\"timestamp\")\n",
    "    .group_by(\"client_id\")\n",
    "    .agg(n_buy=pl.len(), \n",
    "         timestamps = pl.col(\"timestamp\"),\n",
    "         skus=pl.col(\"sku\")\n",
    "    )\n",
    ")\n",
    "aa.head()"
   ]
  },
  {
   "cell_type": "code",
   "execution_count": 36,
   "id": "4d9a4c02-9861-4da1-b371-b51ebb4a576e",
   "metadata": {},
   "outputs": [
    {
     "name": "stdout",
     "output_type": "stream",
     "text": [
      "(42,) shape: (1, 4)\n",
      "┌───────────┬───────┬─────────────────────────────────┬─────────────────────────────┐\n",
      "│ client_id ┆ n_buy ┆ timestamps                      ┆ skus                        │\n",
      "│ ---       ┆ ---   ┆ ---                             ┆ ---                         │\n",
      "│ i64       ┆ u32   ┆ list[datetime[ms]]              ┆ list[i64]                   │\n",
      "╞═══════════╪═══════╪═════════════════════════════════╪═════════════════════════════╡\n",
      "│ 13159520  ┆ 42    ┆ [2022-08-24 11:25:35, 2022-08-… ┆ [624349, 444611, … 1407176] │\n",
      "└───────────┴───────┴─────────────────────────────────┴─────────────────────────────┘\n",
      "(1,) shape: (25, 4)\n",
      "┌───────────┬───────┬───────────────────────┬───────────┐\n",
      "│ client_id ┆ n_buy ┆ timestamps            ┆ skus      │\n",
      "│ ---       ┆ ---   ┆ ---                   ┆ ---       │\n",
      "│ i64       ┆ u32   ┆ list[datetime[ms]]    ┆ list[i64] │\n",
      "╞═══════════╪═══════╪═══════════════════════╪═══════════╡\n",
      "│ 2854819   ┆ 1     ┆ [2022-10-10 09:50:15] ┆ [1355828] │\n",
      "│ 23837284  ┆ 1     ┆ [2022-09-18 20:58:45] ┆ [1435562] │\n",
      "│ 19238874  ┆ 1     ┆ [2022-09-29 12:46:15] ┆ [148510]  │\n",
      "│ 3049325   ┆ 1     ┆ [2022-10-09 11:31:50] ┆ [124934]  │\n",
      "│ 16034623  ┆ 1     ┆ [2022-10-04 20:29:40] ┆ [420803]  │\n",
      "│ 15224301  ┆ 1     ┆ [2022-09-08 12:26:45] ┆ [560249]  │\n",
      "│ 15403739  ┆ 1     ┆ [2022-10-06 19:38:10] ┆ [731768]  │\n",
      "│ 17679038  ┆ 1     ┆ [2022-09-22 17:27:00] ┆ [106974]  │\n",
      "│ 11944942  ┆ 1     ┆ [2022-09-23 16:41:45] ┆ [57706]   │\n",
      "│ 5113832   ┆ 1     ┆ [2022-06-21 19:51:35] ┆ [812811]  │\n",
      "│ 6016593   ┆ 1     ┆ [2022-09-14 08:43:50] ┆ [746968]  │\n",
      "│ 2060720   ┆ 1     ┆ [2022-07-07 18:01:35] ┆ [905065]  │\n",
      "│ 20643668  ┆ 1     ┆ [2022-10-09 12:12:40] ┆ [290515]  │\n",
      "│ 12147439  ┆ 1     ┆ [2022-07-05 18:57:45] ┆ [413507]  │\n",
      "│ 22952756  ┆ 1     ┆ [2022-05-29 17:45:40] ┆ [195106]  │\n",
      "│ 22508914  ┆ 1     ┆ [2022-07-24 14:13:25] ┆ [456149]  │\n",
      "│ 13469664  ┆ 1     ┆ [2022-09-13 08:05:25] ┆ [429927]  │\n",
      "│ 4196012   ┆ 1     ┆ [2022-10-03 16:25:40] ┆ [806289]  │\n",
      "│ 5575636   ┆ 1     ┆ [2022-08-31 12:17:30] ┆ [718233]  │\n",
      "│ 21318455  ┆ 1     ┆ [2022-07-22 08:58:20] ┆ [75848]   │\n",
      "│ 6643395   ┆ 1     ┆ [2022-08-30 15:59:35] ┆ [522957]  │\n",
      "│ 21590838  ┆ 1     ┆ [2022-06-20 08:36:00] ┆ [1369412] │\n",
      "│ 19714713  ┆ 1     ┆ [2022-09-01 16:31:35] ┆ [81102]   │\n",
      "│ 7325432   ┆ 1     ┆ [2022-10-08 11:02:20] ┆ [351109]  │\n",
      "│ 2532727   ┆ 1     ┆ [2022-06-22 15:30:45] ┆ [326104]  │\n",
      "└───────────┴───────┴───────────────────────┴───────────┘\n",
      "(6,) shape: (2, 4)\n",
      "┌───────────┬───────┬─────────────────────────────────┬─────────────────────────────┐\n",
      "│ client_id ┆ n_buy ┆ timestamps                      ┆ skus                        │\n",
      "│ ---       ┆ ---   ┆ ---                             ┆ ---                         │\n",
      "│ i64       ┆ u32   ┆ list[datetime[ms]]              ┆ list[i64]                   │\n",
      "╞═══════════╪═══════╪═════════════════════════════════╪═════════════════════════════╡\n",
      "│ 16163733  ┆ 6     ┆ [2022-09-14 09:41:59, 2022-09-… ┆ [830638, 477421, … 870418]  │\n",
      "│ 16010245  ┆ 6     ┆ [2022-09-12 11:42:05, 2022-09-… ┆ [597898, 355044, … 1128262] │\n",
      "└───────────┴───────┴─────────────────────────────────┴─────────────────────────────┘\n",
      "(4,) shape: (4, 4)\n",
      "┌───────────┬───────┬─────────────────────────────────┬───────────────────────────────┐\n",
      "│ client_id ┆ n_buy ┆ timestamps                      ┆ skus                          │\n",
      "│ ---       ┆ ---   ┆ ---                             ┆ ---                           │\n",
      "│ i64       ┆ u32   ┆ list[datetime[ms]]              ┆ list[i64]                     │\n",
      "╞═══════════╪═══════╪═════════════════════════════════╪═══════════════════════════════╡\n",
      "│ 13875209  ┆ 4     ┆ [2022-06-24 06:50:10, 2022-06-… ┆ [1225023, 200279, … 335723]   │\n",
      "│ 7501854   ┆ 4     ┆ [2022-06-16 21:31:05, 2022-06-… ┆ [1234610, 1234610, … 989489]  │\n",
      "│ 15553157  ┆ 4     ┆ [2022-07-31 14:24:05, 2022-07-… ┆ [759279, 284807, … 284807]    │\n",
      "│ 15039209  ┆ 4     ┆ [2022-05-25 05:36:25, 2022-05-… ┆ [1397515, 1397515, … 1231941] │\n",
      "└───────────┴───────┴─────────────────────────────────┴───────────────────────────────┘\n",
      "(12,) shape: (1, 4)\n",
      "┌───────────┬───────┬─────────────────────────────────┬─────────────────────────────┐\n",
      "│ client_id ┆ n_buy ┆ timestamps                      ┆ skus                        │\n",
      "│ ---       ┆ ---   ┆ ---                             ┆ ---                         │\n",
      "│ i64       ┆ u32   ┆ list[datetime[ms]]              ┆ list[i64]                   │\n",
      "╞═══════════╪═══════╪═════════════════════════════════╪═════════════════════════════╡\n",
      "│ 16551480  ┆ 12    ┆ [2022-07-26 23:43:20, 2022-09-… ┆ [511369, 739745, … 1461221] │\n",
      "└───────────┴───────┴─────────────────────────────────┴─────────────────────────────┘\n",
      "(8,) shape: (2, 4)\n",
      "┌───────────┬───────┬─────────────────────────────────┬───────────────────────────────┐\n",
      "│ client_id ┆ n_buy ┆ timestamps                      ┆ skus                          │\n",
      "│ ---       ┆ ---   ┆ ---                             ┆ ---                           │\n",
      "│ i64       ┆ u32   ┆ list[datetime[ms]]              ┆ list[i64]                     │\n",
      "╞═══════════╪═══════╪═════════════════════════════════╪═══════════════════════════════╡\n",
      "│ 18716655  ┆ 8     ┆ [2022-07-28 15:01:00, 2022-07-… ┆ [1491381, 1491381, … 376152]  │\n",
      "│ 1460511   ┆ 8     ┆ [2022-07-09 06:21:25, 2022-07-… ┆ [1075003, 1075003, … 1406913] │\n",
      "└───────────┴───────┴─────────────────────────────────┴───────────────────────────────┘\n",
      "(5,) shape: (1, 4)\n",
      "┌───────────┬───────┬─────────────────────────────────┬────────────────────────────┐\n",
      "│ client_id ┆ n_buy ┆ timestamps                      ┆ skus                       │\n",
      "│ ---       ┆ ---   ┆ ---                             ┆ ---                        │\n",
      "│ i64       ┆ u32   ┆ list[datetime[ms]]              ┆ list[i64]                  │\n",
      "╞═══════════╪═══════╪═════════════════════════════════╪════════════════════════════╡\n",
      "│ 16146825  ┆ 5     ┆ [2022-09-11 15:32:30, 2022-09-… ┆ [536153, 536153, … 272245] │\n",
      "└───────────┴───────┴─────────────────────────────────┴────────────────────────────┘\n",
      "(3,) shape: (3, 4)\n",
      "┌───────────┬───────┬─────────────────────────────────┬─────────────────────────────┐\n",
      "│ client_id ┆ n_buy ┆ timestamps                      ┆ skus                        │\n",
      "│ ---       ┆ ---   ┆ ---                             ┆ ---                         │\n",
      "│ i64       ┆ u32   ┆ list[datetime[ms]]              ┆ list[i64]                   │\n",
      "╞═══════════╪═══════╪═════════════════════════════════╪═════════════════════════════╡\n",
      "│ 13547133  ┆ 3     ┆ [2022-06-01 09:41:55, 2022-07-… ┆ [1306622, 547034, 342137]   │\n",
      "│ 2179097   ┆ 3     ┆ [2022-08-17 08:54:40, 2022-08-… ┆ [1050024, 1050024, 1050024] │\n",
      "│ 3483735   ┆ 3     ┆ [2022-07-02 05:46:20, 2022-07-… ┆ [288050, 579673, 1111188]   │\n",
      "└───────────┴───────┴─────────────────────────────────┴─────────────────────────────┘\n",
      "(2,) shape: (11, 4)\n",
      "┌───────────┬───────┬─────────────────────────────────┬────────────────────┐\n",
      "│ client_id ┆ n_buy ┆ timestamps                      ┆ skus               │\n",
      "│ ---       ┆ ---   ┆ ---                             ┆ ---                │\n",
      "│ i64       ┆ u32   ┆ list[datetime[ms]]              ┆ list[i64]          │\n",
      "╞═══════════╪═══════╪═════════════════════════════════╪════════════════════╡\n",
      "│ 7210708   ┆ 2     ┆ [2022-08-25 10:15:35, 2022-08-… ┆ [1401979, 1283094] │\n",
      "│ 8928662   ┆ 2     ┆ [2022-07-01 22:05:30, 2022-07-… ┆ [231713, 231713]   │\n",
      "│ 20562784  ┆ 2     ┆ [2022-07-14 07:13:05, 2022-08-… ┆ [1433306, 26840]   │\n",
      "│ 23172060  ┆ 2     ┆ [2022-08-30 09:25:50, 2022-09-… ┆ [1375342, 710720]  │\n",
      "│ 17701576  ┆ 2     ┆ [2022-09-13 14:06:30, 2022-09-… ┆ [1444540, 380508]  │\n",
      "│ 8855522   ┆ 2     ┆ [2022-05-31 07:31:25, 2022-05-… ┆ [327085, 327085]   │\n",
      "│ 21965744  ┆ 2     ┆ [2022-08-03 07:33:55, 2022-08-… ┆ [1146652, 1146652] │\n",
      "│ 1355788   ┆ 2     ┆ [2022-10-06 14:26:10, 2022-10-… ┆ [351971, 1110476]  │\n",
      "│ 21353733  ┆ 2     ┆ [2022-07-22 09:51:40, 2022-07-… ┆ [1357161, 1357161] │\n",
      "│ 19018144  ┆ 2     ┆ [2022-07-18 21:16:05, 2022-09-… ┆ [1366573, 201445]  │\n",
      "│ 20783389  ┆ 2     ┆ [2022-09-27 18:42:35, 2022-09-… ┆ [549611, 549611]   │\n",
      "└───────────┴───────┴─────────────────────────────────┴────────────────────┘\n"
     ]
    }
   ],
   "source": [
    "for n_buy, clients in aa.head(50).group_by(\"n_buy\"):\n",
    "    print(n_buy, clients)\n",
    "    for ix in 0:n_buy - block_size\n",
    "    "
   ]
  },
  {
   "cell_type": "code",
   "execution_count": 35,
   "id": "a115f9e9-6418-44d9-a402-85107854397a",
   "metadata": {},
   "outputs": [
    {
     "data": {
      "text/html": [
       "<div><style>\n",
       ".dataframe > thead > tr,\n",
       ".dataframe > tbody > tr {\n",
       "  text-align: right;\n",
       "  white-space: pre-wrap;\n",
       "}\n",
       "</style>\n",
       "<small>shape: (2, 7)</small><table border=\"1\" class=\"dataframe\"><thead><tr><th>client_id</th><th>timestamp</th><th>sku</th><th>action</th><th>category</th><th>price</th><th>name</th></tr><tr><td>i64</td><td>datetime[ms]</td><td>i64</td><td>str</td><td>i64</td><td>i64</td><td>list[i16]</td></tr></thead><tbody><tr><td>7210708</td><td>2022-08-25 10:15:35</td><td>1401979</td><td>&quot;product_buy&quot;</td><td>1560</td><td>72</td><td>[38, 250, … 112]</td></tr><tr><td>7210708</td><td>2022-08-25 10:22:15</td><td>1283094</td><td>&quot;product_buy&quot;</td><td>1560</td><td>68</td><td>[194, 112, … 112]</td></tr></tbody></table></div>"
      ],
      "text/plain": [
       "shape: (2, 7)\n",
       "┌───────────┬─────────────────────┬─────────┬─────────────┬──────────┬───────┬───────────────────┐\n",
       "│ client_id ┆ timestamp           ┆ sku     ┆ action      ┆ category ┆ price ┆ name              │\n",
       "│ ---       ┆ ---                 ┆ ---     ┆ ---         ┆ ---      ┆ ---   ┆ ---               │\n",
       "│ i64       ┆ datetime[ms]        ┆ i64     ┆ str         ┆ i64      ┆ i64   ┆ list[i16]         │\n",
       "╞═══════════╪═════════════════════╪═════════╪═════════════╪══════════╪═══════╪═══════════════════╡\n",
       "│ 7210708   ┆ 2022-08-25 10:15:35 ┆ 1401979 ┆ product_buy ┆ 1560     ┆ 72    ┆ [38, 250, … 112]  │\n",
       "│ 7210708   ┆ 2022-08-25 10:22:15 ┆ 1283094 ┆ product_buy ┆ 1560     ┆ 68    ┆ [194, 112, … 112] │\n",
       "└───────────┴─────────────────────┴─────────┴─────────────┴──────────┴───────┴───────────────────┘"
      ]
     },
     "execution_count": 35,
     "metadata": {},
     "output_type": "execute_result"
    }
   ],
   "source": [
    "buy.filter(pl.col(\"client_id\")==7210708)"
   ]
  },
  {
   "cell_type": "code",
   "execution_count": null,
   "id": "f15d7f05-94f5-4638-91bc-699f999da412",
   "metadata": {},
   "outputs": [],
   "source": []
  }
 ],
 "metadata": {
  "kernelspec": {
   "display_name": "Python 3 (ipykernel)",
   "language": "python",
   "name": "python3"
  },
  "language_info": {
   "codemirror_mode": {
    "name": "ipython",
    "version": 3
   },
   "file_extension": ".py",
   "mimetype": "text/x-python",
   "name": "python",
   "nbconvert_exporter": "python",
   "pygments_lexer": "ipython3",
   "version": "3.12.3"
  }
 },
 "nbformat": 4,
 "nbformat_minor": 5
}
